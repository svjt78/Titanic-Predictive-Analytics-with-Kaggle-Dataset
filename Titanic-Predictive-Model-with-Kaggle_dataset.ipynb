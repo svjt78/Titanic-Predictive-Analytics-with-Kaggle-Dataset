{
 "cells": [
  {
   "cell_type": "code",
   "execution_count": 503,
   "metadata": {
    "collapsed": false
   },
   "outputs": [],
   "source": [
    "#import matplotlib\n",
    "import pandas as pd\n",
    "import numpy as np\n",
    "import math\n",
    "import random\n",
    "%matplotlib inline\n",
    "import matplotlib.pyplot as plt\n",
    "import seaborn as sns\n",
    "\n",
    "df = pd.read_csv(\"/Users/suvojitdutta/Documents/PYTHON/Files/Titanic/kaggle_train.csv\", encoding = \"ISO-8859-1\", error_bad_lines=False)\n"
   ]
  },
  {
   "cell_type": "code",
   "execution_count": 504,
   "metadata": {
    "collapsed": false
   },
   "outputs": [
    {
     "name": "stdout",
     "output_type": "stream",
     "text": [
      "Using matplotlib backend: MacOSX\n",
      "Populating the interactive namespace from numpy and matplotlib\n"
     ]
    },
    {
     "name": "stderr",
     "output_type": "stream",
     "text": [
      "WARNING: pylab import has clobbered these variables: ['random', 'var']\n",
      "`%matplotlib` prevents importing * from pylab and numpy\n"
     ]
    }
   ],
   "source": [
    "%pylab"
   ]
  },
  {
   "cell_type": "code",
   "execution_count": 505,
   "metadata": {
    "collapsed": false
   },
   "outputs": [
    {
     "name": "stdout",
     "output_type": "stream",
     "text": [
      "<class 'pandas.core.frame.DataFrame'>\n",
      "Int64Index: 891 entries, 0 to 890\n",
      "Data columns (total 12 columns):\n",
      "passengerId    891 non-null int64\n",
      "survived       891 non-null int64\n",
      "pclass         891 non-null int64\n",
      "name           891 non-null object\n",
      "sex            891 non-null object\n",
      "age            714 non-null float64\n",
      "sibsp          891 non-null int64\n",
      "parch          891 non-null int64\n",
      "ticket         891 non-null object\n",
      "fare           891 non-null float64\n",
      "cabin          204 non-null object\n",
      "embarked       889 non-null object\n",
      "dtypes: float64(2), int64(5), object(5)\n",
      "memory usage: 90.5+ KB\n"
     ]
    }
   ],
   "source": [
    "#remove rows that are null\n",
    "df = df[np.isfinite(df['pclass'])]\n",
    "df.info()"
   ]
  },
  {
   "cell_type": "code",
   "execution_count": 506,
   "metadata": {
    "collapsed": false
   },
   "outputs": [
    {
     "name": "stdout",
     "output_type": "stream",
     "text": [
      "Missing values per column:\n",
      "passengerId      0\n",
      "survived         0\n",
      "pclass           0\n",
      "name             0\n",
      "sex              0\n",
      "age            177\n",
      "sibsp            0\n",
      "parch            0\n",
      "ticket           0\n",
      "fare             0\n",
      "cabin          687\n",
      "embarked         2\n",
      "dtype: int64\n",
      "\n",
      "Missing values per row:\n",
      "0    1\n",
      "1    0\n",
      "2    1\n",
      "3    0\n",
      "4    1\n",
      "dtype: int64\n"
     ]
    }
   ],
   "source": [
    "#Create missing value report\n",
    "#Create a new function:\n",
    "def num_missing(x):\n",
    "  return sum(x.isnull())\n",
    "\n",
    "#Applying per column:\n",
    "print (\"Missing values per column:\")\n",
    "print (df.apply(num_missing, axis=0)) #axis=0 defines that function is to be applied on each column\n",
    "\n",
    "#Applying per row:\n",
    "print (\"\\nMissing values per row:\")\n",
    "print (df.apply(num_missing, axis=1).head()) #axis=1 defines that function is to be applied on each row"
   ]
  },
  {
   "cell_type": "code",
   "execution_count": 507,
   "metadata": {
    "collapsed": false
   },
   "outputs": [
    {
     "data": {
      "text/plain": [
       "3    491\n",
       "1    216\n",
       "2    184\n",
       "Name: pclass, dtype: int64"
      ]
     },
     "execution_count": 507,
     "metadata": {},
     "output_type": "execute_result"
    }
   ],
   "source": [
    "#Explore values of pclass \n",
    "df['pclass'].value_counts()"
   ]
  },
  {
   "cell_type": "code",
   "execution_count": 508,
   "metadata": {
    "collapsed": false
   },
   "outputs": [
    {
     "data": {
      "text/plain": [
       "<matplotlib.axes._subplots.AxesSubplot at 0x11dddbd68>"
      ]
     },
     "execution_count": 508,
     "metadata": {},
     "output_type": "execute_result"
    },
    {
     "data": {
      "image/png": "[encoded data removed]",
      "text/plain": [
       "<matplotlib.figure.Figure at 0x116b78e48>"
      ]
     },
     "metadata": {},
     "output_type": "display_data"
    }
   ],
   "source": [
    "#pclass histogram\n",
    "%matplotlib inline\n",
    "df['pclass'].hist(bins=20)\n"
   ]
  },
  {
   "cell_type": "code",
   "execution_count": 509,
   "metadata": {
    "collapsed": false
   },
   "outputs": [
    {
     "data": {
      "text/plain": [
       "0    549\n",
       "1    342\n",
       "Name: survived, dtype: int64"
      ]
     },
     "execution_count": 509,
     "metadata": {},
     "output_type": "execute_result"
    }
   ],
   "source": [
    "#Explore values of survived \n",
    "df['survived'].value_counts()"
   ]
  },
  {
   "cell_type": "code",
   "execution_count": 510,
   "metadata": {
    "collapsed": false
   },
   "outputs": [
    {
     "data": {
      "text/plain": [
       "<matplotlib.axes._subplots.AxesSubplot at 0x11bc28208>"
      ]
     },
     "execution_count": 510,
     "metadata": {},
     "output_type": "execute_result"
    },
    {
     "data": {
      "image/png": "[encoded data removed]",
      "text/plain": [
       "<matplotlib.figure.Figure at 0x11ded27f0>"
      ]
     },
     "metadata": {},
     "output_type": "display_data"
    }
   ],
   "source": [
    "#survived histogram\n",
    "%matplotlib inline\n",
    "df['survived'].hist(bins=20)"
   ]
  },
  {
   "cell_type": "code",
   "execution_count": 511,
   "metadata": {
    "collapsed": false
   },
   "outputs": [
    {
     "data": {
      "text/plain": [
       "male      577\n",
       "female    314\n",
       "Name: sex, dtype: int64"
      ]
     },
     "execution_count": 511,
     "metadata": {},
     "output_type": "execute_result"
    }
   ],
   "source": [
    "#Explore values of sex \n",
    "df['sex'].value_counts()"
   ]
  },
  {
   "cell_type": "code",
   "execution_count": 512,
   "metadata": {
    "collapsed": false
   },
   "outputs": [
    {
     "data": {
      "text/plain": [
       "24.00    30\n",
       "22.00    27\n",
       "18.00    26\n",
       "19.00    25\n",
       "28.00    25\n",
       "30.00    25\n",
       "21.00    24\n",
       "25.00    23\n",
       "36.00    22\n",
       "29.00    20\n",
       "27.00    18\n",
       "35.00    18\n",
       "26.00    18\n",
       "32.00    18\n",
       "31.00    17\n",
       "16.00    17\n",
       "23.00    15\n",
       "20.00    15\n",
       "34.00    15\n",
       "33.00    15\n",
       "39.00    14\n",
       "17.00    13\n",
       "40.00    13\n",
       "42.00    13\n",
       "45.00    12\n",
       "38.00    11\n",
       "50.00    10\n",
       "2.00     10\n",
       "4.00     10\n",
       "48.00     9\n",
       "         ..\n",
       "0.75      2\n",
       "45.50     2\n",
       "64.00     2\n",
       "30.50     2\n",
       "0.83      2\n",
       "32.50     2\n",
       "40.50     2\n",
       "71.00     2\n",
       "28.50     2\n",
       "63.00     2\n",
       "59.00     2\n",
       "57.00     2\n",
       "55.00     2\n",
       "70.00     2\n",
       "55.50     1\n",
       "24.50     1\n",
       "34.50     1\n",
       "0.92      1\n",
       "36.50     1\n",
       "0.42      1\n",
       "23.50     1\n",
       "12.00     1\n",
       "20.50     1\n",
       "14.50     1\n",
       "80.00     1\n",
       "74.00     1\n",
       "70.50     1\n",
       "66.00     1\n",
       "53.00     1\n",
       "0.67      1\n",
       "Name: age, dtype: int64"
      ]
     },
     "execution_count": 512,
     "metadata": {},
     "output_type": "execute_result"
    }
   ],
   "source": [
    "#Explore values of age \n",
    "df['age'].value_counts()\n",
    "#df[['age']].sort_values(by=[\"age\"], ascending=[True])"
   ]
  },
  {
   "cell_type": "code",
   "execution_count": 513,
   "metadata": {
    "collapsed": false
   },
   "outputs": [
    {
     "data": {
      "text/plain": [
       "<matplotlib.axes._subplots.AxesSubplot at 0x1214c3240>"
      ]
     },
     "execution_count": 513,
     "metadata": {},
     "output_type": "execute_result"
    },
    {
     "data": {
      "image/png": "[encoded data removed]",
      "text/plain": [
       "<matplotlib.figure.Figure at 0x11d107c88>"
      ]
     },
     "metadata": {},
     "output_type": "display_data"
    }
   ],
   "source": [
    "df['age'].hist(bins=100)"
   ]
  },
  {
   "cell_type": "markdown",
   "metadata": {},
   "source": [
    "# Impute NULL age"
   ]
  },
  {
   "cell_type": "code",
   "execution_count": 514,
   "metadata": {
    "collapsed": false
   },
   "outputs": [
    {
     "data": {
      "text/plain": [
       "29.69911764705882"
      ]
     },
     "execution_count": 514,
     "metadata": {},
     "output_type": "execute_result"
    }
   ],
   "source": [
    "#age mean\n",
    "df.age.mean()"
   ]
  },
  {
   "cell_type": "code",
   "execution_count": 515,
   "metadata": {
    "collapsed": false
   },
   "outputs": [
    {
     "data": {
      "text/plain": [
       "28.0"
      ]
     },
     "execution_count": 515,
     "metadata": {},
     "output_type": "execute_result"
    }
   ],
   "source": [
    "#age median\n",
    "df.age.median()"
   ]
  },
  {
   "cell_type": "code",
   "execution_count": 516,
   "metadata": {
    "collapsed": false
   },
   "outputs": [
    {
     "data": {
      "text/plain": [
       "0    24.0\n",
       "dtype: float64"
      ]
     },
     "execution_count": 516,
     "metadata": {},
     "output_type": "execute_result"
    }
   ],
   "source": [
    "df.age.mode()"
   ]
  },
  {
   "cell_type": "code",
   "execution_count": 517,
   "metadata": {
    "collapsed": false
   },
   "outputs": [],
   "source": [
    "#Filer ages of male\n",
    "df_male = df.loc[(df[\"sex\"]==\"male\")]\n"
   ]
  },
  {
   "cell_type": "code",
   "execution_count": 518,
   "metadata": {
    "collapsed": false
   },
   "outputs": [
    {
     "data": {
      "text/plain": [
       "28.00    18\n",
       "25.00    18\n",
       "19.00    18\n",
       "21.00    17\n",
       "36.00    15\n",
       "32.00    15\n",
       "22.00    15\n",
       "30.00    14\n",
       "24.00    14\n",
       "29.00    13\n",
       "18.00    13\n",
       "20.00    13\n",
       "26.00    13\n",
       "27.00    12\n",
       "34.00    11\n",
       "16.00    11\n",
       "35.00    10\n",
       "31.00    10\n",
       "23.00    10\n",
       "42.00    10\n",
       "33.00     9\n",
       "39.00     8\n",
       "47.00     7\n",
       "17.00     7\n",
       "40.00     7\n",
       "38.00     6\n",
       "45.00     6\n",
       "51.00     6\n",
       "44.00     6\n",
       "37.00     5\n",
       "         ..\n",
       "40.50     2\n",
       "8.00      2\n",
       "71.00     2\n",
       "0.83      2\n",
       "64.00     2\n",
       "59.00     2\n",
       "58.00     2\n",
       "45.50     2\n",
       "70.00     2\n",
       "6.00      1\n",
       "32.50     1\n",
       "10.00     1\n",
       "34.50     1\n",
       "12.00     1\n",
       "55.00     1\n",
       "15.00     1\n",
       "20.50     1\n",
       "30.50     1\n",
       "0.92      1\n",
       "24.50     1\n",
       "23.50     1\n",
       "0.42      1\n",
       "80.00     1\n",
       "74.00     1\n",
       "70.50     1\n",
       "66.00     1\n",
       "36.50     1\n",
       "57.00     1\n",
       "55.50     1\n",
       "0.67      1\n",
       "Name: age, dtype: int64"
      ]
     },
     "execution_count": 518,
     "metadata": {},
     "output_type": "execute_result"
    }
   ],
   "source": [
    "#Check age distribution for male\n",
    "df_male.age.value_counts()"
   ]
  },
  {
   "cell_type": "code",
   "execution_count": 519,
   "metadata": {
    "collapsed": false
   },
   "outputs": [],
   "source": [
    "#Check age distribution of survived male\n",
    "df_male_survived = df_male.loc[(df[\"survived\"]==1)]\n"
   ]
  },
  {
   "cell_type": "code",
   "execution_count": 520,
   "metadata": {
    "collapsed": false
   },
   "outputs": [
    {
     "data": {
      "text/plain": [
       "28.0"
      ]
     },
     "execution_count": 520,
     "metadata": {},
     "output_type": "execute_result"
    }
   ],
   "source": [
    "#Caluclate the median of survived male age\n",
    "avg_age_sur_male = df_male_survived.age.median()\n",
    "avg_age_sur_male"
   ]
  },
  {
   "cell_type": "code",
   "execution_count": 521,
   "metadata": {
    "collapsed": false
   },
   "outputs": [
    {
     "data": {
      "text/plain": [
       "29.0"
      ]
     },
     "execution_count": 521,
     "metadata": {},
     "output_type": "execute_result"
    }
   ],
   "source": [
    "#Calculate the median of dead male\n",
    "df_male_dead = df_male.loc[(df[\"survived\"]==0)]\n",
    "avg_age_dead_male = df_male_dead.age.median()\n",
    "avg_age_dead_male"
   ]
  },
  {
   "cell_type": "code",
   "execution_count": 522,
   "metadata": {
    "collapsed": false
   },
   "outputs": [],
   "source": [
    "#Filer ages of female\n",
    "df_female = df.loc[(df[\"sex\"]==\"female\")]\n"
   ]
  },
  {
   "cell_type": "code",
   "execution_count": 523,
   "metadata": {
    "collapsed": false
   },
   "outputs": [
    {
     "data": {
      "text/plain": [
       "24.00    16\n",
       "18.00    13\n",
       "22.00    12\n",
       "30.00    11\n",
       "35.00     8\n",
       "21.00     7\n",
       "28.00     7\n",
       "36.00     7\n",
       "29.00     7\n",
       "31.00     7\n",
       "19.00     7\n",
       "33.00     6\n",
       "16.00     6\n",
       "45.00     6\n",
       "17.00     6\n",
       "27.00     6\n",
       "2.00      6\n",
       "40.00     6\n",
       "39.00     6\n",
       "23.00     5\n",
       "50.00     5\n",
       "26.00     5\n",
       "25.00     5\n",
       "38.00     5\n",
       "4.00      5\n",
       "9.00      4\n",
       "34.00     4\n",
       "5.00      4\n",
       "41.00     4\n",
       "15.00     4\n",
       "         ..\n",
       "44.00     3\n",
       "54.00     3\n",
       "58.00     3\n",
       "42.00     3\n",
       "20.00     2\n",
       "13.00     2\n",
       "8.00      2\n",
       "6.00      2\n",
       "3.00      2\n",
       "1.00      2\n",
       "0.75      2\n",
       "43.00     2\n",
       "47.00     2\n",
       "49.00     2\n",
       "52.00     2\n",
       "63.00     2\n",
       "30.50     1\n",
       "56.00     1\n",
       "14.50     1\n",
       "62.00     1\n",
       "60.00     1\n",
       "57.00     1\n",
       "53.00     1\n",
       "7.00      1\n",
       "55.00     1\n",
       "37.00     1\n",
       "10.00     1\n",
       "11.00     1\n",
       "51.00     1\n",
       "32.50     1\n",
       "Name: age, dtype: int64"
      ]
     },
     "execution_count": 523,
     "metadata": {},
     "output_type": "execute_result"
    }
   ],
   "source": [
    "#Check age distribution for female\n",
    "df_female.age.value_counts()"
   ]
  },
  {
   "cell_type": "code",
   "execution_count": 524,
   "metadata": {
    "collapsed": false
   },
   "outputs": [
    {
     "data": {
      "text/plain": [
       "28.0"
      ]
     },
     "execution_count": 524,
     "metadata": {},
     "output_type": "execute_result"
    }
   ],
   "source": [
    "#Calculate the median of survived female\n",
    "df_female_survived = df_female.loc[(df[\"survived\"]==1)]\n",
    "avg_age_sur_female = df_female_survived.age.median()\n",
    "avg_age_sur_female"
   ]
  },
  {
   "cell_type": "code",
   "execution_count": 525,
   "metadata": {
    "collapsed": false
   },
   "outputs": [
    {
     "data": {
      "text/plain": [
       "24.5"
      ]
     },
     "execution_count": 525,
     "metadata": {},
     "output_type": "execute_result"
    }
   ],
   "source": [
    "#Calculate the median of dead female\n",
    "df_female_dead = df_female.loc[(df[\"survived\"]==0)]\n",
    "avg_age_dead_female = df_female_dead.age.median()\n",
    "avg_age_dead_female"
   ]
  },
  {
   "cell_type": "code",
   "execution_count": 526,
   "metadata": {
    "collapsed": true
   },
   "outputs": [],
   "source": [
    "# Summarizing the median of ages as calculated--\n",
    "#Survived Male median age : 27\n",
    "#Dead Male median age : 29\n",
    "#Survived Female median age : 28.5\n",
    "#Dead Female median age : 24.5\n"
   ]
  },
  {
   "cell_type": "code",
   "execution_count": 527,
   "metadata": {
    "collapsed": true
   },
   "outputs": [],
   "source": [
    "#Analyze the ratio of ages that are null in the buckets -\n",
    "#Male / Survived\n",
    "#Male / Dead\n",
    "#Female / Survived\n",
    "#Female / Dead"
   ]
  },
  {
   "cell_type": "code",
   "execution_count": 528,
   "metadata": {
    "collapsed": false
   },
   "outputs": [],
   "source": [
    "#Apply boolean indexing to filter the null ages in an interim dataframe-\n",
    "df_with_null_ages = df.loc[(df[\"age\"].isnull())]"
   ]
  },
  {
   "cell_type": "code",
   "execution_count": 529,
   "metadata": {
    "collapsed": false
   },
   "outputs": [],
   "source": [
    "#Function to calculate null age for male (Survived and Dead) and female (Survived and Dead)\n",
    "\n",
    "def fillNullAge(row):\n",
    "#    x=float('nan')\n",
    "    if math.isnan(row.age):\n",
    "#    if row.age.isnull():\n",
    "        if ((row.sex in ['male']) and (row.survived in [1])):\n",
    "            output = avg_age_sur_male\n",
    "        elif ((row.sex in ['male']) and (row.survived in [0])):\n",
    "            output = avg_age_dead_male\n",
    "        elif ((row.sex in ['female']) and (row.survived in [1])):\n",
    "            output = avg_age_sur_female\n",
    "        else:\n",
    "            output = avg_age_dead_female\n",
    "    else:\n",
    "        output = row.age\n",
    "\n",
    "    return output\n"
   ]
  },
  {
   "cell_type": "code",
   "execution_count": 530,
   "metadata": {
    "collapsed": false
   },
   "outputs": [],
   "source": [
    "#Impute Null age\n",
    "df.age = df.apply(lambda row: fillNullAge(row), axis=1)\n"
   ]
  },
  {
   "cell_type": "markdown",
   "metadata": {},
   "source": [
    "# Density Plots"
   ]
  },
  {
   "cell_type": "code",
   "execution_count": 531,
   "metadata": {
    "collapsed": false
   },
   "outputs": [
    {
     "name": "stderr",
     "output_type": "stream",
     "text": [
      "/Users/suvojitdutta/anaconda/lib/python3.5/site-packages/statsmodels/nonparametric/kdetools.py:20: VisibleDeprecationWarning: using a non-integer number instead of an integer will result in an error in the future\n",
      "  y = X[:m/2+1] + np.r_[0,X[m/2+1:],0]*1j\n"
     ]
    },
    {
     "data": {
      "text/plain": [
       "<matplotlib.axes._subplots.AxesSubplot at 0x12089a6d8>"
      ]
     },
     "execution_count": 531,
     "metadata": {},
     "output_type": "execute_result"
    },
    {
     "data": {
      "image/png": "[encoded data removed]",
      "text/plain": [
       "<matplotlib.figure.Figure at 0x120eb8b00>"
      ]
     },
     "metadata": {},
     "output_type": "display_data"
    }
   ],
   "source": [
    "sns.distplot(df.age)"
   ]
  },
  {
   "cell_type": "code",
   "execution_count": 532,
   "metadata": {
    "collapsed": false
   },
   "outputs": [
    {
     "name": "stderr",
     "output_type": "stream",
     "text": [
      "/Users/suvojitdutta/anaconda/lib/python3.5/site-packages/statsmodels/nonparametric/kdetools.py:20: VisibleDeprecationWarning: using a non-integer number instead of an integer will result in an error in the future\n",
      "  y = X[:m/2+1] + np.r_[0,X[m/2+1:],0]*1j\n"
     ]
    },
    {
     "data": {
      "text/plain": [
       "<matplotlib.axes._subplots.AxesSubplot at 0x12143aef0>"
      ]
     },
     "execution_count": 532,
     "metadata": {},
     "output_type": "execute_result"
    },
    {
     "data": {
      "image/png": "[encoded data removed]",
      "text/plain": [
       "<matplotlib.figure.Figure at 0x120eb9128>"
      ]
     },
     "metadata": {},
     "output_type": "display_data"
    }
   ],
   "source": [
    "#kernel density estimation (KDE) \n",
    "sns.kdeplot(df.age)"
   ]
  },
  {
   "cell_type": "code",
   "execution_count": 533,
   "metadata": {
    "collapsed": false
   },
   "outputs": [
    {
     "data": {
      "image/png": "[encoded data removed]",
      "text/plain": [
       "<matplotlib.figure.Figure at 0x11faba0f0>"
      ]
     },
     "metadata": {},
     "output_type": "display_data"
    }
   ],
   "source": [
    "#Explore age by gender; draw a violin plot\n",
    "import matplotlib.pyplot as plt\n",
    "import seaborn as sns \n",
    "sns.violinplot(df['sex'], df['age']) #Variable Plot\n",
    "sns.despine()"
   ]
  },
  {
   "cell_type": "code",
   "execution_count": 534,
   "metadata": {
    "collapsed": false
   },
   "outputs": [
    {
     "data": {
      "image/png": "[encoded data removed]",
      "text/plain": [
       "<matplotlib.figure.Figure at 0x11ef31828>"
      ]
     },
     "metadata": {},
     "output_type": "display_data"
    }
   ],
   "source": [
    "#Pie chart of number of survived by gender\n",
    "var=df.groupby(['sex']).sum().stack()\n",
    "temp=var.unstack()\n",
    "type(temp)\n",
    "x_list = temp['survived']\n",
    "label_list = temp.index\n",
    "pyplot.axis(\"equal\") #The pie chart is oval by default. To make it a circle use pyplot.axis(\"equal\")\n",
    "#To show the percentage of each pie slice, pass an output format to the autopctparameter \n",
    "plt.pie(x_list,labels=label_list,autopct=\"%1.1f%%\") \n",
    "plt.title(\"survived by gender\")\n",
    "plt.show()"
   ]
  },
  {
   "cell_type": "code",
   "execution_count": 535,
   "metadata": {
    "collapsed": false
   },
   "outputs": [
    {
     "data": {
      "image/png": "[encoded data removed]",
      "text/plain": [
       "<matplotlib.figure.Figure at 0x120b2f3c8>"
      ]
     },
     "metadata": {},
     "output_type": "display_data"
    }
   ],
   "source": [
    "#Pie chart of number of survived by pclass\n",
    "var=df.groupby(['pclass']).sum().stack()\n",
    "temp=var.unstack()\n",
    "type(temp)\n",
    "x_list = temp['survived']\n",
    "label_list = temp.index\n",
    "pyplot.axis(\"equal\") #The pie chart is oval by default. To make it a circle use pyplot.axis(\"equal\")\n",
    "#To show the percentage of each pie slice, pass an output format to the autopctparameter \n",
    "plt.pie(x_list,labels=label_list,autopct=\"%1.1f%%\") \n",
    "plt.title(\"survived by pclass\")\n",
    "plt.show()"
   ]
  },
  {
   "cell_type": "code",
   "execution_count": 536,
   "metadata": {
    "collapsed": true
   },
   "outputs": [],
   "source": [
    "#Function to seperate last name from name column\n",
    "def findLastName(x):\n",
    "    name_str = str(x)\n",
    "    output = []\n",
    "    output = name_str.split(\",\")\n",
    "\n",
    "    return output[0]\n",
    "\n",
    "\n"
   ]
  },
  {
   "cell_type": "code",
   "execution_count": 537,
   "metadata": {
    "collapsed": false
   },
   "outputs": [],
   "source": [
    "#Create Last Name column\n",
    "df['lastname'] = df.name.apply(findLastName)\n"
   ]
  },
  {
   "cell_type": "code",
   "execution_count": 538,
   "metadata": {
    "collapsed": false
   },
   "outputs": [
    {
     "data": {
      "text/html": [
       "<div>\n",
       "<table border=\"1\" class=\"dataframe\">\n",
       "  <thead>\n",
       "    <tr style=\"text-align: right;\">\n",
       "      <th></th>\n",
       "      <th>age</th>\n",
       "    </tr>\n",
       "  </thead>\n",
       "  <tbody>\n",
       "    <tr>\n",
       "      <th>count</th>\n",
       "      <td>891.000000</td>\n",
       "    </tr>\n",
       "    <tr>\n",
       "      <th>mean</th>\n",
       "      <td>29.416016</td>\n",
       "    </tr>\n",
       "    <tr>\n",
       "      <th>std</th>\n",
       "      <td>13.027527</td>\n",
       "    </tr>\n",
       "    <tr>\n",
       "      <th>min</th>\n",
       "      <td>0.420000</td>\n",
       "    </tr>\n",
       "    <tr>\n",
       "      <th>25%</th>\n",
       "      <td>22.000000</td>\n",
       "    </tr>\n",
       "    <tr>\n",
       "      <th>50%</th>\n",
       "      <td>29.000000</td>\n",
       "    </tr>\n",
       "    <tr>\n",
       "      <th>75%</th>\n",
       "      <td>35.000000</td>\n",
       "    </tr>\n",
       "    <tr>\n",
       "      <th>max</th>\n",
       "      <td>80.000000</td>\n",
       "    </tr>\n",
       "  </tbody>\n",
       "</table>\n",
       "</div>"
      ],
      "text/plain": [
       "              age\n",
       "count  891.000000\n",
       "mean    29.416016\n",
       "std     13.027527\n",
       "min      0.420000\n",
       "25%     22.000000\n",
       "50%     29.000000\n",
       "75%     35.000000\n",
       "max     80.000000"
      ]
     },
     "execution_count": 538,
     "metadata": {},
     "output_type": "execute_result"
    }
   ],
   "source": [
    "#Create a age range column\n",
    "#first check the age max and min\n",
    "df1 = df[['age']]\n",
    "df1.describe()"
   ]
  },
  {
   "cell_type": "code",
   "execution_count": 539,
   "metadata": {
    "collapsed": true
   },
   "outputs": [],
   "source": [
    "#create function to derive the age range :\n",
    "def findAgeRange(x):\n",
    "    if (x < 1):\n",
    "        output = \"1-\"\n",
    "    elif (x >= 1 and x <10):\n",
    "        output = \"1+\"\n",
    "    elif (x >= 10 and x <20):\n",
    "        output = \"10+\"\n",
    "    elif (x >= 20 and x <30):\n",
    "        output = \"20+\"\n",
    "    elif (x >= 30 and x <40):\n",
    "        output = \"30+\"\n",
    "    elif (x >= 40 and x <50):\n",
    "        output = \"40+\"\n",
    "    elif (x >= 50 and x <60):\n",
    "        output = \"50+\"\n",
    "    elif (x >= 60 and x <70):\n",
    "        output = \"60+\"\n",
    "    else:\n",
    "        output = \"70+\"\n",
    "    return output"
   ]
  },
  {
   "cell_type": "code",
   "execution_count": 540,
   "metadata": {
    "collapsed": false
   },
   "outputs": [],
   "source": [
    "#Create ageTange column\n",
    "df['ageRange'] = df.age.apply(findAgeRange)\n"
   ]
  },
  {
   "cell_type": "code",
   "execution_count": 541,
   "metadata": {
    "collapsed": false
   },
   "outputs": [
    {
     "data": {
      "text/plain": [
       "S    644\n",
       "C    168\n",
       "Q     77\n",
       "Name: embarked, dtype: int64"
      ]
     },
     "execution_count": 541,
     "metadata": {},
     "output_type": "execute_result"
    }
   ],
   "source": [
    "df.embarked.value_counts()"
   ]
  },
  {
   "cell_type": "code",
   "execution_count": 542,
   "metadata": {
    "collapsed": true
   },
   "outputs": [],
   "source": [
    "#There are two nulls in \"embarked\" column. Impute them with \"S\" given the high frequency of \"S\".\n",
    "df['embarked'].fillna(\"S\", inplace=True)\n"
   ]
  },
  {
   "cell_type": "code",
   "execution_count": 543,
   "metadata": {
    "collapsed": true
   },
   "outputs": [],
   "source": [
    "#Expand Embarked name\n",
    "#Create function getEmbarkedLocation\n",
    "\n",
    "def getEmbarkedLocation(x):\n",
    "    if (x in ('C')):\n",
    "        output = \"Cherbourg\"\n",
    "    elif (x in ('Q')):\n",
    "        output = \"Queenstown\"\n",
    "    elif (x in ('S')):\n",
    "        output = \"Southampton\"\n",
    "    else:\n",
    "        output = \"Unknown\"\n",
    "    \n",
    "    return output\n",
    "    \n",
    "    "
   ]
  },
  {
   "cell_type": "code",
   "execution_count": 544,
   "metadata": {
    "collapsed": false
   },
   "outputs": [],
   "source": [
    "#Explore Cabin to get the 1st character, like if the Cabin 'B65' we want to get 'B'.\n",
    "#Write function\n",
    "def getCabinID(x):\n",
    "    cabin = str(x)\n",
    "    if cabin == \"\":\n",
    "        output = 'U'\n",
    "    else:\n",
    "        output = cabin[:1]\n",
    "        \n",
    "    return output"
   ]
  },
  {
   "cell_type": "code",
   "execution_count": 545,
   "metadata": {
    "collapsed": false
   },
   "outputs": [],
   "source": [
    "#Create CabinID\n",
    "df['CabinID'] = df.cabin.apply(getCabinID)\n"
   ]
  },
  {
   "cell_type": "code",
   "execution_count": 546,
   "metadata": {
    "collapsed": false
   },
   "outputs": [
    {
     "data": {
      "text/plain": [
       "pclass  sex   \n",
       "1       female    91\n",
       "        male      45\n",
       "2       female    70\n",
       "        male      17\n",
       "3       female    72\n",
       "        male      47\n",
       "Name: survived, dtype: int64"
      ]
     },
     "execution_count": 546,
     "metadata": {},
     "output_type": "execute_result"
    }
   ],
   "source": [
    "df1 = df[['pclass', 'sex', 'survived']]\n",
    "\n",
    "df1.groupby( [ \"pclass\", \"sex\"] )['survived'].sum()"
   ]
  },
  {
   "cell_type": "code",
   "execution_count": 547,
   "metadata": {
    "collapsed": false
   },
   "outputs": [
    {
     "data": {
      "text/html": [
       "<div>\n",
       "<table border=\"1\" class=\"dataframe\">\n",
       "  <thead>\n",
       "    <tr style=\"text-align: right;\">\n",
       "      <th></th>\n",
       "      <th>pclass</th>\n",
       "      <th>sex</th>\n",
       "      <th>survived</th>\n",
       "    </tr>\n",
       "  </thead>\n",
       "  <tbody>\n",
       "    <tr>\n",
       "      <th>0</th>\n",
       "      <td>1</td>\n",
       "      <td>female</td>\n",
       "      <td>91</td>\n",
       "    </tr>\n",
       "    <tr>\n",
       "      <th>1</th>\n",
       "      <td>1</td>\n",
       "      <td>male</td>\n",
       "      <td>45</td>\n",
       "    </tr>\n",
       "    <tr>\n",
       "      <th>2</th>\n",
       "      <td>2</td>\n",
       "      <td>female</td>\n",
       "      <td>70</td>\n",
       "    </tr>\n",
       "    <tr>\n",
       "      <th>3</th>\n",
       "      <td>2</td>\n",
       "      <td>male</td>\n",
       "      <td>17</td>\n",
       "    </tr>\n",
       "    <tr>\n",
       "      <th>4</th>\n",
       "      <td>3</td>\n",
       "      <td>female</td>\n",
       "      <td>72</td>\n",
       "    </tr>\n",
       "    <tr>\n",
       "      <th>5</th>\n",
       "      <td>3</td>\n",
       "      <td>male</td>\n",
       "      <td>47</td>\n",
       "    </tr>\n",
       "  </tbody>\n",
       "</table>\n",
       "</div>"
      ],
      "text/plain": [
       "   pclass     sex  survived\n",
       "0       1  female        91\n",
       "1       1    male        45\n",
       "2       2  female        70\n",
       "3       2    male        17\n",
       "4       3  female        72\n",
       "5       3    male        47"
      ]
     },
     "execution_count": 547,
     "metadata": {},
     "output_type": "execute_result"
    }
   ],
   "source": [
    "#Convert the preceeding groupby in to a dataframe and draw a distplot\n",
    "\n",
    "df_group = pd.DataFrame({'count' : df1.groupby( [ \"pclass\", \"sex\"] )['survived'].sum()}).reset_index()\n",
    "df_group.columns = ['pclass', 'sex', 'survived']\n",
    "df_group"
   ]
  },
  {
   "cell_type": "code",
   "execution_count": 548,
   "metadata": {
    "collapsed": false
   },
   "outputs": [
    {
     "name": "stderr",
     "output_type": "stream",
     "text": [
      "/Users/suvojitdutta/anaconda/lib/python3.5/site-packages/statsmodels/nonparametric/kdetools.py:20: VisibleDeprecationWarning: using a non-integer number instead of an integer will result in an error in the future\n",
      "  y = X[:m/2+1] + np.r_[0,X[m/2+1:],0]*1j\n"
     ]
    },
    {
     "data": {
      "text/plain": [
       "<matplotlib.axes._subplots.AxesSubplot at 0x121e0a6a0>"
      ]
     },
     "execution_count": 548,
     "metadata": {},
     "output_type": "execute_result"
    },
    {
     "data": {
      "image/png": "[encoded data removed]",
      "text/plain": [
       "<matplotlib.figure.Figure at 0x12164a240>"
      ]
     },
     "metadata": {},
     "output_type": "display_data"
    }
   ],
   "source": [
    "sns.distplot(df_group.survived)"
   ]
  },
  {
   "cell_type": "code",
   "execution_count": 549,
   "metadata": {
    "collapsed": false
   },
   "outputs": [
    {
     "data": {
      "image/png": "[encoded data removed]",
      "text/plain": [
       "<matplotlib.figure.Figure at 0x121058518>"
      ]
     },
     "metadata": {},
     "output_type": "display_data"
    }
   ],
   "source": [
    "#Draw a pie\n",
    "#Pie chart of number of survived by pclass and gender\n",
    "var=df.groupby(['pclass', 'sex']).sum().stack()\n",
    "temp=var.unstack()\n",
    "type(temp)\n",
    "x_list = temp['survived']\n",
    "label_list = temp.index\n",
    "pyplot.axis(\"equal\") #The pie chart is oval by default. To make it a circle use pyplot.axis(\"equal\")\n",
    "#To show the percentage of each pie slice, pass an output format to the autopctparameter \n",
    "plt.pie(x_list,labels=label_list,autopct=\"%1.1f%%\") \n",
    "plt.title(\"survived by pclass and gender\")\n",
    "plt.show()"
   ]
  },
  {
   "cell_type": "code",
   "execution_count": 550,
   "metadata": {
    "collapsed": false
   },
   "outputs": [],
   "source": [
    "#Create nhew column \"embarkedPort\"\n",
    "df['embarkedPort'] = df.embarked.apply(getEmbarkedLocation)\n"
   ]
  },
  {
   "cell_type": "code",
   "execution_count": 551,
   "metadata": {
    "collapsed": false
   },
   "outputs": [
    {
     "data": {
      "text/html": [
       "<div>\n",
       "<table border=\"1\" class=\"dataframe\">\n",
       "  <thead>\n",
       "    <tr style=\"text-align: right;\">\n",
       "      <th></th>\n",
       "      <th>pclass</th>\n",
       "      <th>survived</th>\n",
       "      <th>lastname</th>\n",
       "      <th>sex</th>\n",
       "      <th>age</th>\n",
       "      <th>ageRange</th>\n",
       "      <th>sibsp</th>\n",
       "      <th>parch</th>\n",
       "      <th>ticket</th>\n",
       "      <th>CabinID</th>\n",
       "      <th>embarkedPort</th>\n",
       "    </tr>\n",
       "  </thead>\n",
       "  <tbody>\n",
       "    <tr>\n",
       "      <th>0</th>\n",
       "      <td>3</td>\n",
       "      <td>0</td>\n",
       "      <td>Braund</td>\n",
       "      <td>male</td>\n",
       "      <td>22.0</td>\n",
       "      <td>20+</td>\n",
       "      <td>1</td>\n",
       "      <td>0</td>\n",
       "      <td>A/5 21171</td>\n",
       "      <td>n</td>\n",
       "      <td>Southampton</td>\n",
       "    </tr>\n",
       "    <tr>\n",
       "      <th>1</th>\n",
       "      <td>1</td>\n",
       "      <td>1</td>\n",
       "      <td>Cumings</td>\n",
       "      <td>female</td>\n",
       "      <td>38.0</td>\n",
       "      <td>30+</td>\n",
       "      <td>1</td>\n",
       "      <td>0</td>\n",
       "      <td>PC 17599</td>\n",
       "      <td>C</td>\n",
       "      <td>Cherbourg</td>\n",
       "    </tr>\n",
       "    <tr>\n",
       "      <th>2</th>\n",
       "      <td>3</td>\n",
       "      <td>1</td>\n",
       "      <td>Heikkinen</td>\n",
       "      <td>female</td>\n",
       "      <td>26.0</td>\n",
       "      <td>20+</td>\n",
       "      <td>0</td>\n",
       "      <td>0</td>\n",
       "      <td>STON/O2. 3101282</td>\n",
       "      <td>n</td>\n",
       "      <td>Southampton</td>\n",
       "    </tr>\n",
       "    <tr>\n",
       "      <th>3</th>\n",
       "      <td>1</td>\n",
       "      <td>1</td>\n",
       "      <td>Futrelle</td>\n",
       "      <td>female</td>\n",
       "      <td>35.0</td>\n",
       "      <td>30+</td>\n",
       "      <td>1</td>\n",
       "      <td>0</td>\n",
       "      <td>113803</td>\n",
       "      <td>C</td>\n",
       "      <td>Southampton</td>\n",
       "    </tr>\n",
       "    <tr>\n",
       "      <th>4</th>\n",
       "      <td>3</td>\n",
       "      <td>0</td>\n",
       "      <td>Allen</td>\n",
       "      <td>male</td>\n",
       "      <td>35.0</td>\n",
       "      <td>30+</td>\n",
       "      <td>0</td>\n",
       "      <td>0</td>\n",
       "      <td>373450</td>\n",
       "      <td>n</td>\n",
       "      <td>Southampton</td>\n",
       "    </tr>\n",
       "    <tr>\n",
       "      <th>5</th>\n",
       "      <td>3</td>\n",
       "      <td>0</td>\n",
       "      <td>Moran</td>\n",
       "      <td>male</td>\n",
       "      <td>29.0</td>\n",
       "      <td>20+</td>\n",
       "      <td>0</td>\n",
       "      <td>0</td>\n",
       "      <td>330877</td>\n",
       "      <td>n</td>\n",
       "      <td>Queenstown</td>\n",
       "    </tr>\n",
       "    <tr>\n",
       "      <th>6</th>\n",
       "      <td>1</td>\n",
       "      <td>0</td>\n",
       "      <td>McCarthy</td>\n",
       "      <td>male</td>\n",
       "      <td>54.0</td>\n",
       "      <td>50+</td>\n",
       "      <td>0</td>\n",
       "      <td>0</td>\n",
       "      <td>17463</td>\n",
       "      <td>E</td>\n",
       "      <td>Southampton</td>\n",
       "    </tr>\n",
       "    <tr>\n",
       "      <th>7</th>\n",
       "      <td>3</td>\n",
       "      <td>0</td>\n",
       "      <td>Palsson</td>\n",
       "      <td>male</td>\n",
       "      <td>2.0</td>\n",
       "      <td>1+</td>\n",
       "      <td>3</td>\n",
       "      <td>1</td>\n",
       "      <td>349909</td>\n",
       "      <td>n</td>\n",
       "      <td>Southampton</td>\n",
       "    </tr>\n",
       "    <tr>\n",
       "      <th>8</th>\n",
       "      <td>3</td>\n",
       "      <td>1</td>\n",
       "      <td>Johnson</td>\n",
       "      <td>female</td>\n",
       "      <td>27.0</td>\n",
       "      <td>20+</td>\n",
       "      <td>0</td>\n",
       "      <td>2</td>\n",
       "      <td>347742</td>\n",
       "      <td>n</td>\n",
       "      <td>Southampton</td>\n",
       "    </tr>\n",
       "    <tr>\n",
       "      <th>9</th>\n",
       "      <td>2</td>\n",
       "      <td>1</td>\n",
       "      <td>Nasser</td>\n",
       "      <td>female</td>\n",
       "      <td>14.0</td>\n",
       "      <td>10+</td>\n",
       "      <td>1</td>\n",
       "      <td>0</td>\n",
       "      <td>237736</td>\n",
       "      <td>n</td>\n",
       "      <td>Cherbourg</td>\n",
       "    </tr>\n",
       "    <tr>\n",
       "      <th>10</th>\n",
       "      <td>3</td>\n",
       "      <td>1</td>\n",
       "      <td>Sandstrom</td>\n",
       "      <td>female</td>\n",
       "      <td>4.0</td>\n",
       "      <td>1+</td>\n",
       "      <td>1</td>\n",
       "      <td>1</td>\n",
       "      <td>PP 9549</td>\n",
       "      <td>G</td>\n",
       "      <td>Southampton</td>\n",
       "    </tr>\n",
       "    <tr>\n",
       "      <th>11</th>\n",
       "      <td>1</td>\n",
       "      <td>1</td>\n",
       "      <td>Bonnell</td>\n",
       "      <td>female</td>\n",
       "      <td>58.0</td>\n",
       "      <td>50+</td>\n",
       "      <td>0</td>\n",
       "      <td>0</td>\n",
       "      <td>113783</td>\n",
       "      <td>C</td>\n",
       "      <td>Southampton</td>\n",
       "    </tr>\n",
       "    <tr>\n",
       "      <th>12</th>\n",
       "      <td>3</td>\n",
       "      <td>0</td>\n",
       "      <td>Saundercock</td>\n",
       "      <td>male</td>\n",
       "      <td>20.0</td>\n",
       "      <td>20+</td>\n",
       "      <td>0</td>\n",
       "      <td>0</td>\n",
       "      <td>A/5. 2151</td>\n",
       "      <td>n</td>\n",
       "      <td>Southampton</td>\n",
       "    </tr>\n",
       "    <tr>\n",
       "      <th>13</th>\n",
       "      <td>3</td>\n",
       "      <td>0</td>\n",
       "      <td>Andersson</td>\n",
       "      <td>male</td>\n",
       "      <td>39.0</td>\n",
       "      <td>30+</td>\n",
       "      <td>1</td>\n",
       "      <td>5</td>\n",
       "      <td>347082</td>\n",
       "      <td>n</td>\n",
       "      <td>Southampton</td>\n",
       "    </tr>\n",
       "    <tr>\n",
       "      <th>14</th>\n",
       "      <td>3</td>\n",
       "      <td>0</td>\n",
       "      <td>Vestrom</td>\n",
       "      <td>female</td>\n",
       "      <td>14.0</td>\n",
       "      <td>10+</td>\n",
       "      <td>0</td>\n",
       "      <td>0</td>\n",
       "      <td>350406</td>\n",
       "      <td>n</td>\n",
       "      <td>Southampton</td>\n",
       "    </tr>\n",
       "    <tr>\n",
       "      <th>15</th>\n",
       "      <td>2</td>\n",
       "      <td>1</td>\n",
       "      <td>Hewlett</td>\n",
       "      <td>female</td>\n",
       "      <td>55.0</td>\n",
       "      <td>50+</td>\n",
       "      <td>0</td>\n",
       "      <td>0</td>\n",
       "      <td>248706</td>\n",
       "      <td>n</td>\n",
       "      <td>Southampton</td>\n",
       "    </tr>\n",
       "    <tr>\n",
       "      <th>16</th>\n",
       "      <td>3</td>\n",
       "      <td>0</td>\n",
       "      <td>Rice</td>\n",
       "      <td>male</td>\n",
       "      <td>2.0</td>\n",
       "      <td>1+</td>\n",
       "      <td>4</td>\n",
       "      <td>1</td>\n",
       "      <td>382652</td>\n",
       "      <td>n</td>\n",
       "      <td>Queenstown</td>\n",
       "    </tr>\n",
       "    <tr>\n",
       "      <th>17</th>\n",
       "      <td>2</td>\n",
       "      <td>1</td>\n",
       "      <td>Williams</td>\n",
       "      <td>male</td>\n",
       "      <td>28.0</td>\n",
       "      <td>20+</td>\n",
       "      <td>0</td>\n",
       "      <td>0</td>\n",
       "      <td>244373</td>\n",
       "      <td>n</td>\n",
       "      <td>Southampton</td>\n",
       "    </tr>\n",
       "    <tr>\n",
       "      <th>18</th>\n",
       "      <td>3</td>\n",
       "      <td>0</td>\n",
       "      <td>Vander Planke</td>\n",
       "      <td>female</td>\n",
       "      <td>31.0</td>\n",
       "      <td>30+</td>\n",
       "      <td>1</td>\n",
       "      <td>0</td>\n",
       "      <td>345763</td>\n",
       "      <td>n</td>\n",
       "      <td>Southampton</td>\n",
       "    </tr>\n",
       "    <tr>\n",
       "      <th>19</th>\n",
       "      <td>3</td>\n",
       "      <td>1</td>\n",
       "      <td>Masselmani</td>\n",
       "      <td>female</td>\n",
       "      <td>28.0</td>\n",
       "      <td>20+</td>\n",
       "      <td>0</td>\n",
       "      <td>0</td>\n",
       "      <td>2649</td>\n",
       "      <td>n</td>\n",
       "      <td>Cherbourg</td>\n",
       "    </tr>\n",
       "    <tr>\n",
       "      <th>20</th>\n",
       "      <td>2</td>\n",
       "      <td>0</td>\n",
       "      <td>Fynney</td>\n",
       "      <td>male</td>\n",
       "      <td>35.0</td>\n",
       "      <td>30+</td>\n",
       "      <td>0</td>\n",
       "      <td>0</td>\n",
       "      <td>239865</td>\n",
       "      <td>n</td>\n",
       "      <td>Southampton</td>\n",
       "    </tr>\n",
       "    <tr>\n",
       "      <th>21</th>\n",
       "      <td>2</td>\n",
       "      <td>1</td>\n",
       "      <td>Beesley</td>\n",
       "      <td>male</td>\n",
       "      <td>34.0</td>\n",
       "      <td>30+</td>\n",
       "      <td>0</td>\n",
       "      <td>0</td>\n",
       "      <td>248698</td>\n",
       "      <td>D</td>\n",
       "      <td>Southampton</td>\n",
       "    </tr>\n",
       "    <tr>\n",
       "      <th>22</th>\n",
       "      <td>3</td>\n",
       "      <td>1</td>\n",
       "      <td>McGowan</td>\n",
       "      <td>female</td>\n",
       "      <td>15.0</td>\n",
       "      <td>10+</td>\n",
       "      <td>0</td>\n",
       "      <td>0</td>\n",
       "      <td>330923</td>\n",
       "      <td>n</td>\n",
       "      <td>Queenstown</td>\n",
       "    </tr>\n",
       "    <tr>\n",
       "      <th>23</th>\n",
       "      <td>1</td>\n",
       "      <td>1</td>\n",
       "      <td>Sloper</td>\n",
       "      <td>male</td>\n",
       "      <td>28.0</td>\n",
       "      <td>20+</td>\n",
       "      <td>0</td>\n",
       "      <td>0</td>\n",
       "      <td>113788</td>\n",
       "      <td>A</td>\n",
       "      <td>Southampton</td>\n",
       "    </tr>\n",
       "    <tr>\n",
       "      <th>24</th>\n",
       "      <td>3</td>\n",
       "      <td>0</td>\n",
       "      <td>Palsson</td>\n",
       "      <td>female</td>\n",
       "      <td>8.0</td>\n",
       "      <td>1+</td>\n",
       "      <td>3</td>\n",
       "      <td>1</td>\n",
       "      <td>349909</td>\n",
       "      <td>n</td>\n",
       "      <td>Southampton</td>\n",
       "    </tr>\n",
       "    <tr>\n",
       "      <th>25</th>\n",
       "      <td>3</td>\n",
       "      <td>1</td>\n",
       "      <td>Asplund</td>\n",
       "      <td>female</td>\n",
       "      <td>38.0</td>\n",
       "      <td>30+</td>\n",
       "      <td>1</td>\n",
       "      <td>5</td>\n",
       "      <td>347077</td>\n",
       "      <td>n</td>\n",
       "      <td>Southampton</td>\n",
       "    </tr>\n",
       "    <tr>\n",
       "      <th>26</th>\n",
       "      <td>3</td>\n",
       "      <td>0</td>\n",
       "      <td>Emir</td>\n",
       "      <td>male</td>\n",
       "      <td>29.0</td>\n",
       "      <td>20+</td>\n",
       "      <td>0</td>\n",
       "      <td>0</td>\n",
       "      <td>2631</td>\n",
       "      <td>n</td>\n",
       "      <td>Cherbourg</td>\n",
       "    </tr>\n",
       "    <tr>\n",
       "      <th>27</th>\n",
       "      <td>1</td>\n",
       "      <td>0</td>\n",
       "      <td>Fortune</td>\n",
       "      <td>male</td>\n",
       "      <td>19.0</td>\n",
       "      <td>10+</td>\n",
       "      <td>3</td>\n",
       "      <td>2</td>\n",
       "      <td>19950</td>\n",
       "      <td>C</td>\n",
       "      <td>Southampton</td>\n",
       "    </tr>\n",
       "    <tr>\n",
       "      <th>28</th>\n",
       "      <td>3</td>\n",
       "      <td>1</td>\n",
       "      <td>O'Dwyer</td>\n",
       "      <td>female</td>\n",
       "      <td>28.0</td>\n",
       "      <td>20+</td>\n",
       "      <td>0</td>\n",
       "      <td>0</td>\n",
       "      <td>330959</td>\n",
       "      <td>n</td>\n",
       "      <td>Queenstown</td>\n",
       "    </tr>\n",
       "    <tr>\n",
       "      <th>29</th>\n",
       "      <td>3</td>\n",
       "      <td>0</td>\n",
       "      <td>Todoroff</td>\n",
       "      <td>male</td>\n",
       "      <td>29.0</td>\n",
       "      <td>20+</td>\n",
       "      <td>0</td>\n",
       "      <td>0</td>\n",
       "      <td>349216</td>\n",
       "      <td>n</td>\n",
       "      <td>Southampton</td>\n",
       "    </tr>\n",
       "    <tr>\n",
       "      <th>...</th>\n",
       "      <td>...</td>\n",
       "      <td>...</td>\n",
       "      <td>...</td>\n",
       "      <td>...</td>\n",
       "      <td>...</td>\n",
       "      <td>...</td>\n",
       "      <td>...</td>\n",
       "      <td>...</td>\n",
       "      <td>...</td>\n",
       "      <td>...</td>\n",
       "      <td>...</td>\n",
       "    </tr>\n",
       "    <tr>\n",
       "      <th>861</th>\n",
       "      <td>2</td>\n",
       "      <td>0</td>\n",
       "      <td>Giles</td>\n",
       "      <td>male</td>\n",
       "      <td>21.0</td>\n",
       "      <td>20+</td>\n",
       "      <td>1</td>\n",
       "      <td>0</td>\n",
       "      <td>28134</td>\n",
       "      <td>n</td>\n",
       "      <td>Southampton</td>\n",
       "    </tr>\n",
       "    <tr>\n",
       "      <th>862</th>\n",
       "      <td>1</td>\n",
       "      <td>1</td>\n",
       "      <td>Swift</td>\n",
       "      <td>female</td>\n",
       "      <td>48.0</td>\n",
       "      <td>40+</td>\n",
       "      <td>0</td>\n",
       "      <td>0</td>\n",
       "      <td>17466</td>\n",
       "      <td>D</td>\n",
       "      <td>Southampton</td>\n",
       "    </tr>\n",
       "    <tr>\n",
       "      <th>863</th>\n",
       "      <td>3</td>\n",
       "      <td>0</td>\n",
       "      <td>Sage</td>\n",
       "      <td>female</td>\n",
       "      <td>24.5</td>\n",
       "      <td>20+</td>\n",
       "      <td>8</td>\n",
       "      <td>2</td>\n",
       "      <td>CA. 2343</td>\n",
       "      <td>n</td>\n",
       "      <td>Southampton</td>\n",
       "    </tr>\n",
       "    <tr>\n",
       "      <th>864</th>\n",
       "      <td>2</td>\n",
       "      <td>0</td>\n",
       "      <td>Gill</td>\n",
       "      <td>male</td>\n",
       "      <td>24.0</td>\n",
       "      <td>20+</td>\n",
       "      <td>0</td>\n",
       "      <td>0</td>\n",
       "      <td>233866</td>\n",
       "      <td>n</td>\n",
       "      <td>Southampton</td>\n",
       "    </tr>\n",
       "    <tr>\n",
       "      <th>865</th>\n",
       "      <td>2</td>\n",
       "      <td>1</td>\n",
       "      <td>Bystrom</td>\n",
       "      <td>female</td>\n",
       "      <td>42.0</td>\n",
       "      <td>40+</td>\n",
       "      <td>0</td>\n",
       "      <td>0</td>\n",
       "      <td>236852</td>\n",
       "      <td>n</td>\n",
       "      <td>Southampton</td>\n",
       "    </tr>\n",
       "    <tr>\n",
       "      <th>866</th>\n",
       "      <td>2</td>\n",
       "      <td>1</td>\n",
       "      <td>Duran y More</td>\n",
       "      <td>female</td>\n",
       "      <td>27.0</td>\n",
       "      <td>20+</td>\n",
       "      <td>1</td>\n",
       "      <td>0</td>\n",
       "      <td>SC/PARIS 2149</td>\n",
       "      <td>n</td>\n",
       "      <td>Cherbourg</td>\n",
       "    </tr>\n",
       "    <tr>\n",
       "      <th>867</th>\n",
       "      <td>1</td>\n",
       "      <td>0</td>\n",
       "      <td>Roebling</td>\n",
       "      <td>male</td>\n",
       "      <td>31.0</td>\n",
       "      <td>30+</td>\n",
       "      <td>0</td>\n",
       "      <td>0</td>\n",
       "      <td>PC 17590</td>\n",
       "      <td>A</td>\n",
       "      <td>Southampton</td>\n",
       "    </tr>\n",
       "    <tr>\n",
       "      <th>868</th>\n",
       "      <td>3</td>\n",
       "      <td>0</td>\n",
       "      <td>van Melkebeke</td>\n",
       "      <td>male</td>\n",
       "      <td>29.0</td>\n",
       "      <td>20+</td>\n",
       "      <td>0</td>\n",
       "      <td>0</td>\n",
       "      <td>345777</td>\n",
       "      <td>n</td>\n",
       "      <td>Southampton</td>\n",
       "    </tr>\n",
       "    <tr>\n",
       "      <th>869</th>\n",
       "      <td>3</td>\n",
       "      <td>1</td>\n",
       "      <td>Johnson</td>\n",
       "      <td>male</td>\n",
       "      <td>4.0</td>\n",
       "      <td>1+</td>\n",
       "      <td>1</td>\n",
       "      <td>1</td>\n",
       "      <td>347742</td>\n",
       "      <td>n</td>\n",
       "      <td>Southampton</td>\n",
       "    </tr>\n",
       "    <tr>\n",
       "      <th>870</th>\n",
       "      <td>3</td>\n",
       "      <td>0</td>\n",
       "      <td>Balkic</td>\n",
       "      <td>male</td>\n",
       "      <td>26.0</td>\n",
       "      <td>20+</td>\n",
       "      <td>0</td>\n",
       "      <td>0</td>\n",
       "      <td>349248</td>\n",
       "      <td>n</td>\n",
       "      <td>Southampton</td>\n",
       "    </tr>\n",
       "    <tr>\n",
       "      <th>871</th>\n",
       "      <td>1</td>\n",
       "      <td>1</td>\n",
       "      <td>Beckwith</td>\n",
       "      <td>female</td>\n",
       "      <td>47.0</td>\n",
       "      <td>40+</td>\n",
       "      <td>1</td>\n",
       "      <td>1</td>\n",
       "      <td>11751</td>\n",
       "      <td>D</td>\n",
       "      <td>Southampton</td>\n",
       "    </tr>\n",
       "    <tr>\n",
       "      <th>872</th>\n",
       "      <td>1</td>\n",
       "      <td>0</td>\n",
       "      <td>Carlsson</td>\n",
       "      <td>male</td>\n",
       "      <td>33.0</td>\n",
       "      <td>30+</td>\n",
       "      <td>0</td>\n",
       "      <td>0</td>\n",
       "      <td>695</td>\n",
       "      <td>B</td>\n",
       "      <td>Southampton</td>\n",
       "    </tr>\n",
       "    <tr>\n",
       "      <th>873</th>\n",
       "      <td>3</td>\n",
       "      <td>0</td>\n",
       "      <td>Vander Cruyssen</td>\n",
       "      <td>male</td>\n",
       "      <td>47.0</td>\n",
       "      <td>40+</td>\n",
       "      <td>0</td>\n",
       "      <td>0</td>\n",
       "      <td>345765</td>\n",
       "      <td>n</td>\n",
       "      <td>Southampton</td>\n",
       "    </tr>\n",
       "    <tr>\n",
       "      <th>874</th>\n",
       "      <td>2</td>\n",
       "      <td>1</td>\n",
       "      <td>Abelson</td>\n",
       "      <td>female</td>\n",
       "      <td>28.0</td>\n",
       "      <td>20+</td>\n",
       "      <td>1</td>\n",
       "      <td>0</td>\n",
       "      <td>P/PP 3381</td>\n",
       "      <td>n</td>\n",
       "      <td>Cherbourg</td>\n",
       "    </tr>\n",
       "    <tr>\n",
       "      <th>875</th>\n",
       "      <td>3</td>\n",
       "      <td>1</td>\n",
       "      <td>Najib</td>\n",
       "      <td>female</td>\n",
       "      <td>15.0</td>\n",
       "      <td>10+</td>\n",
       "      <td>0</td>\n",
       "      <td>0</td>\n",
       "      <td>2667</td>\n",
       "      <td>n</td>\n",
       "      <td>Cherbourg</td>\n",
       "    </tr>\n",
       "    <tr>\n",
       "      <th>876</th>\n",
       "      <td>3</td>\n",
       "      <td>0</td>\n",
       "      <td>Gustafsson</td>\n",
       "      <td>male</td>\n",
       "      <td>20.0</td>\n",
       "      <td>20+</td>\n",
       "      <td>0</td>\n",
       "      <td>0</td>\n",
       "      <td>7534</td>\n",
       "      <td>n</td>\n",
       "      <td>Southampton</td>\n",
       "    </tr>\n",
       "    <tr>\n",
       "      <th>877</th>\n",
       "      <td>3</td>\n",
       "      <td>0</td>\n",
       "      <td>Petroff</td>\n",
       "      <td>male</td>\n",
       "      <td>19.0</td>\n",
       "      <td>10+</td>\n",
       "      <td>0</td>\n",
       "      <td>0</td>\n",
       "      <td>349212</td>\n",
       "      <td>n</td>\n",
       "      <td>Southampton</td>\n",
       "    </tr>\n",
       "    <tr>\n",
       "      <th>878</th>\n",
       "      <td>3</td>\n",
       "      <td>0</td>\n",
       "      <td>Laleff</td>\n",
       "      <td>male</td>\n",
       "      <td>29.0</td>\n",
       "      <td>20+</td>\n",
       "      <td>0</td>\n",
       "      <td>0</td>\n",
       "      <td>349217</td>\n",
       "      <td>n</td>\n",
       "      <td>Southampton</td>\n",
       "    </tr>\n",
       "    <tr>\n",
       "      <th>879</th>\n",
       "      <td>1</td>\n",
       "      <td>1</td>\n",
       "      <td>Potter</td>\n",
       "      <td>female</td>\n",
       "      <td>56.0</td>\n",
       "      <td>50+</td>\n",
       "      <td>0</td>\n",
       "      <td>1</td>\n",
       "      <td>11767</td>\n",
       "      <td>C</td>\n",
       "      <td>Cherbourg</td>\n",
       "    </tr>\n",
       "    <tr>\n",
       "      <th>880</th>\n",
       "      <td>2</td>\n",
       "      <td>1</td>\n",
       "      <td>Shelley</td>\n",
       "      <td>female</td>\n",
       "      <td>25.0</td>\n",
       "      <td>20+</td>\n",
       "      <td>0</td>\n",
       "      <td>1</td>\n",
       "      <td>230433</td>\n",
       "      <td>n</td>\n",
       "      <td>Southampton</td>\n",
       "    </tr>\n",
       "    <tr>\n",
       "      <th>881</th>\n",
       "      <td>3</td>\n",
       "      <td>0</td>\n",
       "      <td>Markun</td>\n",
       "      <td>male</td>\n",
       "      <td>33.0</td>\n",
       "      <td>30+</td>\n",
       "      <td>0</td>\n",
       "      <td>0</td>\n",
       "      <td>349257</td>\n",
       "      <td>n</td>\n",
       "      <td>Southampton</td>\n",
       "    </tr>\n",
       "    <tr>\n",
       "      <th>882</th>\n",
       "      <td>3</td>\n",
       "      <td>0</td>\n",
       "      <td>Dahlberg</td>\n",
       "      <td>female</td>\n",
       "      <td>22.0</td>\n",
       "      <td>20+</td>\n",
       "      <td>0</td>\n",
       "      <td>0</td>\n",
       "      <td>7552</td>\n",
       "      <td>n</td>\n",
       "      <td>Southampton</td>\n",
       "    </tr>\n",
       "    <tr>\n",
       "      <th>883</th>\n",
       "      <td>2</td>\n",
       "      <td>0</td>\n",
       "      <td>Banfield</td>\n",
       "      <td>male</td>\n",
       "      <td>28.0</td>\n",
       "      <td>20+</td>\n",
       "      <td>0</td>\n",
       "      <td>0</td>\n",
       "      <td>C.A./SOTON 34068</td>\n",
       "      <td>n</td>\n",
       "      <td>Southampton</td>\n",
       "    </tr>\n",
       "    <tr>\n",
       "      <th>884</th>\n",
       "      <td>3</td>\n",
       "      <td>0</td>\n",
       "      <td>Sutehall</td>\n",
       "      <td>male</td>\n",
       "      <td>25.0</td>\n",
       "      <td>20+</td>\n",
       "      <td>0</td>\n",
       "      <td>0</td>\n",
       "      <td>SOTON/OQ 392076</td>\n",
       "      <td>n</td>\n",
       "      <td>Southampton</td>\n",
       "    </tr>\n",
       "    <tr>\n",
       "      <th>885</th>\n",
       "      <td>3</td>\n",
       "      <td>0</td>\n",
       "      <td>Rice</td>\n",
       "      <td>female</td>\n",
       "      <td>39.0</td>\n",
       "      <td>30+</td>\n",
       "      <td>0</td>\n",
       "      <td>5</td>\n",
       "      <td>382652</td>\n",
       "      <td>n</td>\n",
       "      <td>Queenstown</td>\n",
       "    </tr>\n",
       "    <tr>\n",
       "      <th>886</th>\n",
       "      <td>2</td>\n",
       "      <td>0</td>\n",
       "      <td>Montvila</td>\n",
       "      <td>male</td>\n",
       "      <td>27.0</td>\n",
       "      <td>20+</td>\n",
       "      <td>0</td>\n",
       "      <td>0</td>\n",
       "      <td>211536</td>\n",
       "      <td>n</td>\n",
       "      <td>Southampton</td>\n",
       "    </tr>\n",
       "    <tr>\n",
       "      <th>887</th>\n",
       "      <td>1</td>\n",
       "      <td>1</td>\n",
       "      <td>Graham</td>\n",
       "      <td>female</td>\n",
       "      <td>19.0</td>\n",
       "      <td>10+</td>\n",
       "      <td>0</td>\n",
       "      <td>0</td>\n",
       "      <td>112053</td>\n",
       "      <td>B</td>\n",
       "      <td>Southampton</td>\n",
       "    </tr>\n",
       "    <tr>\n",
       "      <th>888</th>\n",
       "      <td>3</td>\n",
       "      <td>0</td>\n",
       "      <td>Johnston</td>\n",
       "      <td>female</td>\n",
       "      <td>24.5</td>\n",
       "      <td>20+</td>\n",
       "      <td>1</td>\n",
       "      <td>2</td>\n",
       "      <td>W./C. 6607</td>\n",
       "      <td>n</td>\n",
       "      <td>Southampton</td>\n",
       "    </tr>\n",
       "    <tr>\n",
       "      <th>889</th>\n",
       "      <td>1</td>\n",
       "      <td>1</td>\n",
       "      <td>Behr</td>\n",
       "      <td>male</td>\n",
       "      <td>26.0</td>\n",
       "      <td>20+</td>\n",
       "      <td>0</td>\n",
       "      <td>0</td>\n",
       "      <td>111369</td>\n",
       "      <td>C</td>\n",
       "      <td>Cherbourg</td>\n",
       "    </tr>\n",
       "    <tr>\n",
       "      <th>890</th>\n",
       "      <td>3</td>\n",
       "      <td>0</td>\n",
       "      <td>Dooley</td>\n",
       "      <td>male</td>\n",
       "      <td>32.0</td>\n",
       "      <td>30+</td>\n",
       "      <td>0</td>\n",
       "      <td>0</td>\n",
       "      <td>370376</td>\n",
       "      <td>n</td>\n",
       "      <td>Queenstown</td>\n",
       "    </tr>\n",
       "  </tbody>\n",
       "</table>\n",
       "<p>891 rows × 11 columns</p>\n",
       "</div>"
      ],
      "text/plain": [
       "     pclass  survived         lastname     sex   age ageRange  sibsp  parch  \\\n",
       "0         3         0           Braund    male  22.0      20+      1      0   \n",
       "1         1         1          Cumings  female  38.0      30+      1      0   \n",
       "2         3         1        Heikkinen  female  26.0      20+      0      0   \n",
       "3         1         1         Futrelle  female  35.0      30+      1      0   \n",
       "4         3         0            Allen    male  35.0      30+      0      0   \n",
       "5         3         0            Moran    male  29.0      20+      0      0   \n",
       "6         1         0         McCarthy    male  54.0      50+      0      0   \n",
       "7         3         0          Palsson    male   2.0       1+      3      1   \n",
       "8         3         1          Johnson  female  27.0      20+      0      2   \n",
       "9         2         1           Nasser  female  14.0      10+      1      0   \n",
       "10        3         1        Sandstrom  female   4.0       1+      1      1   \n",
       "11        1         1          Bonnell  female  58.0      50+      0      0   \n",
       "12        3         0      Saundercock    male  20.0      20+      0      0   \n",
       "13        3         0        Andersson    male  39.0      30+      1      5   \n",
       "14        3         0          Vestrom  female  14.0      10+      0      0   \n",
       "15        2         1          Hewlett  female  55.0      50+      0      0   \n",
       "16        3         0             Rice    male   2.0       1+      4      1   \n",
       "17        2         1         Williams    male  28.0      20+      0      0   \n",
       "18        3         0    Vander Planke  female  31.0      30+      1      0   \n",
       "19        3         1       Masselmani  female  28.0      20+      0      0   \n",
       "20        2         0           Fynney    male  35.0      30+      0      0   \n",
       "21        2         1          Beesley    male  34.0      30+      0      0   \n",
       "22        3         1          McGowan  female  15.0      10+      0      0   \n",
       "23        1         1           Sloper    male  28.0      20+      0      0   \n",
       "24        3         0          Palsson  female   8.0       1+      3      1   \n",
       "25        3         1          Asplund  female  38.0      30+      1      5   \n",
       "26        3         0             Emir    male  29.0      20+      0      0   \n",
       "27        1         0          Fortune    male  19.0      10+      3      2   \n",
       "28        3         1          O'Dwyer  female  28.0      20+      0      0   \n",
       "29        3         0         Todoroff    male  29.0      20+      0      0   \n",
       "..      ...       ...              ...     ...   ...      ...    ...    ...   \n",
       "861       2         0            Giles    male  21.0      20+      1      0   \n",
       "862       1         1            Swift  female  48.0      40+      0      0   \n",
       "863       3         0             Sage  female  24.5      20+      8      2   \n",
       "864       2         0             Gill    male  24.0      20+      0      0   \n",
       "865       2         1          Bystrom  female  42.0      40+      0      0   \n",
       "866       2         1     Duran y More  female  27.0      20+      1      0   \n",
       "867       1         0         Roebling    male  31.0      30+      0      0   \n",
       "868       3         0    van Melkebeke    male  29.0      20+      0      0   \n",
       "869       3         1          Johnson    male   4.0       1+      1      1   \n",
       "870       3         0           Balkic    male  26.0      20+      0      0   \n",
       "871       1         1         Beckwith  female  47.0      40+      1      1   \n",
       "872       1         0         Carlsson    male  33.0      30+      0      0   \n",
       "873       3         0  Vander Cruyssen    male  47.0      40+      0      0   \n",
       "874       2         1          Abelson  female  28.0      20+      1      0   \n",
       "875       3         1            Najib  female  15.0      10+      0      0   \n",
       "876       3         0       Gustafsson    male  20.0      20+      0      0   \n",
       "877       3         0          Petroff    male  19.0      10+      0      0   \n",
       "878       3         0           Laleff    male  29.0      20+      0      0   \n",
       "879       1         1           Potter  female  56.0      50+      0      1   \n",
       "880       2         1          Shelley  female  25.0      20+      0      1   \n",
       "881       3         0           Markun    male  33.0      30+      0      0   \n",
       "882       3         0         Dahlberg  female  22.0      20+      0      0   \n",
       "883       2         0         Banfield    male  28.0      20+      0      0   \n",
       "884       3         0         Sutehall    male  25.0      20+      0      0   \n",
       "885       3         0             Rice  female  39.0      30+      0      5   \n",
       "886       2         0         Montvila    male  27.0      20+      0      0   \n",
       "887       1         1           Graham  female  19.0      10+      0      0   \n",
       "888       3         0         Johnston  female  24.5      20+      1      2   \n",
       "889       1         1             Behr    male  26.0      20+      0      0   \n",
       "890       3         0           Dooley    male  32.0      30+      0      0   \n",
       "\n",
       "               ticket CabinID embarkedPort  \n",
       "0           A/5 21171       n  Southampton  \n",
       "1            PC 17599       C    Cherbourg  \n",
       "2    STON/O2. 3101282       n  Southampton  \n",
       "3              113803       C  Southampton  \n",
       "4              373450       n  Southampton  \n",
       "5              330877       n   Queenstown  \n",
       "6               17463       E  Southampton  \n",
       "7              349909       n  Southampton  \n",
       "8              347742       n  Southampton  \n",
       "9              237736       n    Cherbourg  \n",
       "10            PP 9549       G  Southampton  \n",
       "11             113783       C  Southampton  \n",
       "12          A/5. 2151       n  Southampton  \n",
       "13             347082       n  Southampton  \n",
       "14             350406       n  Southampton  \n",
       "15             248706       n  Southampton  \n",
       "16             382652       n   Queenstown  \n",
       "17             244373       n  Southampton  \n",
       "18             345763       n  Southampton  \n",
       "19               2649       n    Cherbourg  \n",
       "20             239865       n  Southampton  \n",
       "21             248698       D  Southampton  \n",
       "22             330923       n   Queenstown  \n",
       "23             113788       A  Southampton  \n",
       "24             349909       n  Southampton  \n",
       "25             347077       n  Southampton  \n",
       "26               2631       n    Cherbourg  \n",
       "27              19950       C  Southampton  \n",
       "28             330959       n   Queenstown  \n",
       "29             349216       n  Southampton  \n",
       "..                ...     ...          ...  \n",
       "861             28134       n  Southampton  \n",
       "862             17466       D  Southampton  \n",
       "863          CA. 2343       n  Southampton  \n",
       "864            233866       n  Southampton  \n",
       "865            236852       n  Southampton  \n",
       "866     SC/PARIS 2149       n    Cherbourg  \n",
       "867          PC 17590       A  Southampton  \n",
       "868            345777       n  Southampton  \n",
       "869            347742       n  Southampton  \n",
       "870            349248       n  Southampton  \n",
       "871             11751       D  Southampton  \n",
       "872               695       B  Southampton  \n",
       "873            345765       n  Southampton  \n",
       "874         P/PP 3381       n    Cherbourg  \n",
       "875              2667       n    Cherbourg  \n",
       "876              7534       n  Southampton  \n",
       "877            349212       n  Southampton  \n",
       "878            349217       n  Southampton  \n",
       "879             11767       C    Cherbourg  \n",
       "880            230433       n  Southampton  \n",
       "881            349257       n  Southampton  \n",
       "882              7552       n  Southampton  \n",
       "883  C.A./SOTON 34068       n  Southampton  \n",
       "884   SOTON/OQ 392076       n  Southampton  \n",
       "885            382652       n   Queenstown  \n",
       "886            211536       n  Southampton  \n",
       "887            112053       B  Southampton  \n",
       "888        W./C. 6607       n  Southampton  \n",
       "889            111369       C    Cherbourg  \n",
       "890            370376       n   Queenstown  \n",
       "\n",
       "[891 rows x 11 columns]"
      ]
     },
     "execution_count": 551,
     "metadata": {},
     "output_type": "execute_result"
    }
   ],
   "source": [
    "#Create new dataframe\n",
    "df1=df[['pclass', 'survived', 'lastname', 'sex', 'age', 'ageRange', 'sibsp', 'parch', 'ticket',\n",
    "#        'CabinID', 'embarkedPort', 'boat', 'body', 'dest']]\n",
    "        'CabinID', 'embarkedPort']]\n",
    "df1"
   ]
  },
  {
   "cell_type": "code",
   "execution_count": 552,
   "metadata": {
    "collapsed": false
   },
   "outputs": [
    {
     "name": "stdout",
     "output_type": "stream",
     "text": [
      "\n",
      "Probility of survival by gender and age:\n",
      "sex     ageRange\n",
      "female  1+          0.607143\n",
      "        1-          1.000000\n",
      "        10+         0.755556\n",
      "        20+         0.704000\n",
      "        30+         0.833333\n",
      "        40+         0.687500\n",
      "        50+         0.888889\n",
      "        60+         1.000000\n",
      "male    1+          0.518519\n",
      "        1-          1.000000\n",
      "        10+         0.122807\n",
      "        20+         0.150735\n",
      "        30+         0.214953\n",
      "        40+         0.210526\n",
      "        50+         0.133333\n",
      "        60+         0.133333\n",
      "        70+         0.142857\n",
      "Name: survived, dtype: float64\n"
     ]
    }
   ],
   "source": [
    "#Check survival chance with gender and age\n",
    "#Create pivot\n",
    "temp2 = df1.pivot_table(values='survived',index=['sex', 'ageRange'],aggfunc=lambda x: x.mean())\n",
    "\n",
    "print ('\\nProbility of survival by gender and age:') \n",
    "print (temp2)"
   ]
  },
  {
   "cell_type": "code",
   "execution_count": 553,
   "metadata": {
    "collapsed": false
   },
   "outputs": [
    {
     "data": {
      "text/plain": [
       "<matplotlib.text.Text at 0x12303c358>"
      ]
     },
     "execution_count": 553,
     "metadata": {},
     "output_type": "execute_result"
    },
    {
     "data": {
      "image/png": "[encoded data removed]",
      "text/plain": [
       "<matplotlib.figure.Figure at 0x123014898>"
      ]
     },
     "metadata": {},
     "output_type": "display_data"
    }
   ],
   "source": [
    "#Bar graph of survival probability by sex and age range\n",
    "\n",
    "fig = plt.figure(figsize=(8,4))\n",
    "ax1 = fig.add_subplot(121)\n",
    "temp2.plot(kind = 'bar')\n",
    "ax1.set_xlabel('Sex / Age Range')\n",
    "ax1.set_ylabel('Probability of survival')\n",
    "ax1.set_title(\"Probability of survival by sex and age range\")"
   ]
  },
  {
   "cell_type": "code",
   "execution_count": 554,
   "metadata": {
    "collapsed": false
   },
   "outputs": [
    {
     "name": "stdout",
     "output_type": "stream",
     "text": [
      "\n",
      "Probility of survival by class, gender and age:\n",
      "pclass  sex     ageRange\n",
      "1       female  1+          0.000000\n",
      "                10+         1.000000\n",
      "                20+         0.960000\n",
      "                30+         1.000000\n",
      "                40+         1.000000\n",
      "                50+         0.916667\n",
      "                60+         1.000000\n",
      "        male    1+          1.000000\n",
      "                1-          1.000000\n",
      "                10+         0.400000\n",
      "                20+         0.358974\n",
      "                30+         0.521739\n",
      "                40+         0.375000\n",
      "                50+         0.266667\n",
      "                60+         0.100000\n",
      "                70+         0.250000\n",
      "2       female  1+          1.000000\n",
      "                10+         1.000000\n",
      "                20+         0.888889\n",
      "                30+         0.941176\n",
      "                40+         0.900000\n",
      "                50+         0.833333\n",
      "        male    1+          1.000000\n",
      "                1-          1.000000\n",
      "                10+         0.100000\n",
      "                20+         0.054054\n",
      "                30+         0.096774\n",
      "                40+         0.125000\n",
      "                50+         0.000000\n",
      "                60+         0.333333\n",
      "                70+         0.000000\n",
      "3       female  1+          0.473684\n",
      "                1-          1.000000\n",
      "                10+         0.541667\n",
      "                20+         0.547945\n",
      "                30+         0.437500\n",
      "                40+         0.000000\n",
      "                60+         1.000000\n",
      "        male    1+          0.350000\n",
      "                1-          1.000000\n",
      "                10+         0.095238\n",
      "                20+         0.127551\n",
      "                30+         0.150943\n",
      "                40+         0.080000\n",
      "                50+         0.000000\n",
      "                60+         0.000000\n",
      "                70+         0.000000\n",
      "Name: survived, dtype: float64\n"
     ]
    }
   ],
   "source": [
    "#Create a pivot by pclass, gender and ageRange and survival chance and draw a bar graph\n",
    "#Create pivot\n",
    "temp2 = df1.pivot_table(values='survived',index=['pclass', 'sex', 'ageRange'],aggfunc=lambda x: x.mean())\n",
    "\n",
    "print ('\\nProbility of survival by class, gender and age:') \n",
    "print (temp2)"
   ]
  },
  {
   "cell_type": "code",
   "execution_count": 555,
   "metadata": {
    "collapsed": false
   },
   "outputs": [
    {
     "data": {
      "text/plain": [
       "<matplotlib.text.Text at 0x121df17f0>"
      ]
     },
     "execution_count": 555,
     "metadata": {},
     "output_type": "execute_result"
    },
    {
     "data": {
      "image/png": "[encoded data removed]",
      "text/plain": [
       "<matplotlib.figure.Figure at 0x123304a58>"
      ]
     },
     "metadata": {},
     "output_type": "display_data"
    }
   ],
   "source": [
    "#Bar graph of survival probability by sex and age range\n",
    "\n",
    "fig = plt.figure(figsize=(20,10))\n",
    "ax1 = fig.add_subplot(121)\n",
    "temp2.plot(kind = 'bar')\n",
    "ax1.set_xlabel('Class / Sex / Age Range')\n",
    "ax1.set_ylabel('Probability of survival')\n",
    "ax1.set_title(\"Probability of survival by class, sex and age range\")"
   ]
  },
  {
   "cell_type": "code",
   "execution_count": 556,
   "metadata": {
    "collapsed": false
   },
   "outputs": [
    {
     "data": {
      "text/html": [
       "<div>\n",
       "<table border=\"1\" class=\"dataframe\">\n",
       "  <thead>\n",
       "    <tr style=\"text-align: right;\">\n",
       "      <th></th>\n",
       "      <th>pclass</th>\n",
       "      <th>sex</th>\n",
       "      <th>ageRange</th>\n",
       "      <th>Survival</th>\n",
       "    </tr>\n",
       "  </thead>\n",
       "  <tbody>\n",
       "    <tr>\n",
       "      <th>0</th>\n",
       "      <td>1</td>\n",
       "      <td>female</td>\n",
       "      <td>1+</td>\n",
       "      <td>0.000000</td>\n",
       "    </tr>\n",
       "    <tr>\n",
       "      <th>1</th>\n",
       "      <td>1</td>\n",
       "      <td>female</td>\n",
       "      <td>10+</td>\n",
       "      <td>100.000000</td>\n",
       "    </tr>\n",
       "    <tr>\n",
       "      <th>2</th>\n",
       "      <td>1</td>\n",
       "      <td>female</td>\n",
       "      <td>20+</td>\n",
       "      <td>96.000000</td>\n",
       "    </tr>\n",
       "    <tr>\n",
       "      <th>3</th>\n",
       "      <td>1</td>\n",
       "      <td>female</td>\n",
       "      <td>30+</td>\n",
       "      <td>100.000000</td>\n",
       "    </tr>\n",
       "    <tr>\n",
       "      <th>4</th>\n",
       "      <td>1</td>\n",
       "      <td>female</td>\n",
       "      <td>40+</td>\n",
       "      <td>100.000000</td>\n",
       "    </tr>\n",
       "    <tr>\n",
       "      <th>5</th>\n",
       "      <td>1</td>\n",
       "      <td>female</td>\n",
       "      <td>50+</td>\n",
       "      <td>91.666667</td>\n",
       "    </tr>\n",
       "    <tr>\n",
       "      <th>6</th>\n",
       "      <td>1</td>\n",
       "      <td>female</td>\n",
       "      <td>60+</td>\n",
       "      <td>100.000000</td>\n",
       "    </tr>\n",
       "    <tr>\n",
       "      <th>7</th>\n",
       "      <td>1</td>\n",
       "      <td>male</td>\n",
       "      <td>1+</td>\n",
       "      <td>100.000000</td>\n",
       "    </tr>\n",
       "    <tr>\n",
       "      <th>8</th>\n",
       "      <td>1</td>\n",
       "      <td>male</td>\n",
       "      <td>1-</td>\n",
       "      <td>100.000000</td>\n",
       "    </tr>\n",
       "    <tr>\n",
       "      <th>9</th>\n",
       "      <td>1</td>\n",
       "      <td>male</td>\n",
       "      <td>10+</td>\n",
       "      <td>40.000000</td>\n",
       "    </tr>\n",
       "    <tr>\n",
       "      <th>10</th>\n",
       "      <td>1</td>\n",
       "      <td>male</td>\n",
       "      <td>20+</td>\n",
       "      <td>35.897436</td>\n",
       "    </tr>\n",
       "    <tr>\n",
       "      <th>11</th>\n",
       "      <td>1</td>\n",
       "      <td>male</td>\n",
       "      <td>30+</td>\n",
       "      <td>52.173913</td>\n",
       "    </tr>\n",
       "    <tr>\n",
       "      <th>12</th>\n",
       "      <td>1</td>\n",
       "      <td>male</td>\n",
       "      <td>40+</td>\n",
       "      <td>37.500000</td>\n",
       "    </tr>\n",
       "    <tr>\n",
       "      <th>13</th>\n",
       "      <td>1</td>\n",
       "      <td>male</td>\n",
       "      <td>50+</td>\n",
       "      <td>26.666667</td>\n",
       "    </tr>\n",
       "    <tr>\n",
       "      <th>14</th>\n",
       "      <td>1</td>\n",
       "      <td>male</td>\n",
       "      <td>60+</td>\n",
       "      <td>10.000000</td>\n",
       "    </tr>\n",
       "    <tr>\n",
       "      <th>15</th>\n",
       "      <td>1</td>\n",
       "      <td>male</td>\n",
       "      <td>70+</td>\n",
       "      <td>25.000000</td>\n",
       "    </tr>\n",
       "    <tr>\n",
       "      <th>16</th>\n",
       "      <td>2</td>\n",
       "      <td>female</td>\n",
       "      <td>1+</td>\n",
       "      <td>100.000000</td>\n",
       "    </tr>\n",
       "    <tr>\n",
       "      <th>17</th>\n",
       "      <td>2</td>\n",
       "      <td>female</td>\n",
       "      <td>10+</td>\n",
       "      <td>100.000000</td>\n",
       "    </tr>\n",
       "    <tr>\n",
       "      <th>18</th>\n",
       "      <td>2</td>\n",
       "      <td>female</td>\n",
       "      <td>20+</td>\n",
       "      <td>88.888889</td>\n",
       "    </tr>\n",
       "    <tr>\n",
       "      <th>19</th>\n",
       "      <td>2</td>\n",
       "      <td>female</td>\n",
       "      <td>30+</td>\n",
       "      <td>94.117647</td>\n",
       "    </tr>\n",
       "    <tr>\n",
       "      <th>20</th>\n",
       "      <td>2</td>\n",
       "      <td>female</td>\n",
       "      <td>40+</td>\n",
       "      <td>90.000000</td>\n",
       "    </tr>\n",
       "    <tr>\n",
       "      <th>21</th>\n",
       "      <td>2</td>\n",
       "      <td>female</td>\n",
       "      <td>50+</td>\n",
       "      <td>83.333333</td>\n",
       "    </tr>\n",
       "    <tr>\n",
       "      <th>22</th>\n",
       "      <td>2</td>\n",
       "      <td>male</td>\n",
       "      <td>1+</td>\n",
       "      <td>100.000000</td>\n",
       "    </tr>\n",
       "    <tr>\n",
       "      <th>23</th>\n",
       "      <td>2</td>\n",
       "      <td>male</td>\n",
       "      <td>1-</td>\n",
       "      <td>100.000000</td>\n",
       "    </tr>\n",
       "    <tr>\n",
       "      <th>24</th>\n",
       "      <td>2</td>\n",
       "      <td>male</td>\n",
       "      <td>10+</td>\n",
       "      <td>10.000000</td>\n",
       "    </tr>\n",
       "    <tr>\n",
       "      <th>25</th>\n",
       "      <td>2</td>\n",
       "      <td>male</td>\n",
       "      <td>20+</td>\n",
       "      <td>5.405405</td>\n",
       "    </tr>\n",
       "    <tr>\n",
       "      <th>26</th>\n",
       "      <td>2</td>\n",
       "      <td>male</td>\n",
       "      <td>30+</td>\n",
       "      <td>9.677419</td>\n",
       "    </tr>\n",
       "    <tr>\n",
       "      <th>27</th>\n",
       "      <td>2</td>\n",
       "      <td>male</td>\n",
       "      <td>40+</td>\n",
       "      <td>12.500000</td>\n",
       "    </tr>\n",
       "    <tr>\n",
       "      <th>28</th>\n",
       "      <td>2</td>\n",
       "      <td>male</td>\n",
       "      <td>50+</td>\n",
       "      <td>0.000000</td>\n",
       "    </tr>\n",
       "    <tr>\n",
       "      <th>29</th>\n",
       "      <td>2</td>\n",
       "      <td>male</td>\n",
       "      <td>60+</td>\n",
       "      <td>33.333333</td>\n",
       "    </tr>\n",
       "    <tr>\n",
       "      <th>30</th>\n",
       "      <td>2</td>\n",
       "      <td>male</td>\n",
       "      <td>70+</td>\n",
       "      <td>0.000000</td>\n",
       "    </tr>\n",
       "    <tr>\n",
       "      <th>31</th>\n",
       "      <td>3</td>\n",
       "      <td>female</td>\n",
       "      <td>1+</td>\n",
       "      <td>47.368421</td>\n",
       "    </tr>\n",
       "    <tr>\n",
       "      <th>32</th>\n",
       "      <td>3</td>\n",
       "      <td>female</td>\n",
       "      <td>1-</td>\n",
       "      <td>100.000000</td>\n",
       "    </tr>\n",
       "    <tr>\n",
       "      <th>33</th>\n",
       "      <td>3</td>\n",
       "      <td>female</td>\n",
       "      <td>10+</td>\n",
       "      <td>54.166667</td>\n",
       "    </tr>\n",
       "    <tr>\n",
       "      <th>34</th>\n",
       "      <td>3</td>\n",
       "      <td>female</td>\n",
       "      <td>20+</td>\n",
       "      <td>54.794521</td>\n",
       "    </tr>\n",
       "    <tr>\n",
       "      <th>35</th>\n",
       "      <td>3</td>\n",
       "      <td>female</td>\n",
       "      <td>30+</td>\n",
       "      <td>43.750000</td>\n",
       "    </tr>\n",
       "    <tr>\n",
       "      <th>36</th>\n",
       "      <td>3</td>\n",
       "      <td>female</td>\n",
       "      <td>40+</td>\n",
       "      <td>0.000000</td>\n",
       "    </tr>\n",
       "    <tr>\n",
       "      <th>37</th>\n",
       "      <td>3</td>\n",
       "      <td>female</td>\n",
       "      <td>60+</td>\n",
       "      <td>100.000000</td>\n",
       "    </tr>\n",
       "    <tr>\n",
       "      <th>38</th>\n",
       "      <td>3</td>\n",
       "      <td>male</td>\n",
       "      <td>1+</td>\n",
       "      <td>35.000000</td>\n",
       "    </tr>\n",
       "    <tr>\n",
       "      <th>39</th>\n",
       "      <td>3</td>\n",
       "      <td>male</td>\n",
       "      <td>1-</td>\n",
       "      <td>100.000000</td>\n",
       "    </tr>\n",
       "    <tr>\n",
       "      <th>40</th>\n",
       "      <td>3</td>\n",
       "      <td>male</td>\n",
       "      <td>10+</td>\n",
       "      <td>9.523810</td>\n",
       "    </tr>\n",
       "    <tr>\n",
       "      <th>41</th>\n",
       "      <td>3</td>\n",
       "      <td>male</td>\n",
       "      <td>20+</td>\n",
       "      <td>12.755102</td>\n",
       "    </tr>\n",
       "    <tr>\n",
       "      <th>42</th>\n",
       "      <td>3</td>\n",
       "      <td>male</td>\n",
       "      <td>30+</td>\n",
       "      <td>15.094340</td>\n",
       "    </tr>\n",
       "    <tr>\n",
       "      <th>43</th>\n",
       "      <td>3</td>\n",
       "      <td>male</td>\n",
       "      <td>40+</td>\n",
       "      <td>8.000000</td>\n",
       "    </tr>\n",
       "    <tr>\n",
       "      <th>44</th>\n",
       "      <td>3</td>\n",
       "      <td>male</td>\n",
       "      <td>50+</td>\n",
       "      <td>0.000000</td>\n",
       "    </tr>\n",
       "    <tr>\n",
       "      <th>45</th>\n",
       "      <td>3</td>\n",
       "      <td>male</td>\n",
       "      <td>60+</td>\n",
       "      <td>0.000000</td>\n",
       "    </tr>\n",
       "    <tr>\n",
       "      <th>46</th>\n",
       "      <td>3</td>\n",
       "      <td>male</td>\n",
       "      <td>70+</td>\n",
       "      <td>0.000000</td>\n",
       "    </tr>\n",
       "  </tbody>\n",
       "</table>\n",
       "</div>"
      ],
      "text/plain": [
       "    pclass     sex ageRange    Survival\n",
       "0        1  female       1+    0.000000\n",
       "1        1  female      10+  100.000000\n",
       "2        1  female      20+   96.000000\n",
       "3        1  female      30+  100.000000\n",
       "4        1  female      40+  100.000000\n",
       "5        1  female      50+   91.666667\n",
       "6        1  female      60+  100.000000\n",
       "7        1    male       1+  100.000000\n",
       "8        1    male       1-  100.000000\n",
       "9        1    male      10+   40.000000\n",
       "10       1    male      20+   35.897436\n",
       "11       1    male      30+   52.173913\n",
       "12       1    male      40+   37.500000\n",
       "13       1    male      50+   26.666667\n",
       "14       1    male      60+   10.000000\n",
       "15       1    male      70+   25.000000\n",
       "16       2  female       1+  100.000000\n",
       "17       2  female      10+  100.000000\n",
       "18       2  female      20+   88.888889\n",
       "19       2  female      30+   94.117647\n",
       "20       2  female      40+   90.000000\n",
       "21       2  female      50+   83.333333\n",
       "22       2    male       1+  100.000000\n",
       "23       2    male       1-  100.000000\n",
       "24       2    male      10+   10.000000\n",
       "25       2    male      20+    5.405405\n",
       "26       2    male      30+    9.677419\n",
       "27       2    male      40+   12.500000\n",
       "28       2    male      50+    0.000000\n",
       "29       2    male      60+   33.333333\n",
       "30       2    male      70+    0.000000\n",
       "31       3  female       1+   47.368421\n",
       "32       3  female       1-  100.000000\n",
       "33       3  female      10+   54.166667\n",
       "34       3  female      20+   54.794521\n",
       "35       3  female      30+   43.750000\n",
       "36       3  female      40+    0.000000\n",
       "37       3  female      60+  100.000000\n",
       "38       3    male       1+   35.000000\n",
       "39       3    male       1-  100.000000\n",
       "40       3    male      10+    9.523810\n",
       "41       3    male      20+   12.755102\n",
       "42       3    male      30+   15.094340\n",
       "43       3    male      40+    8.000000\n",
       "44       3    male      50+    0.000000\n",
       "45       3    male      60+    0.000000\n",
       "46       3    male      70+    0.000000"
      ]
     },
     "execution_count": 556,
     "metadata": {},
     "output_type": "execute_result"
    }
   ],
   "source": [
    "#Create a Dataframe with the above pivot conntaining pclass, sex, ageRange and Survval chance\n",
    "\n",
    "df_pivot = pd.DataFrame({'count' : df1.pivot_table(values='survived',\n",
    "    index=['pclass', 'sex', 'ageRange'],aggfunc=lambda x: x.mean()*100)}).reset_index()\n",
    "\n",
    "df_pivot.columns = ['pclass', 'sex', 'ageRange', 'Survival']\n",
    "df_pivot"
   ]
  },
  {
   "cell_type": "code",
   "execution_count": 557,
   "metadata": {
    "collapsed": false
   },
   "outputs": [
    {
     "name": "stdout",
     "output_type": "stream",
     "text": [
      "\n",
      "Probility of survival by gender :\n",
      "sex\n",
      "female    0.742038\n",
      "male      0.188908\n",
      "Name: survived, dtype: float64\n"
     ]
    }
   ],
   "source": [
    "#Check survival chance with gender \n",
    "#Create pivot\n",
    "temp2 = df1.pivot_table(values='survived',index=['sex'],aggfunc=lambda x: x.mean())\n",
    "\n",
    "print ('\\nProbility of survival by gender :') \n",
    "print (temp2)"
   ]
  },
  {
   "cell_type": "code",
   "execution_count": 558,
   "metadata": {
    "collapsed": false
   },
   "outputs": [
    {
     "data": {
      "image/png": "[encoded data removed]",
      "text/plain": [
       "<matplotlib.figure.Figure at 0x11d02bf98>"
      ]
     },
     "metadata": {},
     "output_type": "display_data"
    }
   ],
   "source": [
    "#Violin plot to represent survival by sex\n",
    "\n",
    "sns.violinplot(df1['sex'], df1['survived']) #Variable Plot\n",
    "sns.despine()"
   ]
  },
  {
   "cell_type": "code",
   "execution_count": 559,
   "metadata": {
    "collapsed": false
   },
   "outputs": [
    {
     "name": "stdout",
     "output_type": "stream",
     "text": [
      "\n",
      "Probility of survival by age:\n",
      "ageRange\n",
      "1+     0.563636\n",
      "1-     1.000000\n",
      "10+    0.401961\n",
      "20+    0.324937\n",
      "30+    0.437126\n",
      "40+    0.382022\n",
      "50+    0.416667\n",
      "60+    0.315789\n",
      "70+    0.142857\n",
      "Name: survived, dtype: float64\n"
     ]
    }
   ],
   "source": [
    "#Check survival chance with age\n",
    "#Create pivot\n",
    "temp2 = df1.pivot_table(values='survived',index=['ageRange'],aggfunc=lambda x: x.mean())\n",
    "\n",
    "print ('\\nProbility of survival by age:') \n",
    "print (temp2)"
   ]
  },
  {
   "cell_type": "code",
   "execution_count": 560,
   "metadata": {
    "collapsed": false
   },
   "outputs": [
    {
     "data": {
      "text/plain": [
       "<matplotlib.text.Text at 0x121e3a4a8>"
      ]
     },
     "execution_count": 560,
     "metadata": {},
     "output_type": "execute_result"
    },
    {
     "data": {
      "image/png": "[encoded data removed]",
      "text/plain": [
       "<matplotlib.figure.Figure at 0x1230576a0>"
      ]
     },
     "metadata": {},
     "output_type": "display_data"
    }
   ],
   "source": [
    "#Bar graph of survival probability by age range\n",
    "fig = plt.figure(figsize=(8,4))\n",
    "ax1 = fig.add_subplot(121)\n",
    "temp2.plot(kind = 'bar')\n",
    "ax1.set_xlabel('Age Range')\n",
    "ax1.set_ylabel('Probability of survival')\n",
    "ax1.set_title(\"Probability of survival by age range\")"
   ]
  },
  {
   "cell_type": "code",
   "execution_count": null,
   "metadata": {
    "collapsed": true
   },
   "outputs": [],
   "source": []
  },
  {
   "cell_type": "code",
   "execution_count": 561,
   "metadata": {
    "collapsed": false
   },
   "outputs": [
    {
     "data": {
      "image/png": "[encoded data removed]",
      "text/plain": [
       "<matplotlib.figure.Figure at 0x121e356d8>"
      ]
     },
     "metadata": {},
     "output_type": "display_data"
    }
   ],
   "source": [
    "#Violin plot to represent survival by age\n",
    "import matplotlib.pyplot as plt\n",
    "import seaborn as sns \n",
    "sns.violinplot(df1['ageRange'], df1['survived']) #Variable Plot\n",
    "sns.despine()"
   ]
  },
  {
   "cell_type": "code",
   "execution_count": 562,
   "metadata": {
    "collapsed": false
   },
   "outputs": [
    {
     "data": {
      "image/png": "[encoded data removed]",
      "text/plain": [
       "<matplotlib.figure.Figure at 0x121673fd0>"
      ]
     },
     "metadata": {},
     "output_type": "display_data"
    }
   ],
   "source": [
    "#Check Survival chance by CabinID\n",
    "#Group Survical by CabinID\n",
    "#Draw a Pie\n",
    "#Pie chart of number of survived by gender\n",
    "var=df.groupby(['CabinID']).sum().stack()\n",
    "temp=var.unstack()\n",
    "type(temp)\n",
    "x_list = temp['survived']\n",
    "label_list = temp.index\n",
    "pyplot.axis(\"equal\") #The pie chart is oval by default. To make it a circle use pyplot.axis(\"equal\")\n",
    "#To show the percentage of each pie slice, pass an output format to the autopctparameter \n",
    "plt.pie(x_list,labels=label_list,autopct=\"%1.1f%%\") \n",
    "plt.title(\"survived by Cabin\")\n",
    "plt.show()"
   ]
  },
  {
   "cell_type": "code",
   "execution_count": 563,
   "metadata": {
    "collapsed": false
   },
   "outputs": [
    {
     "name": "stdout",
     "output_type": "stream",
     "text": [
      "\n",
      "Probility of survival by Cabin:\n",
      "CabinID\n",
      "A    0.466667\n",
      "B    0.744681\n",
      "C    0.593220\n",
      "D    0.757576\n",
      "E    0.750000\n",
      "F    0.615385\n",
      "G    0.500000\n",
      "T    0.000000\n",
      "n    0.299854\n",
      "Name: survived, dtype: float64\n"
     ]
    }
   ],
   "source": [
    "#Draw a Bar through Pivot\n",
    "temp2 = df1.pivot_table(values='survived',index=['CabinID'],aggfunc=lambda x: x.mean())\n",
    "\n",
    "print ('\\nProbility of survival by Cabin:') \n",
    "print (temp2)"
   ]
  },
  {
   "cell_type": "code",
   "execution_count": 564,
   "metadata": {
    "collapsed": false
   },
   "outputs": [
    {
     "data": {
      "text/plain": [
       "<matplotlib.text.Text at 0x123792f60>"
      ]
     },
     "execution_count": 564,
     "metadata": {},
     "output_type": "execute_result"
    },
    {
     "data": {
      "image/png": "[encoded data removed]",
      "text/plain": [
       "<matplotlib.figure.Figure at 0x12362c630>"
      ]
     },
     "metadata": {},
     "output_type": "display_data"
    }
   ],
   "source": [
    "#Bar graph of survival probability by Cabin\n",
    "fig = plt.figure(figsize=(8,4))\n",
    "ax1 = fig.add_subplot(121)\n",
    "temp2.plot(kind = 'bar')\n",
    "ax1.set_xlabel('Cabin')\n",
    "ax1.set_ylabel('Probability of survival')\n",
    "ax1.set_title(\"Probability of survival by Cabin\")"
   ]
  },
  {
   "cell_type": "code",
   "execution_count": 565,
   "metadata": {
    "collapsed": false
   },
   "outputs": [
    {
     "name": "stdout",
     "output_type": "stream",
     "text": [
      "\n",
      "Probility of survival by Class and Cabin:\n",
      "pclass  CabinID\n",
      "1       A          0.466667\n",
      "        B          0.744681\n",
      "        C          0.593220\n",
      "        D          0.758621\n",
      "        E          0.720000\n",
      "        T          0.000000\n",
      "        n          0.475000\n",
      "2       D          0.750000\n",
      "        E          0.750000\n",
      "        F          0.875000\n",
      "        n          0.440476\n",
      "3       E          1.000000\n",
      "        F          0.200000\n",
      "        G          0.500000\n",
      "        n          0.235908\n",
      "Name: survived, dtype: float64\n"
     ]
    }
   ],
   "source": [
    "#Measure Survival chance by pclass and Cabin\n",
    "#Draw a Bar through Pivot for Survival chance vs. pclass and Cabin\n",
    "temp2 = df1.pivot_table(values='survived',index=['pclass', 'CabinID'],aggfunc=lambda x: x.mean())\n",
    "\n",
    "print ('\\nProbility of survival by Class and Cabin:') \n",
    "print (temp2)"
   ]
  },
  {
   "cell_type": "code",
   "execution_count": 566,
   "metadata": {
    "collapsed": false
   },
   "outputs": [
    {
     "data": {
      "text/plain": [
       "<matplotlib.text.Text at 0x1238779e8>"
      ]
     },
     "execution_count": 566,
     "metadata": {},
     "output_type": "execute_result"
    },
    {
     "data": {
      "image/png": "[encoded data removed]",
      "text/plain": [
       "<matplotlib.figure.Figure at 0x123789160>"
      ]
     },
     "metadata": {},
     "output_type": "display_data"
    }
   ],
   "source": [
    "#Bar graph of survival probability by Class and Cabin\n",
    "fig = plt.figure(figsize=(8,4))\n",
    "ax1 = fig.add_subplot(121)\n",
    "temp2.plot(kind = 'bar')\n",
    "ax1.set_xlabel('Class and Cabin')\n",
    "ax1.set_ylabel('Probability of survival')\n",
    "ax1.set_title(\"Probability of survival by Class and Cabin\")"
   ]
  },
  {
   "cell_type": "code",
   "execution_count": 567,
   "metadata": {
    "collapsed": false
   },
   "outputs": [
    {
     "name": "stdout",
     "output_type": "stream",
     "text": [
      "\n",
      "Probility of survival by Embarked Port:\n",
      "embarkedPort\n",
      "Cherbourg      0.553571\n",
      "Queenstown     0.389610\n",
      "Southampton    0.339009\n",
      "Name: survived, dtype: float64\n"
     ]
    }
   ],
   "source": [
    "#Measure by embarked Port\n",
    "#Measure Survival chance by EmbarkedPort\n",
    "#Draw a Bar through Pivot for Survival chance vs. embarked port\n",
    "temp2 = df1.pivot_table(values='survived',index=['embarkedPort'],aggfunc=lambda x: x.mean())\n",
    "\n",
    "print ('\\nProbility of survival by Embarked Port:') \n",
    "print (temp2)"
   ]
  },
  {
   "cell_type": "code",
   "execution_count": 568,
   "metadata": {
    "collapsed": false
   },
   "outputs": [
    {
     "data": {
      "text/plain": [
       "<matplotlib.text.Text at 0x123ae66a0>"
      ]
     },
     "execution_count": 568,
     "metadata": {},
     "output_type": "execute_result"
    },
    {
     "data": {
      "image/png": "[encoded data removed]",
      "text/plain": [
       "<matplotlib.figure.Figure at 0x123a1acc0>"
      ]
     },
     "metadata": {},
     "output_type": "display_data"
    }
   ],
   "source": [
    "#Bar graph of survival probability by Embarked Port\n",
    "fig = plt.figure(figsize=(8,4))\n",
    "ax1 = fig.add_subplot(121)\n",
    "temp2.plot(kind = 'bar')\n",
    "ax1.set_xlabel('Emabarked Port')\n",
    "ax1.set_ylabel('Probability of survival')\n",
    "ax1.set_title(\"Probability of survival by Embarked Port\")"
   ]
  },
  {
   "cell_type": "code",
   "execution_count": 569,
   "metadata": {
    "collapsed": false
   },
   "outputs": [
    {
     "name": "stdout",
     "output_type": "stream",
     "text": [
      "\n",
      "Probility of survival by Cabib, lastname, gender, parch, sibsp:\n",
      "CabinID  ticket             lastname         sex     parch  sibsp\n",
      "A        110465             Clifford         male    0      0        0.0\n",
      "         112050             Andrews          male    0      0        0.0\n",
      "         112277             Blank            male    0      0        1.0\n",
      "         113056             Smith            male    0      0        0.0\n",
      "         113767             Rood             male    0      0        0.0\n",
      "         113788             Sloper           male    0      0        1.0\n",
      "         11755              Duff Gordon      female  0      1        1.0\n",
      "         13049              Ross             male    0      0        0.0\n",
      "         13213              Simonius-Blumer  male    0      0        1.0\n",
      "         17764              Smith            male    0      0        0.0\n",
      "         27042              Barkworth        male    0      0        1.0\n",
      "         33638              Dodge            male    2      0        1.0\n",
      "         PC 17485           Duff Gordon      male    0      1        1.0\n",
      "         PC 17590           Roebling         male    0      0        0.0\n",
      "         PC 17754           Goldschmidt      male    0      0        0.0\n",
      "B        110152             Cherry           female  0      0        1.0\n",
      "                            Maioni           female  0      0        1.0\n",
      "                            Rothes           female  0      0        1.0\n",
      "         111240             Van der hoef     male    0      0        0.0\n",
      "         111361             Hippach          female  1      0        1.0\n",
      "         112053             Graham           female  0      0        1.0\n",
      "         112058             Fry              male    0      0        0.0\n",
      "         112059             Harrison         male    0      0        0.0\n",
      "         113050             Butt             male    0      0        0.0\n",
      "         113509             Ostby            male    1      0        0.0\n",
      "         113572             Icard            female  0      0        1.0\n",
      "                            Stone            female  0      0        1.0\n",
      "         113760             Carter           female  2      1        1.0\n",
      "                                             male    2      1        1.0\n",
      "         11771              Kent             male    0      0        0.0\n",
      "                                                                    ... \n",
      "n        SOTON/OQ 392089    Sunderland       male    0      0        1.0\n",
      "         SOTON/OQ 392090    Corn             male    0      0        0.0\n",
      "         STON/O 2. 3101269  Sundman          male    0      0        1.0\n",
      "         STON/O 2. 3101273  Rintamaki        male    0      0        0.0\n",
      "         STON/O 2. 3101274  Kallio           male    0      0        0.0\n",
      "         STON/O 2. 3101275  Maenpaa          male    0      0        0.0\n",
      "         STON/O 2. 3101280  Sivola           male    0      0        0.0\n",
      "         STON/O 2. 3101285  Lindqvist        male    0      1        1.0\n",
      "         STON/O 2. 3101286  Jussila          male    0      0        1.0\n",
      "         STON/O 2. 3101288  Stranden         male    0      0        1.0\n",
      "         STON/O 2. 3101289  Niskanen         male    0      0        1.0\n",
      "         STON/O 2. 3101292  Leinonen         male    0      0        0.0\n",
      "         STON/O 2. 3101293  Tikkanen         male    0      0        0.0\n",
      "         STON/O 2. 3101294  Pekoniemi        male    0      0        0.0\n",
      "         STON/O2. 3101271   Ilmakangas       female  0      1        0.0\n",
      "         STON/O2. 3101279   Hakkarainen      female  0      1        1.0\n",
      "                                             male    0      1        0.0\n",
      "         STON/O2. 3101282   Heikkinen        female  0      0        1.0\n",
      "         STON/O2. 3101283   Honkanen         female  0      0        1.0\n",
      "         STON/O2. 3101290   Heininen         female  0      0        0.0\n",
      "         SW/PP 751          Mellors          male    0      0        1.0\n",
      "         W./C. 14258        Ridsdale         female  0      0        1.0\n",
      "         W./C. 14263        Coleridge        male    0      0        0.0\n",
      "         W./C. 6607         Johnston         female  2      1        0.0\n",
      "                                             male    2      1        0.0\n",
      "         W./C. 6608         Ford             female  2      2        0.0\n",
      "                                                     3      1        0.0\n",
      "                                             male    3      1        0.0\n",
      "         W./C. 6609         Harknett         female  0      0        0.0\n",
      "         W/C 14208          Harris           male    0      0        0.0\n",
      "Name: survived, dtype: float64\n"
     ]
    }
   ],
   "source": [
    "#Check with parch in combo with cabin and lastname, gender. Do a pivot\n",
    "temp2 = df1.pivot_table(values='survived',index=['CabinID', 'ticket', 'lastname', 'sex', 'parch', 'sibsp'],aggfunc=lambda x: x.mean())\n",
    "\n",
    "print ('\\nProbility of survival by Cabib, lastname, gender, parch, sibsp:') \n",
    "print (temp2)"
   ]
  },
  {
   "cell_type": "code",
   "execution_count": 570,
   "metadata": {
    "collapsed": false
   },
   "outputs": [
    {
     "data": {
      "text/html": [
       "<div>\n",
       "<table border=\"1\" class=\"dataframe\">\n",
       "  <thead>\n",
       "    <tr style=\"text-align: right;\">\n",
       "      <th></th>\n",
       "      <th>CabinID</th>\n",
       "      <th>Ticket</th>\n",
       "      <th>LastName</th>\n",
       "      <th>Gender</th>\n",
       "      <th>ParentChild</th>\n",
       "      <th>SpouseSibling</th>\n",
       "      <th>survived</th>\n",
       "    </tr>\n",
       "  </thead>\n",
       "  <tbody>\n",
       "    <tr>\n",
       "      <th>14</th>\n",
       "      <td>A</td>\n",
       "      <td>PC 17754</td>\n",
       "      <td>Goldschmidt</td>\n",
       "      <td>male</td>\n",
       "      <td>0</td>\n",
       "      <td>0</td>\n",
       "      <td>0.0</td>\n",
       "    </tr>\n",
       "    <tr>\n",
       "      <th>13</th>\n",
       "      <td>A</td>\n",
       "      <td>PC 17590</td>\n",
       "      <td>Roebling</td>\n",
       "      <td>male</td>\n",
       "      <td>0</td>\n",
       "      <td>0</td>\n",
       "      <td>0.0</td>\n",
       "    </tr>\n",
       "    <tr>\n",
       "      <th>12</th>\n",
       "      <td>A</td>\n",
       "      <td>PC 17485</td>\n",
       "      <td>Duff Gordon</td>\n",
       "      <td>male</td>\n",
       "      <td>0</td>\n",
       "      <td>1</td>\n",
       "      <td>1.0</td>\n",
       "    </tr>\n",
       "    <tr>\n",
       "      <th>11</th>\n",
       "      <td>A</td>\n",
       "      <td>33638</td>\n",
       "      <td>Dodge</td>\n",
       "      <td>male</td>\n",
       "      <td>2</td>\n",
       "      <td>0</td>\n",
       "      <td>1.0</td>\n",
       "    </tr>\n",
       "    <tr>\n",
       "      <th>10</th>\n",
       "      <td>A</td>\n",
       "      <td>27042</td>\n",
       "      <td>Barkworth</td>\n",
       "      <td>male</td>\n",
       "      <td>0</td>\n",
       "      <td>0</td>\n",
       "      <td>1.0</td>\n",
       "    </tr>\n",
       "    <tr>\n",
       "      <th>9</th>\n",
       "      <td>A</td>\n",
       "      <td>17764</td>\n",
       "      <td>Smith</td>\n",
       "      <td>male</td>\n",
       "      <td>0</td>\n",
       "      <td>0</td>\n",
       "      <td>0.0</td>\n",
       "    </tr>\n",
       "    <tr>\n",
       "      <th>8</th>\n",
       "      <td>A</td>\n",
       "      <td>13213</td>\n",
       "      <td>Simonius-Blumer</td>\n",
       "      <td>male</td>\n",
       "      <td>0</td>\n",
       "      <td>0</td>\n",
       "      <td>1.0</td>\n",
       "    </tr>\n",
       "    <tr>\n",
       "      <th>7</th>\n",
       "      <td>A</td>\n",
       "      <td>13049</td>\n",
       "      <td>Ross</td>\n",
       "      <td>male</td>\n",
       "      <td>0</td>\n",
       "      <td>0</td>\n",
       "      <td>0.0</td>\n",
       "    </tr>\n",
       "    <tr>\n",
       "      <th>6</th>\n",
       "      <td>A</td>\n",
       "      <td>11755</td>\n",
       "      <td>Duff Gordon</td>\n",
       "      <td>female</td>\n",
       "      <td>0</td>\n",
       "      <td>1</td>\n",
       "      <td>1.0</td>\n",
       "    </tr>\n",
       "    <tr>\n",
       "      <th>5</th>\n",
       "      <td>A</td>\n",
       "      <td>113788</td>\n",
       "      <td>Sloper</td>\n",
       "      <td>male</td>\n",
       "      <td>0</td>\n",
       "      <td>0</td>\n",
       "      <td>1.0</td>\n",
       "    </tr>\n",
       "    <tr>\n",
       "      <th>4</th>\n",
       "      <td>A</td>\n",
       "      <td>113767</td>\n",
       "      <td>Rood</td>\n",
       "      <td>male</td>\n",
       "      <td>0</td>\n",
       "      <td>0</td>\n",
       "      <td>0.0</td>\n",
       "    </tr>\n",
       "    <tr>\n",
       "      <th>3</th>\n",
       "      <td>A</td>\n",
       "      <td>113056</td>\n",
       "      <td>Smith</td>\n",
       "      <td>male</td>\n",
       "      <td>0</td>\n",
       "      <td>0</td>\n",
       "      <td>0.0</td>\n",
       "    </tr>\n",
       "    <tr>\n",
       "      <th>2</th>\n",
       "      <td>A</td>\n",
       "      <td>112277</td>\n",
       "      <td>Blank</td>\n",
       "      <td>male</td>\n",
       "      <td>0</td>\n",
       "      <td>0</td>\n",
       "      <td>1.0</td>\n",
       "    </tr>\n",
       "    <tr>\n",
       "      <th>1</th>\n",
       "      <td>A</td>\n",
       "      <td>112050</td>\n",
       "      <td>Andrews</td>\n",
       "      <td>male</td>\n",
       "      <td>0</td>\n",
       "      <td>0</td>\n",
       "      <td>0.0</td>\n",
       "    </tr>\n",
       "    <tr>\n",
       "      <th>0</th>\n",
       "      <td>A</td>\n",
       "      <td>110465</td>\n",
       "      <td>Clifford</td>\n",
       "      <td>male</td>\n",
       "      <td>0</td>\n",
       "      <td>0</td>\n",
       "      <td>0.0</td>\n",
       "    </tr>\n",
       "    <tr>\n",
       "      <th>56</th>\n",
       "      <td>B</td>\n",
       "      <td>WE/P 5735</td>\n",
       "      <td>Crosby</td>\n",
       "      <td>female</td>\n",
       "      <td>2</td>\n",
       "      <td>0</td>\n",
       "      <td>1.0</td>\n",
       "    </tr>\n",
       "    <tr>\n",
       "      <th>57</th>\n",
       "      <td>B</td>\n",
       "      <td>WE/P 5735</td>\n",
       "      <td>Crosby</td>\n",
       "      <td>male</td>\n",
       "      <td>1</td>\n",
       "      <td>1</td>\n",
       "      <td>0.0</td>\n",
       "    </tr>\n",
       "    <tr>\n",
       "      <th>54</th>\n",
       "      <td>B</td>\n",
       "      <td>PC 17755</td>\n",
       "      <td>Cardeza</td>\n",
       "      <td>male</td>\n",
       "      <td>1</td>\n",
       "      <td>0</td>\n",
       "      <td>1.0</td>\n",
       "    </tr>\n",
       "    <tr>\n",
       "      <th>55</th>\n",
       "      <td>B</td>\n",
       "      <td>PC 17755</td>\n",
       "      <td>Lesurer</td>\n",
       "      <td>male</td>\n",
       "      <td>0</td>\n",
       "      <td>0</td>\n",
       "      <td>1.0</td>\n",
       "    </tr>\n",
       "    <tr>\n",
       "      <th>53</th>\n",
       "      <td>B</td>\n",
       "      <td>PC 17610</td>\n",
       "      <td>Brown</td>\n",
       "      <td>female</td>\n",
       "      <td>0</td>\n",
       "      <td>0</td>\n",
       "      <td>1.0</td>\n",
       "    </tr>\n",
       "    <tr>\n",
       "      <th>52</th>\n",
       "      <td>B</td>\n",
       "      <td>PC 17608</td>\n",
       "      <td>Ryerson</td>\n",
       "      <td>female</td>\n",
       "      <td>2</td>\n",
       "      <td>2</td>\n",
       "      <td>1.0</td>\n",
       "    </tr>\n",
       "    <tr>\n",
       "      <th>50</th>\n",
       "      <td>B</td>\n",
       "      <td>PC 17593</td>\n",
       "      <td>Giglio</td>\n",
       "      <td>male</td>\n",
       "      <td>0</td>\n",
       "      <td>0</td>\n",
       "      <td>0.0</td>\n",
       "    </tr>\n",
       "    <tr>\n",
       "      <th>51</th>\n",
       "      <td>B</td>\n",
       "      <td>PC 17593</td>\n",
       "      <td>Guggenheim</td>\n",
       "      <td>male</td>\n",
       "      <td>0</td>\n",
       "      <td>0</td>\n",
       "      <td>0.0</td>\n",
       "    </tr>\n",
       "    <tr>\n",
       "      <th>48</th>\n",
       "      <td>B</td>\n",
       "      <td>PC 17569</td>\n",
       "      <td>Lurette</td>\n",
       "      <td>female</td>\n",
       "      <td>0</td>\n",
       "      <td>0</td>\n",
       "      <td>1.0</td>\n",
       "    </tr>\n",
       "    <tr>\n",
       "      <th>49</th>\n",
       "      <td>B</td>\n",
       "      <td>PC 17569</td>\n",
       "      <td>Spencer</td>\n",
       "      <td>female</td>\n",
       "      <td>0</td>\n",
       "      <td>1</td>\n",
       "      <td>1.0</td>\n",
       "    </tr>\n",
       "    <tr>\n",
       "      <th>46</th>\n",
       "      <td>B</td>\n",
       "      <td>PC 17558</td>\n",
       "      <td>Baxter</td>\n",
       "      <td>female</td>\n",
       "      <td>1</td>\n",
       "      <td>0</td>\n",
       "      <td>1.0</td>\n",
       "    </tr>\n",
       "    <tr>\n",
       "      <th>47</th>\n",
       "      <td>B</td>\n",
       "      <td>PC 17558</td>\n",
       "      <td>Baxter</td>\n",
       "      <td>male</td>\n",
       "      <td>1</td>\n",
       "      <td>0</td>\n",
       "      <td>0.0</td>\n",
       "    </tr>\n",
       "    <tr>\n",
       "      <th>44</th>\n",
       "      <td>B</td>\n",
       "      <td>PC 17477</td>\n",
       "      <td>Aubart</td>\n",
       "      <td>female</td>\n",
       "      <td>0</td>\n",
       "      <td>0</td>\n",
       "      <td>1.0</td>\n",
       "    </tr>\n",
       "    <tr>\n",
       "      <th>45</th>\n",
       "      <td>B</td>\n",
       "      <td>PC 17477</td>\n",
       "      <td>Sagesser</td>\n",
       "      <td>female</td>\n",
       "      <td>0</td>\n",
       "      <td>0</td>\n",
       "      <td>1.0</td>\n",
       "    </tr>\n",
       "    <tr>\n",
       "      <th>43</th>\n",
       "      <td>B</td>\n",
       "      <td>F.C. 12750</td>\n",
       "      <td>Davidson</td>\n",
       "      <td>male</td>\n",
       "      <td>0</td>\n",
       "      <td>1</td>\n",
       "      <td>0.0</td>\n",
       "    </tr>\n",
       "    <tr>\n",
       "      <th>...</th>\n",
       "      <td>...</td>\n",
       "      <td>...</td>\n",
       "      <td>...</td>\n",
       "      <td>...</td>\n",
       "      <td>...</td>\n",
       "      <td>...</td>\n",
       "      <td>...</td>\n",
       "    </tr>\n",
       "    <tr>\n",
       "      <th>221</th>\n",
       "      <td>n</td>\n",
       "      <td>1601</td>\n",
       "      <td>Chip</td>\n",
       "      <td>male</td>\n",
       "      <td>0</td>\n",
       "      <td>0</td>\n",
       "      <td>1.0</td>\n",
       "    </tr>\n",
       "    <tr>\n",
       "      <th>222</th>\n",
       "      <td>n</td>\n",
       "      <td>1601</td>\n",
       "      <td>Foo</td>\n",
       "      <td>male</td>\n",
       "      <td>0</td>\n",
       "      <td>0</td>\n",
       "      <td>1.0</td>\n",
       "    </tr>\n",
       "    <tr>\n",
       "      <th>223</th>\n",
       "      <td>n</td>\n",
       "      <td>1601</td>\n",
       "      <td>Lam</td>\n",
       "      <td>male</td>\n",
       "      <td>0</td>\n",
       "      <td>0</td>\n",
       "      <td>0.5</td>\n",
       "    </tr>\n",
       "    <tr>\n",
       "      <th>224</th>\n",
       "      <td>n</td>\n",
       "      <td>1601</td>\n",
       "      <td>Lang</td>\n",
       "      <td>male</td>\n",
       "      <td>0</td>\n",
       "      <td>0</td>\n",
       "      <td>1.0</td>\n",
       "    </tr>\n",
       "    <tr>\n",
       "      <th>225</th>\n",
       "      <td>n</td>\n",
       "      <td>1601</td>\n",
       "      <td>Ling</td>\n",
       "      <td>male</td>\n",
       "      <td>0</td>\n",
       "      <td>0</td>\n",
       "      <td>0.0</td>\n",
       "    </tr>\n",
       "    <tr>\n",
       "      <th>219</th>\n",
       "      <td>n</td>\n",
       "      <td>14973</td>\n",
       "      <td>Gilinski</td>\n",
       "      <td>male</td>\n",
       "      <td>0</td>\n",
       "      <td>0</td>\n",
       "      <td>0.0</td>\n",
       "    </tr>\n",
       "    <tr>\n",
       "      <th>218</th>\n",
       "      <td>n</td>\n",
       "      <td>14313</td>\n",
       "      <td>Jermyn</td>\n",
       "      <td>female</td>\n",
       "      <td>0</td>\n",
       "      <td>0</td>\n",
       "      <td>1.0</td>\n",
       "    </tr>\n",
       "    <tr>\n",
       "      <th>217</th>\n",
       "      <td>n</td>\n",
       "      <td>14312</td>\n",
       "      <td>Kelly</td>\n",
       "      <td>female</td>\n",
       "      <td>0</td>\n",
       "      <td>0</td>\n",
       "      <td>1.0</td>\n",
       "    </tr>\n",
       "    <tr>\n",
       "      <th>216</th>\n",
       "      <td>n</td>\n",
       "      <td>14311</td>\n",
       "      <td>O'Driscoll</td>\n",
       "      <td>female</td>\n",
       "      <td>0</td>\n",
       "      <td>0</td>\n",
       "      <td>1.0</td>\n",
       "    </tr>\n",
       "    <tr>\n",
       "      <th>215</th>\n",
       "      <td>n</td>\n",
       "      <td>12460</td>\n",
       "      <td>Keane</td>\n",
       "      <td>male</td>\n",
       "      <td>0</td>\n",
       "      <td>0</td>\n",
       "      <td>0.0</td>\n",
       "    </tr>\n",
       "    <tr>\n",
       "      <th>214</th>\n",
       "      <td>n</td>\n",
       "      <td>12233</td>\n",
       "      <td>Gillespie</td>\n",
       "      <td>male</td>\n",
       "      <td>0</td>\n",
       "      <td>0</td>\n",
       "      <td>0.0</td>\n",
       "    </tr>\n",
       "    <tr>\n",
       "      <th>212</th>\n",
       "      <td>n</td>\n",
       "      <td>11668</td>\n",
       "      <td>Turpin</td>\n",
       "      <td>female</td>\n",
       "      <td>0</td>\n",
       "      <td>1</td>\n",
       "      <td>0.0</td>\n",
       "    </tr>\n",
       "    <tr>\n",
       "      <th>213</th>\n",
       "      <td>n</td>\n",
       "      <td>11668</td>\n",
       "      <td>Turpin</td>\n",
       "      <td>male</td>\n",
       "      <td>0</td>\n",
       "      <td>1</td>\n",
       "      <td>0.0</td>\n",
       "    </tr>\n",
       "    <tr>\n",
       "      <th>211</th>\n",
       "      <td>n</td>\n",
       "      <td>113807</td>\n",
       "      <td>Wright</td>\n",
       "      <td>male</td>\n",
       "      <td>0</td>\n",
       "      <td>0</td>\n",
       "      <td>0.0</td>\n",
       "    </tr>\n",
       "    <tr>\n",
       "      <th>210</th>\n",
       "      <td>n</td>\n",
       "      <td>113804</td>\n",
       "      <td>Daniel</td>\n",
       "      <td>male</td>\n",
       "      <td>0</td>\n",
       "      <td>0</td>\n",
       "      <td>1.0</td>\n",
       "    </tr>\n",
       "    <tr>\n",
       "      <th>209</th>\n",
       "      <td>n</td>\n",
       "      <td>113800</td>\n",
       "      <td>Weir</td>\n",
       "      <td>male</td>\n",
       "      <td>0</td>\n",
       "      <td>0</td>\n",
       "      <td>0.0</td>\n",
       "    </tr>\n",
       "    <tr>\n",
       "      <th>207</th>\n",
       "      <td>n</td>\n",
       "      <td>113798</td>\n",
       "      <td>Cairns</td>\n",
       "      <td>male</td>\n",
       "      <td>0</td>\n",
       "      <td>0</td>\n",
       "      <td>0.0</td>\n",
       "    </tr>\n",
       "    <tr>\n",
       "      <th>208</th>\n",
       "      <td>n</td>\n",
       "      <td>113798</td>\n",
       "      <td>Serepeca</td>\n",
       "      <td>female</td>\n",
       "      <td>0</td>\n",
       "      <td>0</td>\n",
       "      <td>1.0</td>\n",
       "    </tr>\n",
       "    <tr>\n",
       "      <th>206</th>\n",
       "      <td>n</td>\n",
       "      <td>113796</td>\n",
       "      <td>Harrington</td>\n",
       "      <td>male</td>\n",
       "      <td>0</td>\n",
       "      <td>0</td>\n",
       "      <td>0.0</td>\n",
       "    </tr>\n",
       "    <tr>\n",
       "      <th>205</th>\n",
       "      <td>n</td>\n",
       "      <td>113794</td>\n",
       "      <td>Seward</td>\n",
       "      <td>male</td>\n",
       "      <td>0</td>\n",
       "      <td>0</td>\n",
       "      <td>1.0</td>\n",
       "    </tr>\n",
       "    <tr>\n",
       "      <th>204</th>\n",
       "      <td>n</td>\n",
       "      <td>113792</td>\n",
       "      <td>Smart</td>\n",
       "      <td>male</td>\n",
       "      <td>0</td>\n",
       "      <td>0</td>\n",
       "      <td>0.0</td>\n",
       "    </tr>\n",
       "    <tr>\n",
       "      <th>202</th>\n",
       "      <td>n</td>\n",
       "      <td>113789</td>\n",
       "      <td>Holverson</td>\n",
       "      <td>female</td>\n",
       "      <td>0</td>\n",
       "      <td>1</td>\n",
       "      <td>1.0</td>\n",
       "    </tr>\n",
       "    <tr>\n",
       "      <th>203</th>\n",
       "      <td>n</td>\n",
       "      <td>113789</td>\n",
       "      <td>Holverson</td>\n",
       "      <td>male</td>\n",
       "      <td>0</td>\n",
       "      <td>1</td>\n",
       "      <td>0.0</td>\n",
       "    </tr>\n",
       "    <tr>\n",
       "      <th>201</th>\n",
       "      <td>n</td>\n",
       "      <td>113781</td>\n",
       "      <td>Cleaver</td>\n",
       "      <td>female</td>\n",
       "      <td>0</td>\n",
       "      <td>0</td>\n",
       "      <td>1.0</td>\n",
       "    </tr>\n",
       "    <tr>\n",
       "      <th>200</th>\n",
       "      <td>n</td>\n",
       "      <td>113059</td>\n",
       "      <td>Carrau</td>\n",
       "      <td>male</td>\n",
       "      <td>0</td>\n",
       "      <td>0</td>\n",
       "      <td>0.0</td>\n",
       "    </tr>\n",
       "    <tr>\n",
       "      <th>199</th>\n",
       "      <td>n</td>\n",
       "      <td>112379</td>\n",
       "      <td>Brewe</td>\n",
       "      <td>male</td>\n",
       "      <td>0</td>\n",
       "      <td>0</td>\n",
       "      <td>0.0</td>\n",
       "    </tr>\n",
       "    <tr>\n",
       "      <th>198</th>\n",
       "      <td>n</td>\n",
       "      <td>112052</td>\n",
       "      <td>Parr</td>\n",
       "      <td>male</td>\n",
       "      <td>0</td>\n",
       "      <td>0</td>\n",
       "      <td>0.0</td>\n",
       "    </tr>\n",
       "    <tr>\n",
       "      <th>197</th>\n",
       "      <td>n</td>\n",
       "      <td>111428</td>\n",
       "      <td>Romaine</td>\n",
       "      <td>male</td>\n",
       "      <td>0</td>\n",
       "      <td>0</td>\n",
       "      <td>1.0</td>\n",
       "    </tr>\n",
       "    <tr>\n",
       "      <th>196</th>\n",
       "      <td>n</td>\n",
       "      <td>111427</td>\n",
       "      <td>Bradley</td>\n",
       "      <td>male</td>\n",
       "      <td>0</td>\n",
       "      <td>0</td>\n",
       "      <td>1.0</td>\n",
       "    </tr>\n",
       "    <tr>\n",
       "      <th>195</th>\n",
       "      <td>n</td>\n",
       "      <td>111426</td>\n",
       "      <td>Homer</td>\n",
       "      <td>male</td>\n",
       "      <td>0</td>\n",
       "      <td>0</td>\n",
       "      <td>1.0</td>\n",
       "    </tr>\n",
       "  </tbody>\n",
       "</table>\n",
       "<p>839 rows × 7 columns</p>\n",
       "</div>"
      ],
      "text/plain": [
       "    CabinID      Ticket         LastName  Gender  ParentChild  SpouseSibling  \\\n",
       "14        A    PC 17754      Goldschmidt    male            0              0   \n",
       "13        A    PC 17590         Roebling    male            0              0   \n",
       "12        A    PC 17485      Duff Gordon    male            0              1   \n",
       "11        A       33638            Dodge    male            2              0   \n",
       "10        A       27042        Barkworth    male            0              0   \n",
       "9         A       17764            Smith    male            0              0   \n",
       "8         A       13213  Simonius-Blumer    male            0              0   \n",
       "7         A       13049             Ross    male            0              0   \n",
       "6         A       11755      Duff Gordon  female            0              1   \n",
       "5         A      113788           Sloper    male            0              0   \n",
       "4         A      113767             Rood    male            0              0   \n",
       "3         A      113056            Smith    male            0              0   \n",
       "2         A      112277            Blank    male            0              0   \n",
       "1         A      112050          Andrews    male            0              0   \n",
       "0         A      110465         Clifford    male            0              0   \n",
       "56        B   WE/P 5735           Crosby  female            2              0   \n",
       "57        B   WE/P 5735           Crosby    male            1              1   \n",
       "54        B    PC 17755          Cardeza    male            1              0   \n",
       "55        B    PC 17755          Lesurer    male            0              0   \n",
       "53        B    PC 17610            Brown  female            0              0   \n",
       "52        B    PC 17608          Ryerson  female            2              2   \n",
       "50        B    PC 17593           Giglio    male            0              0   \n",
       "51        B    PC 17593       Guggenheim    male            0              0   \n",
       "48        B    PC 17569          Lurette  female            0              0   \n",
       "49        B    PC 17569          Spencer  female            0              1   \n",
       "46        B    PC 17558           Baxter  female            1              0   \n",
       "47        B    PC 17558           Baxter    male            1              0   \n",
       "44        B    PC 17477           Aubart  female            0              0   \n",
       "45        B    PC 17477         Sagesser  female            0              0   \n",
       "43        B  F.C. 12750         Davidson    male            0              1   \n",
       "..      ...         ...              ...     ...          ...            ...   \n",
       "221       n        1601             Chip    male            0              0   \n",
       "222       n        1601              Foo    male            0              0   \n",
       "223       n        1601              Lam    male            0              0   \n",
       "224       n        1601             Lang    male            0              0   \n",
       "225       n        1601             Ling    male            0              0   \n",
       "219       n       14973         Gilinski    male            0              0   \n",
       "218       n       14313           Jermyn  female            0              0   \n",
       "217       n       14312            Kelly  female            0              0   \n",
       "216       n       14311       O'Driscoll  female            0              0   \n",
       "215       n       12460            Keane    male            0              0   \n",
       "214       n       12233        Gillespie    male            0              0   \n",
       "212       n       11668           Turpin  female            0              1   \n",
       "213       n       11668           Turpin    male            0              1   \n",
       "211       n      113807           Wright    male            0              0   \n",
       "210       n      113804           Daniel    male            0              0   \n",
       "209       n      113800             Weir    male            0              0   \n",
       "207       n      113798           Cairns    male            0              0   \n",
       "208       n      113798         Serepeca  female            0              0   \n",
       "206       n      113796       Harrington    male            0              0   \n",
       "205       n      113794           Seward    male            0              0   \n",
       "204       n      113792            Smart    male            0              0   \n",
       "202       n      113789        Holverson  female            0              1   \n",
       "203       n      113789        Holverson    male            0              1   \n",
       "201       n      113781          Cleaver  female            0              0   \n",
       "200       n      113059           Carrau    male            0              0   \n",
       "199       n      112379            Brewe    male            0              0   \n",
       "198       n      112052             Parr    male            0              0   \n",
       "197       n      111428          Romaine    male            0              0   \n",
       "196       n      111427          Bradley    male            0              0   \n",
       "195       n      111426            Homer    male            0              0   \n",
       "\n",
       "     survived  \n",
       "14        0.0  \n",
       "13        0.0  \n",
       "12        1.0  \n",
       "11        1.0  \n",
       "10        1.0  \n",
       "9         0.0  \n",
       "8         1.0  \n",
       "7         0.0  \n",
       "6         1.0  \n",
       "5         1.0  \n",
       "4         0.0  \n",
       "3         0.0  \n",
       "2         1.0  \n",
       "1         0.0  \n",
       "0         0.0  \n",
       "56        1.0  \n",
       "57        0.0  \n",
       "54        1.0  \n",
       "55        1.0  \n",
       "53        1.0  \n",
       "52        1.0  \n",
       "50        0.0  \n",
       "51        0.0  \n",
       "48        1.0  \n",
       "49        1.0  \n",
       "46        1.0  \n",
       "47        0.0  \n",
       "44        1.0  \n",
       "45        1.0  \n",
       "43        0.0  \n",
       "..        ...  \n",
       "221       1.0  \n",
       "222       1.0  \n",
       "223       0.5  \n",
       "224       1.0  \n",
       "225       0.0  \n",
       "219       0.0  \n",
       "218       1.0  \n",
       "217       1.0  \n",
       "216       1.0  \n",
       "215       0.0  \n",
       "214       0.0  \n",
       "212       0.0  \n",
       "213       0.0  \n",
       "211       0.0  \n",
       "210       1.0  \n",
       "209       0.0  \n",
       "207       0.0  \n",
       "208       1.0  \n",
       "206       0.0  \n",
       "205       1.0  \n",
       "204       0.0  \n",
       "202       1.0  \n",
       "203       0.0  \n",
       "201       1.0  \n",
       "200       0.0  \n",
       "199       0.0  \n",
       "198       0.0  \n",
       "197       1.0  \n",
       "196       1.0  \n",
       "195       1.0  \n",
       "\n",
       "[839 rows x 7 columns]"
      ]
     },
     "execution_count": 570,
     "metadata": {},
     "output_type": "execute_result"
    }
   ],
   "source": [
    "#Create a dataframe with the above data\n",
    "\n",
    "df_relatives = pd.DataFrame({'count' : df1.pivot_table(values='survived',\n",
    "        index=['CabinID', 'ticket', 'lastname', 'sex', 'parch', 'sibsp'],\n",
    "        aggfunc=lambda x: x.mean())}).reset_index()\n",
    "df_relatives.columns=['CabinID', 'Ticket', 'LastName', 'Gender', 'ParentChild', 'SpouseSibling','survived']\n",
    "df_relatives.sort_values(['CabinID', 'Ticket'], ascending=[True, False], inplace=True)\n",
    "df_relatives"
   ]
  },
  {
   "cell_type": "code",
   "execution_count": 571,
   "metadata": {
    "collapsed": false
   },
   "outputs": [],
   "source": [
    "#Create column for relationsip ; this can have values - 'Parent/Child', 'Spouse/Sibling', 'Both'\n",
    "#, 'None'\n",
    "#Create function to derive these values\n",
    "def findRels(row):\n",
    "    if (row.ParentChild > 0 and row.SpouseSibling == 0):\n",
    "            output = 'Parent/Child'\n",
    "    elif (row.ParentChild > 0 and row.SpouseSibling > 0):\n",
    "            output = 'Both'\n",
    "    elif (row.ParentChild == 0 and row.SpouseSibling > 0):\n",
    "            output = 'Spouse/Sibling'\n",
    "    else:\n",
    "            output = 'None'\n",
    "\n",
    "    return output\n",
    "\n",
    "\n"
   ]
  },
  {
   "cell_type": "code",
   "execution_count": 572,
   "metadata": {
    "collapsed": false
   },
   "outputs": [
    {
     "data": {
      "text/html": [
       "<div>\n",
       "<table border=\"1\" class=\"dataframe\">\n",
       "  <thead>\n",
       "    <tr style=\"text-align: right;\">\n",
       "      <th></th>\n",
       "      <th>CabinID</th>\n",
       "      <th>Ticket</th>\n",
       "      <th>LastName</th>\n",
       "      <th>Gender</th>\n",
       "      <th>ParentChild</th>\n",
       "      <th>SpouseSibling</th>\n",
       "      <th>survived</th>\n",
       "      <th>relations</th>\n",
       "    </tr>\n",
       "  </thead>\n",
       "  <tbody>\n",
       "    <tr>\n",
       "      <th>14</th>\n",
       "      <td>A</td>\n",
       "      <td>PC 17754</td>\n",
       "      <td>Goldschmidt</td>\n",
       "      <td>male</td>\n",
       "      <td>0</td>\n",
       "      <td>0</td>\n",
       "      <td>0.0</td>\n",
       "      <td>None</td>\n",
       "    </tr>\n",
       "    <tr>\n",
       "      <th>13</th>\n",
       "      <td>A</td>\n",
       "      <td>PC 17590</td>\n",
       "      <td>Roebling</td>\n",
       "      <td>male</td>\n",
       "      <td>0</td>\n",
       "      <td>0</td>\n",
       "      <td>0.0</td>\n",
       "      <td>None</td>\n",
       "    </tr>\n",
       "    <tr>\n",
       "      <th>12</th>\n",
       "      <td>A</td>\n",
       "      <td>PC 17485</td>\n",
       "      <td>Duff Gordon</td>\n",
       "      <td>male</td>\n",
       "      <td>0</td>\n",
       "      <td>1</td>\n",
       "      <td>1.0</td>\n",
       "      <td>Spouse/Sibling</td>\n",
       "    </tr>\n",
       "    <tr>\n",
       "      <th>11</th>\n",
       "      <td>A</td>\n",
       "      <td>33638</td>\n",
       "      <td>Dodge</td>\n",
       "      <td>male</td>\n",
       "      <td>2</td>\n",
       "      <td>0</td>\n",
       "      <td>1.0</td>\n",
       "      <td>Parent/Child</td>\n",
       "    </tr>\n",
       "    <tr>\n",
       "      <th>10</th>\n",
       "      <td>A</td>\n",
       "      <td>27042</td>\n",
       "      <td>Barkworth</td>\n",
       "      <td>male</td>\n",
       "      <td>0</td>\n",
       "      <td>0</td>\n",
       "      <td>1.0</td>\n",
       "      <td>None</td>\n",
       "    </tr>\n",
       "    <tr>\n",
       "      <th>9</th>\n",
       "      <td>A</td>\n",
       "      <td>17764</td>\n",
       "      <td>Smith</td>\n",
       "      <td>male</td>\n",
       "      <td>0</td>\n",
       "      <td>0</td>\n",
       "      <td>0.0</td>\n",
       "      <td>None</td>\n",
       "    </tr>\n",
       "    <tr>\n",
       "      <th>8</th>\n",
       "      <td>A</td>\n",
       "      <td>13213</td>\n",
       "      <td>Simonius-Blumer</td>\n",
       "      <td>male</td>\n",
       "      <td>0</td>\n",
       "      <td>0</td>\n",
       "      <td>1.0</td>\n",
       "      <td>None</td>\n",
       "    </tr>\n",
       "    <tr>\n",
       "      <th>7</th>\n",
       "      <td>A</td>\n",
       "      <td>13049</td>\n",
       "      <td>Ross</td>\n",
       "      <td>male</td>\n",
       "      <td>0</td>\n",
       "      <td>0</td>\n",
       "      <td>0.0</td>\n",
       "      <td>None</td>\n",
       "    </tr>\n",
       "    <tr>\n",
       "      <th>6</th>\n",
       "      <td>A</td>\n",
       "      <td>11755</td>\n",
       "      <td>Duff Gordon</td>\n",
       "      <td>female</td>\n",
       "      <td>0</td>\n",
       "      <td>1</td>\n",
       "      <td>1.0</td>\n",
       "      <td>Spouse/Sibling</td>\n",
       "    </tr>\n",
       "    <tr>\n",
       "      <th>5</th>\n",
       "      <td>A</td>\n",
       "      <td>113788</td>\n",
       "      <td>Sloper</td>\n",
       "      <td>male</td>\n",
       "      <td>0</td>\n",
       "      <td>0</td>\n",
       "      <td>1.0</td>\n",
       "      <td>None</td>\n",
       "    </tr>\n",
       "    <tr>\n",
       "      <th>4</th>\n",
       "      <td>A</td>\n",
       "      <td>113767</td>\n",
       "      <td>Rood</td>\n",
       "      <td>male</td>\n",
       "      <td>0</td>\n",
       "      <td>0</td>\n",
       "      <td>0.0</td>\n",
       "      <td>None</td>\n",
       "    </tr>\n",
       "    <tr>\n",
       "      <th>3</th>\n",
       "      <td>A</td>\n",
       "      <td>113056</td>\n",
       "      <td>Smith</td>\n",
       "      <td>male</td>\n",
       "      <td>0</td>\n",
       "      <td>0</td>\n",
       "      <td>0.0</td>\n",
       "      <td>None</td>\n",
       "    </tr>\n",
       "    <tr>\n",
       "      <th>2</th>\n",
       "      <td>A</td>\n",
       "      <td>112277</td>\n",
       "      <td>Blank</td>\n",
       "      <td>male</td>\n",
       "      <td>0</td>\n",
       "      <td>0</td>\n",
       "      <td>1.0</td>\n",
       "      <td>None</td>\n",
       "    </tr>\n",
       "    <tr>\n",
       "      <th>1</th>\n",
       "      <td>A</td>\n",
       "      <td>112050</td>\n",
       "      <td>Andrews</td>\n",
       "      <td>male</td>\n",
       "      <td>0</td>\n",
       "      <td>0</td>\n",
       "      <td>0.0</td>\n",
       "      <td>None</td>\n",
       "    </tr>\n",
       "    <tr>\n",
       "      <th>0</th>\n",
       "      <td>A</td>\n",
       "      <td>110465</td>\n",
       "      <td>Clifford</td>\n",
       "      <td>male</td>\n",
       "      <td>0</td>\n",
       "      <td>0</td>\n",
       "      <td>0.0</td>\n",
       "      <td>None</td>\n",
       "    </tr>\n",
       "    <tr>\n",
       "      <th>56</th>\n",
       "      <td>B</td>\n",
       "      <td>WE/P 5735</td>\n",
       "      <td>Crosby</td>\n",
       "      <td>female</td>\n",
       "      <td>2</td>\n",
       "      <td>0</td>\n",
       "      <td>1.0</td>\n",
       "      <td>Parent/Child</td>\n",
       "    </tr>\n",
       "    <tr>\n",
       "      <th>57</th>\n",
       "      <td>B</td>\n",
       "      <td>WE/P 5735</td>\n",
       "      <td>Crosby</td>\n",
       "      <td>male</td>\n",
       "      <td>1</td>\n",
       "      <td>1</td>\n",
       "      <td>0.0</td>\n",
       "      <td>Both</td>\n",
       "    </tr>\n",
       "    <tr>\n",
       "      <th>54</th>\n",
       "      <td>B</td>\n",
       "      <td>PC 17755</td>\n",
       "      <td>Cardeza</td>\n",
       "      <td>male</td>\n",
       "      <td>1</td>\n",
       "      <td>0</td>\n",
       "      <td>1.0</td>\n",
       "      <td>Parent/Child</td>\n",
       "    </tr>\n",
       "    <tr>\n",
       "      <th>55</th>\n",
       "      <td>B</td>\n",
       "      <td>PC 17755</td>\n",
       "      <td>Lesurer</td>\n",
       "      <td>male</td>\n",
       "      <td>0</td>\n",
       "      <td>0</td>\n",
       "      <td>1.0</td>\n",
       "      <td>None</td>\n",
       "    </tr>\n",
       "    <tr>\n",
       "      <th>53</th>\n",
       "      <td>B</td>\n",
       "      <td>PC 17610</td>\n",
       "      <td>Brown</td>\n",
       "      <td>female</td>\n",
       "      <td>0</td>\n",
       "      <td>0</td>\n",
       "      <td>1.0</td>\n",
       "      <td>None</td>\n",
       "    </tr>\n",
       "    <tr>\n",
       "      <th>52</th>\n",
       "      <td>B</td>\n",
       "      <td>PC 17608</td>\n",
       "      <td>Ryerson</td>\n",
       "      <td>female</td>\n",
       "      <td>2</td>\n",
       "      <td>2</td>\n",
       "      <td>1.0</td>\n",
       "      <td>Both</td>\n",
       "    </tr>\n",
       "    <tr>\n",
       "      <th>50</th>\n",
       "      <td>B</td>\n",
       "      <td>PC 17593</td>\n",
       "      <td>Giglio</td>\n",
       "      <td>male</td>\n",
       "      <td>0</td>\n",
       "      <td>0</td>\n",
       "      <td>0.0</td>\n",
       "      <td>None</td>\n",
       "    </tr>\n",
       "    <tr>\n",
       "      <th>51</th>\n",
       "      <td>B</td>\n",
       "      <td>PC 17593</td>\n",
       "      <td>Guggenheim</td>\n",
       "      <td>male</td>\n",
       "      <td>0</td>\n",
       "      <td>0</td>\n",
       "      <td>0.0</td>\n",
       "      <td>None</td>\n",
       "    </tr>\n",
       "    <tr>\n",
       "      <th>48</th>\n",
       "      <td>B</td>\n",
       "      <td>PC 17569</td>\n",
       "      <td>Lurette</td>\n",
       "      <td>female</td>\n",
       "      <td>0</td>\n",
       "      <td>0</td>\n",
       "      <td>1.0</td>\n",
       "      <td>None</td>\n",
       "    </tr>\n",
       "    <tr>\n",
       "      <th>49</th>\n",
       "      <td>B</td>\n",
       "      <td>PC 17569</td>\n",
       "      <td>Spencer</td>\n",
       "      <td>female</td>\n",
       "      <td>0</td>\n",
       "      <td>1</td>\n",
       "      <td>1.0</td>\n",
       "      <td>Spouse/Sibling</td>\n",
       "    </tr>\n",
       "    <tr>\n",
       "      <th>46</th>\n",
       "      <td>B</td>\n",
       "      <td>PC 17558</td>\n",
       "      <td>Baxter</td>\n",
       "      <td>female</td>\n",
       "      <td>1</td>\n",
       "      <td>0</td>\n",
       "      <td>1.0</td>\n",
       "      <td>Parent/Child</td>\n",
       "    </tr>\n",
       "    <tr>\n",
       "      <th>47</th>\n",
       "      <td>B</td>\n",
       "      <td>PC 17558</td>\n",
       "      <td>Baxter</td>\n",
       "      <td>male</td>\n",
       "      <td>1</td>\n",
       "      <td>0</td>\n",
       "      <td>0.0</td>\n",
       "      <td>Parent/Child</td>\n",
       "    </tr>\n",
       "    <tr>\n",
       "      <th>44</th>\n",
       "      <td>B</td>\n",
       "      <td>PC 17477</td>\n",
       "      <td>Aubart</td>\n",
       "      <td>female</td>\n",
       "      <td>0</td>\n",
       "      <td>0</td>\n",
       "      <td>1.0</td>\n",
       "      <td>None</td>\n",
       "    </tr>\n",
       "    <tr>\n",
       "      <th>45</th>\n",
       "      <td>B</td>\n",
       "      <td>PC 17477</td>\n",
       "      <td>Sagesser</td>\n",
       "      <td>female</td>\n",
       "      <td>0</td>\n",
       "      <td>0</td>\n",
       "      <td>1.0</td>\n",
       "      <td>None</td>\n",
       "    </tr>\n",
       "    <tr>\n",
       "      <th>43</th>\n",
       "      <td>B</td>\n",
       "      <td>F.C. 12750</td>\n",
       "      <td>Davidson</td>\n",
       "      <td>male</td>\n",
       "      <td>0</td>\n",
       "      <td>1</td>\n",
       "      <td>0.0</td>\n",
       "      <td>Spouse/Sibling</td>\n",
       "    </tr>\n",
       "    <tr>\n",
       "      <th>...</th>\n",
       "      <td>...</td>\n",
       "      <td>...</td>\n",
       "      <td>...</td>\n",
       "      <td>...</td>\n",
       "      <td>...</td>\n",
       "      <td>...</td>\n",
       "      <td>...</td>\n",
       "      <td>...</td>\n",
       "    </tr>\n",
       "    <tr>\n",
       "      <th>221</th>\n",
       "      <td>n</td>\n",
       "      <td>1601</td>\n",
       "      <td>Chip</td>\n",
       "      <td>male</td>\n",
       "      <td>0</td>\n",
       "      <td>0</td>\n",
       "      <td>1.0</td>\n",
       "      <td>None</td>\n",
       "    </tr>\n",
       "    <tr>\n",
       "      <th>222</th>\n",
       "      <td>n</td>\n",
       "      <td>1601</td>\n",
       "      <td>Foo</td>\n",
       "      <td>male</td>\n",
       "      <td>0</td>\n",
       "      <td>0</td>\n",
       "      <td>1.0</td>\n",
       "      <td>None</td>\n",
       "    </tr>\n",
       "    <tr>\n",
       "      <th>223</th>\n",
       "      <td>n</td>\n",
       "      <td>1601</td>\n",
       "      <td>Lam</td>\n",
       "      <td>male</td>\n",
       "      <td>0</td>\n",
       "      <td>0</td>\n",
       "      <td>0.5</td>\n",
       "      <td>None</td>\n",
       "    </tr>\n",
       "    <tr>\n",
       "      <th>224</th>\n",
       "      <td>n</td>\n",
       "      <td>1601</td>\n",
       "      <td>Lang</td>\n",
       "      <td>male</td>\n",
       "      <td>0</td>\n",
       "      <td>0</td>\n",
       "      <td>1.0</td>\n",
       "      <td>None</td>\n",
       "    </tr>\n",
       "    <tr>\n",
       "      <th>225</th>\n",
       "      <td>n</td>\n",
       "      <td>1601</td>\n",
       "      <td>Ling</td>\n",
       "      <td>male</td>\n",
       "      <td>0</td>\n",
       "      <td>0</td>\n",
       "      <td>0.0</td>\n",
       "      <td>None</td>\n",
       "    </tr>\n",
       "    <tr>\n",
       "      <th>219</th>\n",
       "      <td>n</td>\n",
       "      <td>14973</td>\n",
       "      <td>Gilinski</td>\n",
       "      <td>male</td>\n",
       "      <td>0</td>\n",
       "      <td>0</td>\n",
       "      <td>0.0</td>\n",
       "      <td>None</td>\n",
       "    </tr>\n",
       "    <tr>\n",
       "      <th>218</th>\n",
       "      <td>n</td>\n",
       "      <td>14313</td>\n",
       "      <td>Jermyn</td>\n",
       "      <td>female</td>\n",
       "      <td>0</td>\n",
       "      <td>0</td>\n",
       "      <td>1.0</td>\n",
       "      <td>None</td>\n",
       "    </tr>\n",
       "    <tr>\n",
       "      <th>217</th>\n",
       "      <td>n</td>\n",
       "      <td>14312</td>\n",
       "      <td>Kelly</td>\n",
       "      <td>female</td>\n",
       "      <td>0</td>\n",
       "      <td>0</td>\n",
       "      <td>1.0</td>\n",
       "      <td>None</td>\n",
       "    </tr>\n",
       "    <tr>\n",
       "      <th>216</th>\n",
       "      <td>n</td>\n",
       "      <td>14311</td>\n",
       "      <td>O'Driscoll</td>\n",
       "      <td>female</td>\n",
       "      <td>0</td>\n",
       "      <td>0</td>\n",
       "      <td>1.0</td>\n",
       "      <td>None</td>\n",
       "    </tr>\n",
       "    <tr>\n",
       "      <th>215</th>\n",
       "      <td>n</td>\n",
       "      <td>12460</td>\n",
       "      <td>Keane</td>\n",
       "      <td>male</td>\n",
       "      <td>0</td>\n",
       "      <td>0</td>\n",
       "      <td>0.0</td>\n",
       "      <td>None</td>\n",
       "    </tr>\n",
       "    <tr>\n",
       "      <th>214</th>\n",
       "      <td>n</td>\n",
       "      <td>12233</td>\n",
       "      <td>Gillespie</td>\n",
       "      <td>male</td>\n",
       "      <td>0</td>\n",
       "      <td>0</td>\n",
       "      <td>0.0</td>\n",
       "      <td>None</td>\n",
       "    </tr>\n",
       "    <tr>\n",
       "      <th>212</th>\n",
       "      <td>n</td>\n",
       "      <td>11668</td>\n",
       "      <td>Turpin</td>\n",
       "      <td>female</td>\n",
       "      <td>0</td>\n",
       "      <td>1</td>\n",
       "      <td>0.0</td>\n",
       "      <td>Spouse/Sibling</td>\n",
       "    </tr>\n",
       "    <tr>\n",
       "      <th>213</th>\n",
       "      <td>n</td>\n",
       "      <td>11668</td>\n",
       "      <td>Turpin</td>\n",
       "      <td>male</td>\n",
       "      <td>0</td>\n",
       "      <td>1</td>\n",
       "      <td>0.0</td>\n",
       "      <td>Spouse/Sibling</td>\n",
       "    </tr>\n",
       "    <tr>\n",
       "      <th>211</th>\n",
       "      <td>n</td>\n",
       "      <td>113807</td>\n",
       "      <td>Wright</td>\n",
       "      <td>male</td>\n",
       "      <td>0</td>\n",
       "      <td>0</td>\n",
       "      <td>0.0</td>\n",
       "      <td>None</td>\n",
       "    </tr>\n",
       "    <tr>\n",
       "      <th>210</th>\n",
       "      <td>n</td>\n",
       "      <td>113804</td>\n",
       "      <td>Daniel</td>\n",
       "      <td>male</td>\n",
       "      <td>0</td>\n",
       "      <td>0</td>\n",
       "      <td>1.0</td>\n",
       "      <td>None</td>\n",
       "    </tr>\n",
       "    <tr>\n",
       "      <th>209</th>\n",
       "      <td>n</td>\n",
       "      <td>113800</td>\n",
       "      <td>Weir</td>\n",
       "      <td>male</td>\n",
       "      <td>0</td>\n",
       "      <td>0</td>\n",
       "      <td>0.0</td>\n",
       "      <td>None</td>\n",
       "    </tr>\n",
       "    <tr>\n",
       "      <th>207</th>\n",
       "      <td>n</td>\n",
       "      <td>113798</td>\n",
       "      <td>Cairns</td>\n",
       "      <td>male</td>\n",
       "      <td>0</td>\n",
       "      <td>0</td>\n",
       "      <td>0.0</td>\n",
       "      <td>None</td>\n",
       "    </tr>\n",
       "    <tr>\n",
       "      <th>208</th>\n",
       "      <td>n</td>\n",
       "      <td>113798</td>\n",
       "      <td>Serepeca</td>\n",
       "      <td>female</td>\n",
       "      <td>0</td>\n",
       "      <td>0</td>\n",
       "      <td>1.0</td>\n",
       "      <td>None</td>\n",
       "    </tr>\n",
       "    <tr>\n",
       "      <th>206</th>\n",
       "      <td>n</td>\n",
       "      <td>113796</td>\n",
       "      <td>Harrington</td>\n",
       "      <td>male</td>\n",
       "      <td>0</td>\n",
       "      <td>0</td>\n",
       "      <td>0.0</td>\n",
       "      <td>None</td>\n",
       "    </tr>\n",
       "    <tr>\n",
       "      <th>205</th>\n",
       "      <td>n</td>\n",
       "      <td>113794</td>\n",
       "      <td>Seward</td>\n",
       "      <td>male</td>\n",
       "      <td>0</td>\n",
       "      <td>0</td>\n",
       "      <td>1.0</td>\n",
       "      <td>None</td>\n",
       "    </tr>\n",
       "    <tr>\n",
       "      <th>204</th>\n",
       "      <td>n</td>\n",
       "      <td>113792</td>\n",
       "      <td>Smart</td>\n",
       "      <td>male</td>\n",
       "      <td>0</td>\n",
       "      <td>0</td>\n",
       "      <td>0.0</td>\n",
       "      <td>None</td>\n",
       "    </tr>\n",
       "    <tr>\n",
       "      <th>202</th>\n",
       "      <td>n</td>\n",
       "      <td>113789</td>\n",
       "      <td>Holverson</td>\n",
       "      <td>female</td>\n",
       "      <td>0</td>\n",
       "      <td>1</td>\n",
       "      <td>1.0</td>\n",
       "      <td>Spouse/Sibling</td>\n",
       "    </tr>\n",
       "    <tr>\n",
       "      <th>203</th>\n",
       "      <td>n</td>\n",
       "      <td>113789</td>\n",
       "      <td>Holverson</td>\n",
       "      <td>male</td>\n",
       "      <td>0</td>\n",
       "      <td>1</td>\n",
       "      <td>0.0</td>\n",
       "      <td>Spouse/Sibling</td>\n",
       "    </tr>\n",
       "    <tr>\n",
       "      <th>201</th>\n",
       "      <td>n</td>\n",
       "      <td>113781</td>\n",
       "      <td>Cleaver</td>\n",
       "      <td>female</td>\n",
       "      <td>0</td>\n",
       "      <td>0</td>\n",
       "      <td>1.0</td>\n",
       "      <td>None</td>\n",
       "    </tr>\n",
       "    <tr>\n",
       "      <th>200</th>\n",
       "      <td>n</td>\n",
       "      <td>113059</td>\n",
       "      <td>Carrau</td>\n",
       "      <td>male</td>\n",
       "      <td>0</td>\n",
       "      <td>0</td>\n",
       "      <td>0.0</td>\n",
       "      <td>None</td>\n",
       "    </tr>\n",
       "    <tr>\n",
       "      <th>199</th>\n",
       "      <td>n</td>\n",
       "      <td>112379</td>\n",
       "      <td>Brewe</td>\n",
       "      <td>male</td>\n",
       "      <td>0</td>\n",
       "      <td>0</td>\n",
       "      <td>0.0</td>\n",
       "      <td>None</td>\n",
       "    </tr>\n",
       "    <tr>\n",
       "      <th>198</th>\n",
       "      <td>n</td>\n",
       "      <td>112052</td>\n",
       "      <td>Parr</td>\n",
       "      <td>male</td>\n",
       "      <td>0</td>\n",
       "      <td>0</td>\n",
       "      <td>0.0</td>\n",
       "      <td>None</td>\n",
       "    </tr>\n",
       "    <tr>\n",
       "      <th>197</th>\n",
       "      <td>n</td>\n",
       "      <td>111428</td>\n",
       "      <td>Romaine</td>\n",
       "      <td>male</td>\n",
       "      <td>0</td>\n",
       "      <td>0</td>\n",
       "      <td>1.0</td>\n",
       "      <td>None</td>\n",
       "    </tr>\n",
       "    <tr>\n",
       "      <th>196</th>\n",
       "      <td>n</td>\n",
       "      <td>111427</td>\n",
       "      <td>Bradley</td>\n",
       "      <td>male</td>\n",
       "      <td>0</td>\n",
       "      <td>0</td>\n",
       "      <td>1.0</td>\n",
       "      <td>None</td>\n",
       "    </tr>\n",
       "    <tr>\n",
       "      <th>195</th>\n",
       "      <td>n</td>\n",
       "      <td>111426</td>\n",
       "      <td>Homer</td>\n",
       "      <td>male</td>\n",
       "      <td>0</td>\n",
       "      <td>0</td>\n",
       "      <td>1.0</td>\n",
       "      <td>None</td>\n",
       "    </tr>\n",
       "  </tbody>\n",
       "</table>\n",
       "<p>839 rows × 8 columns</p>\n",
       "</div>"
      ],
      "text/plain": [
       "    CabinID      Ticket         LastName  Gender  ParentChild  SpouseSibling  \\\n",
       "14        A    PC 17754      Goldschmidt    male            0              0   \n",
       "13        A    PC 17590         Roebling    male            0              0   \n",
       "12        A    PC 17485      Duff Gordon    male            0              1   \n",
       "11        A       33638            Dodge    male            2              0   \n",
       "10        A       27042        Barkworth    male            0              0   \n",
       "9         A       17764            Smith    male            0              0   \n",
       "8         A       13213  Simonius-Blumer    male            0              0   \n",
       "7         A       13049             Ross    male            0              0   \n",
       "6         A       11755      Duff Gordon  female            0              1   \n",
       "5         A      113788           Sloper    male            0              0   \n",
       "4         A      113767             Rood    male            0              0   \n",
       "3         A      113056            Smith    male            0              0   \n",
       "2         A      112277            Blank    male            0              0   \n",
       "1         A      112050          Andrews    male            0              0   \n",
       "0         A      110465         Clifford    male            0              0   \n",
       "56        B   WE/P 5735           Crosby  female            2              0   \n",
       "57        B   WE/P 5735           Crosby    male            1              1   \n",
       "54        B    PC 17755          Cardeza    male            1              0   \n",
       "55        B    PC 17755          Lesurer    male            0              0   \n",
       "53        B    PC 17610            Brown  female            0              0   \n",
       "52        B    PC 17608          Ryerson  female            2              2   \n",
       "50        B    PC 17593           Giglio    male            0              0   \n",
       "51        B    PC 17593       Guggenheim    male            0              0   \n",
       "48        B    PC 17569          Lurette  female            0              0   \n",
       "49        B    PC 17569          Spencer  female            0              1   \n",
       "46        B    PC 17558           Baxter  female            1              0   \n",
       "47        B    PC 17558           Baxter    male            1              0   \n",
       "44        B    PC 17477           Aubart  female            0              0   \n",
       "45        B    PC 17477         Sagesser  female            0              0   \n",
       "43        B  F.C. 12750         Davidson    male            0              1   \n",
       "..      ...         ...              ...     ...          ...            ...   \n",
       "221       n        1601             Chip    male            0              0   \n",
       "222       n        1601              Foo    male            0              0   \n",
       "223       n        1601              Lam    male            0              0   \n",
       "224       n        1601             Lang    male            0              0   \n",
       "225       n        1601             Ling    male            0              0   \n",
       "219       n       14973         Gilinski    male            0              0   \n",
       "218       n       14313           Jermyn  female            0              0   \n",
       "217       n       14312            Kelly  female            0              0   \n",
       "216       n       14311       O'Driscoll  female            0              0   \n",
       "215       n       12460            Keane    male            0              0   \n",
       "214       n       12233        Gillespie    male            0              0   \n",
       "212       n       11668           Turpin  female            0              1   \n",
       "213       n       11668           Turpin    male            0              1   \n",
       "211       n      113807           Wright    male            0              0   \n",
       "210       n      113804           Daniel    male            0              0   \n",
       "209       n      113800             Weir    male            0              0   \n",
       "207       n      113798           Cairns    male            0              0   \n",
       "208       n      113798         Serepeca  female            0              0   \n",
       "206       n      113796       Harrington    male            0              0   \n",
       "205       n      113794           Seward    male            0              0   \n",
       "204       n      113792            Smart    male            0              0   \n",
       "202       n      113789        Holverson  female            0              1   \n",
       "203       n      113789        Holverson    male            0              1   \n",
       "201       n      113781          Cleaver  female            0              0   \n",
       "200       n      113059           Carrau    male            0              0   \n",
       "199       n      112379            Brewe    male            0              0   \n",
       "198       n      112052             Parr    male            0              0   \n",
       "197       n      111428          Romaine    male            0              0   \n",
       "196       n      111427          Bradley    male            0              0   \n",
       "195       n      111426            Homer    male            0              0   \n",
       "\n",
       "     survived       relations  \n",
       "14        0.0            None  \n",
       "13        0.0            None  \n",
       "12        1.0  Spouse/Sibling  \n",
       "11        1.0    Parent/Child  \n",
       "10        1.0            None  \n",
       "9         0.0            None  \n",
       "8         1.0            None  \n",
       "7         0.0            None  \n",
       "6         1.0  Spouse/Sibling  \n",
       "5         1.0            None  \n",
       "4         0.0            None  \n",
       "3         0.0            None  \n",
       "2         1.0            None  \n",
       "1         0.0            None  \n",
       "0         0.0            None  \n",
       "56        1.0    Parent/Child  \n",
       "57        0.0            Both  \n",
       "54        1.0    Parent/Child  \n",
       "55        1.0            None  \n",
       "53        1.0            None  \n",
       "52        1.0            Both  \n",
       "50        0.0            None  \n",
       "51        0.0            None  \n",
       "48        1.0            None  \n",
       "49        1.0  Spouse/Sibling  \n",
       "46        1.0    Parent/Child  \n",
       "47        0.0    Parent/Child  \n",
       "44        1.0            None  \n",
       "45        1.0            None  \n",
       "43        0.0  Spouse/Sibling  \n",
       "..        ...             ...  \n",
       "221       1.0            None  \n",
       "222       1.0            None  \n",
       "223       0.5            None  \n",
       "224       1.0            None  \n",
       "225       0.0            None  \n",
       "219       0.0            None  \n",
       "218       1.0            None  \n",
       "217       1.0            None  \n",
       "216       1.0            None  \n",
       "215       0.0            None  \n",
       "214       0.0            None  \n",
       "212       0.0  Spouse/Sibling  \n",
       "213       0.0  Spouse/Sibling  \n",
       "211       0.0            None  \n",
       "210       1.0            None  \n",
       "209       0.0            None  \n",
       "207       0.0            None  \n",
       "208       1.0            None  \n",
       "206       0.0            None  \n",
       "205       1.0            None  \n",
       "204       0.0            None  \n",
       "202       1.0  Spouse/Sibling  \n",
       "203       0.0  Spouse/Sibling  \n",
       "201       1.0            None  \n",
       "200       0.0            None  \n",
       "199       0.0            None  \n",
       "198       0.0            None  \n",
       "197       1.0            None  \n",
       "196       1.0            None  \n",
       "195       1.0            None  \n",
       "\n",
       "[839 rows x 8 columns]"
      ]
     },
     "execution_count": 572,
     "metadata": {},
     "output_type": "execute_result"
    }
   ],
   "source": [
    "#Create the Relations column\n",
    "df_relatives['relations'] = df_relatives.apply(lambda row: findRels(row), axis=1)\n",
    "df_relatives"
   ]
  },
  {
   "cell_type": "code",
   "execution_count": 573,
   "metadata": {
    "collapsed": false
   },
   "outputs": [
    {
     "name": "stdout",
     "output_type": "stream",
     "text": [
      "\n",
      "Probility of survival by relations:\n",
      "relations\n",
      "Both              47.058824\n",
      "None              30.373832\n",
      "Parent/Child      66.666667\n",
      "Spouse/Sibling    50.000000\n",
      "Name: survived, dtype: float64\n"
     ]
    }
   ],
   "source": [
    "#Pivot Relations and Survival\n",
    "temp2 = df_relatives.pivot_table(values='survived',index=['relations'],aggfunc=lambda x: x.mean()*100)\n",
    "\n",
    "print ('\\nProbility of survival by relations:') \n",
    "print (temp2)"
   ]
  },
  {
   "cell_type": "code",
   "execution_count": 574,
   "metadata": {
    "collapsed": false
   },
   "outputs": [
    {
     "data": {
      "text/plain": [
       "<matplotlib.text.Text at 0x123baba90>"
      ]
     },
     "execution_count": 574,
     "metadata": {},
     "output_type": "execute_result"
    },
    {
     "data": {
      "image/png": "[encoded data removed]",
      "text/plain": [
       "<matplotlib.figure.Figure at 0x123aeacc0>"
      ]
     },
     "metadata": {},
     "output_type": "display_data"
    }
   ],
   "source": [
    "#Draw the bar graph for survived based on relations\n",
    "fig = plt.figure(figsize=(8,4))\n",
    "ax1 = fig.add_subplot(121)\n",
    "temp2.plot(kind = 'bar')\n",
    "ax1.set_xlabel('Relations')\n",
    "ax1.set_ylabel('Probability of survival')\n",
    "ax1.set_title(\"Probability of survival by Relations\")"
   ]
  },
  {
   "cell_type": "code",
   "execution_count": 575,
   "metadata": {
    "collapsed": false
   },
   "outputs": [
    {
     "data": {
      "image/png": "[encoded data removed]",
      "text/plain": [
       "<matplotlib.figure.Figure at 0x121d710b8>"
      ]
     },
     "metadata": {},
     "output_type": "display_data"
    }
   ],
   "source": [
    "sns.pairplot(df_relatives);"
   ]
  },
  {
   "cell_type": "code",
   "execution_count": 576,
   "metadata": {
    "collapsed": false
   },
   "outputs": [],
   "source": [
    "#Check if there is any corelaton between boat, body and survived. If too many nulls then drop these features\n",
    "#df_bb = df1[['boat', 'body', 'survived']]\n"
   ]
  },
  {
   "cell_type": "markdown",
   "metadata": {},
   "source": [
    "# In order of significance the features are -\n",
    "#Gender, Age, Class, Cabin, embarkedPort, Relations"
   ]
  },
  {
   "cell_type": "code",
   "execution_count": 577,
   "metadata": {
    "collapsed": true
   },
   "outputs": [],
   "source": [
    "#Create column for relationsip ; this can have values - 'Parent/Child', 'Spouse/Sibling', 'Both'\n",
    "#, 'None'\n",
    "#Create function to derive these values\n",
    "def findRelations(row):\n",
    "    if (row.parch > 0 and row.sibsp == 0):\n",
    "            output = 'Parent/Child'\n",
    "    elif (row.parch > 0 and row.sibsp > 0):\n",
    "            output = 'Both'\n",
    "    elif (row.parch == 0 and row.sibsp > 0):\n",
    "            output = 'Spouse/Sibling'\n",
    "    else:\n",
    "            output = 'None'\n",
    "\n",
    "    return output\n",
    "\n"
   ]
  },
  {
   "cell_type": "code",
   "execution_count": 578,
   "metadata": {
    "collapsed": false
   },
   "outputs": [
    {
     "name": "stderr",
     "output_type": "stream",
     "text": [
      "/Users/suvojitdutta/anaconda/lib/python3.5/site-packages/ipykernel/__main__.py:2: SettingWithCopyWarning: \n",
      "A value is trying to be set on a copy of a slice from a DataFrame.\n",
      "Try using .loc[row_indexer,col_indexer] = value instead\n",
      "\n",
      "See the caveats in the documentation: http://pandas.pydata.org/pandas-docs/stable/indexing.html#indexing-view-versus-copy\n",
      "  from ipykernel import kernelapp as app\n"
     ]
    },
    {
     "data": {
      "text/html": [
       "<div>\n",
       "<table border=\"1\" class=\"dataframe\">\n",
       "  <thead>\n",
       "    <tr style=\"text-align: right;\">\n",
       "      <th></th>\n",
       "      <th>pclass</th>\n",
       "      <th>sex</th>\n",
       "      <th>age</th>\n",
       "      <th>embarkedPort</th>\n",
       "      <th>relations</th>\n",
       "    </tr>\n",
       "  </thead>\n",
       "  <tbody>\n",
       "    <tr>\n",
       "      <th>0</th>\n",
       "      <td>3</td>\n",
       "      <td>male</td>\n",
       "      <td>22.0</td>\n",
       "      <td>Southampton</td>\n",
       "      <td>Spouse/Sibling</td>\n",
       "    </tr>\n",
       "    <tr>\n",
       "      <th>1</th>\n",
       "      <td>1</td>\n",
       "      <td>female</td>\n",
       "      <td>38.0</td>\n",
       "      <td>Cherbourg</td>\n",
       "      <td>Spouse/Sibling</td>\n",
       "    </tr>\n",
       "    <tr>\n",
       "      <th>2</th>\n",
       "      <td>3</td>\n",
       "      <td>female</td>\n",
       "      <td>26.0</td>\n",
       "      <td>Southampton</td>\n",
       "      <td>None</td>\n",
       "    </tr>\n",
       "    <tr>\n",
       "      <th>3</th>\n",
       "      <td>1</td>\n",
       "      <td>female</td>\n",
       "      <td>35.0</td>\n",
       "      <td>Southampton</td>\n",
       "      <td>Spouse/Sibling</td>\n",
       "    </tr>\n",
       "    <tr>\n",
       "      <th>4</th>\n",
       "      <td>3</td>\n",
       "      <td>male</td>\n",
       "      <td>35.0</td>\n",
       "      <td>Southampton</td>\n",
       "      <td>None</td>\n",
       "    </tr>\n",
       "    <tr>\n",
       "      <th>5</th>\n",
       "      <td>3</td>\n",
       "      <td>male</td>\n",
       "      <td>29.0</td>\n",
       "      <td>Queenstown</td>\n",
       "      <td>None</td>\n",
       "    </tr>\n",
       "    <tr>\n",
       "      <th>6</th>\n",
       "      <td>1</td>\n",
       "      <td>male</td>\n",
       "      <td>54.0</td>\n",
       "      <td>Southampton</td>\n",
       "      <td>None</td>\n",
       "    </tr>\n",
       "    <tr>\n",
       "      <th>7</th>\n",
       "      <td>3</td>\n",
       "      <td>male</td>\n",
       "      <td>2.0</td>\n",
       "      <td>Southampton</td>\n",
       "      <td>Both</td>\n",
       "    </tr>\n",
       "    <tr>\n",
       "      <th>8</th>\n",
       "      <td>3</td>\n",
       "      <td>female</td>\n",
       "      <td>27.0</td>\n",
       "      <td>Southampton</td>\n",
       "      <td>Parent/Child</td>\n",
       "    </tr>\n",
       "    <tr>\n",
       "      <th>9</th>\n",
       "      <td>2</td>\n",
       "      <td>female</td>\n",
       "      <td>14.0</td>\n",
       "      <td>Cherbourg</td>\n",
       "      <td>Spouse/Sibling</td>\n",
       "    </tr>\n",
       "    <tr>\n",
       "      <th>10</th>\n",
       "      <td>3</td>\n",
       "      <td>female</td>\n",
       "      <td>4.0</td>\n",
       "      <td>Southampton</td>\n",
       "      <td>Both</td>\n",
       "    </tr>\n",
       "    <tr>\n",
       "      <th>11</th>\n",
       "      <td>1</td>\n",
       "      <td>female</td>\n",
       "      <td>58.0</td>\n",
       "      <td>Southampton</td>\n",
       "      <td>None</td>\n",
       "    </tr>\n",
       "    <tr>\n",
       "      <th>12</th>\n",
       "      <td>3</td>\n",
       "      <td>male</td>\n",
       "      <td>20.0</td>\n",
       "      <td>Southampton</td>\n",
       "      <td>None</td>\n",
       "    </tr>\n",
       "    <tr>\n",
       "      <th>13</th>\n",
       "      <td>3</td>\n",
       "      <td>male</td>\n",
       "      <td>39.0</td>\n",
       "      <td>Southampton</td>\n",
       "      <td>Both</td>\n",
       "    </tr>\n",
       "    <tr>\n",
       "      <th>14</th>\n",
       "      <td>3</td>\n",
       "      <td>female</td>\n",
       "      <td>14.0</td>\n",
       "      <td>Southampton</td>\n",
       "      <td>None</td>\n",
       "    </tr>\n",
       "    <tr>\n",
       "      <th>15</th>\n",
       "      <td>2</td>\n",
       "      <td>female</td>\n",
       "      <td>55.0</td>\n",
       "      <td>Southampton</td>\n",
       "      <td>None</td>\n",
       "    </tr>\n",
       "    <tr>\n",
       "      <th>16</th>\n",
       "      <td>3</td>\n",
       "      <td>male</td>\n",
       "      <td>2.0</td>\n",
       "      <td>Queenstown</td>\n",
       "      <td>Both</td>\n",
       "    </tr>\n",
       "    <tr>\n",
       "      <th>17</th>\n",
       "      <td>2</td>\n",
       "      <td>male</td>\n",
       "      <td>28.0</td>\n",
       "      <td>Southampton</td>\n",
       "      <td>None</td>\n",
       "    </tr>\n",
       "    <tr>\n",
       "      <th>18</th>\n",
       "      <td>3</td>\n",
       "      <td>female</td>\n",
       "      <td>31.0</td>\n",
       "      <td>Southampton</td>\n",
       "      <td>Spouse/Sibling</td>\n",
       "    </tr>\n",
       "    <tr>\n",
       "      <th>19</th>\n",
       "      <td>3</td>\n",
       "      <td>female</td>\n",
       "      <td>28.0</td>\n",
       "      <td>Cherbourg</td>\n",
       "      <td>None</td>\n",
       "    </tr>\n",
       "    <tr>\n",
       "      <th>20</th>\n",
       "      <td>2</td>\n",
       "      <td>male</td>\n",
       "      <td>35.0</td>\n",
       "      <td>Southampton</td>\n",
       "      <td>None</td>\n",
       "    </tr>\n",
       "    <tr>\n",
       "      <th>21</th>\n",
       "      <td>2</td>\n",
       "      <td>male</td>\n",
       "      <td>34.0</td>\n",
       "      <td>Southampton</td>\n",
       "      <td>None</td>\n",
       "    </tr>\n",
       "    <tr>\n",
       "      <th>22</th>\n",
       "      <td>3</td>\n",
       "      <td>female</td>\n",
       "      <td>15.0</td>\n",
       "      <td>Queenstown</td>\n",
       "      <td>None</td>\n",
       "    </tr>\n",
       "    <tr>\n",
       "      <th>23</th>\n",
       "      <td>1</td>\n",
       "      <td>male</td>\n",
       "      <td>28.0</td>\n",
       "      <td>Southampton</td>\n",
       "      <td>None</td>\n",
       "    </tr>\n",
       "    <tr>\n",
       "      <th>24</th>\n",
       "      <td>3</td>\n",
       "      <td>female</td>\n",
       "      <td>8.0</td>\n",
       "      <td>Southampton</td>\n",
       "      <td>Both</td>\n",
       "    </tr>\n",
       "    <tr>\n",
       "      <th>25</th>\n",
       "      <td>3</td>\n",
       "      <td>female</td>\n",
       "      <td>38.0</td>\n",
       "      <td>Southampton</td>\n",
       "      <td>Both</td>\n",
       "    </tr>\n",
       "    <tr>\n",
       "      <th>26</th>\n",
       "      <td>3</td>\n",
       "      <td>male</td>\n",
       "      <td>29.0</td>\n",
       "      <td>Cherbourg</td>\n",
       "      <td>None</td>\n",
       "    </tr>\n",
       "    <tr>\n",
       "      <th>27</th>\n",
       "      <td>1</td>\n",
       "      <td>male</td>\n",
       "      <td>19.0</td>\n",
       "      <td>Southampton</td>\n",
       "      <td>Both</td>\n",
       "    </tr>\n",
       "    <tr>\n",
       "      <th>28</th>\n",
       "      <td>3</td>\n",
       "      <td>female</td>\n",
       "      <td>28.0</td>\n",
       "      <td>Queenstown</td>\n",
       "      <td>None</td>\n",
       "    </tr>\n",
       "    <tr>\n",
       "      <th>29</th>\n",
       "      <td>3</td>\n",
       "      <td>male</td>\n",
       "      <td>29.0</td>\n",
       "      <td>Southampton</td>\n",
       "      <td>None</td>\n",
       "    </tr>\n",
       "    <tr>\n",
       "      <th>...</th>\n",
       "      <td>...</td>\n",
       "      <td>...</td>\n",
       "      <td>...</td>\n",
       "      <td>...</td>\n",
       "      <td>...</td>\n",
       "    </tr>\n",
       "    <tr>\n",
       "      <th>861</th>\n",
       "      <td>2</td>\n",
       "      <td>male</td>\n",
       "      <td>21.0</td>\n",
       "      <td>Southampton</td>\n",
       "      <td>Spouse/Sibling</td>\n",
       "    </tr>\n",
       "    <tr>\n",
       "      <th>862</th>\n",
       "      <td>1</td>\n",
       "      <td>female</td>\n",
       "      <td>48.0</td>\n",
       "      <td>Southampton</td>\n",
       "      <td>None</td>\n",
       "    </tr>\n",
       "    <tr>\n",
       "      <th>863</th>\n",
       "      <td>3</td>\n",
       "      <td>female</td>\n",
       "      <td>24.5</td>\n",
       "      <td>Southampton</td>\n",
       "      <td>Both</td>\n",
       "    </tr>\n",
       "    <tr>\n",
       "      <th>864</th>\n",
       "      <td>2</td>\n",
       "      <td>male</td>\n",
       "      <td>24.0</td>\n",
       "      <td>Southampton</td>\n",
       "      <td>None</td>\n",
       "    </tr>\n",
       "    <tr>\n",
       "      <th>865</th>\n",
       "      <td>2</td>\n",
       "      <td>female</td>\n",
       "      <td>42.0</td>\n",
       "      <td>Southampton</td>\n",
       "      <td>None</td>\n",
       "    </tr>\n",
       "    <tr>\n",
       "      <th>866</th>\n",
       "      <td>2</td>\n",
       "      <td>female</td>\n",
       "      <td>27.0</td>\n",
       "      <td>Cherbourg</td>\n",
       "      <td>Spouse/Sibling</td>\n",
       "    </tr>\n",
       "    <tr>\n",
       "      <th>867</th>\n",
       "      <td>1</td>\n",
       "      <td>male</td>\n",
       "      <td>31.0</td>\n",
       "      <td>Southampton</td>\n",
       "      <td>None</td>\n",
       "    </tr>\n",
       "    <tr>\n",
       "      <th>868</th>\n",
       "      <td>3</td>\n",
       "      <td>male</td>\n",
       "      <td>29.0</td>\n",
       "      <td>Southampton</td>\n",
       "      <td>None</td>\n",
       "    </tr>\n",
       "    <tr>\n",
       "      <th>869</th>\n",
       "      <td>3</td>\n",
       "      <td>male</td>\n",
       "      <td>4.0</td>\n",
       "      <td>Southampton</td>\n",
       "      <td>Both</td>\n",
       "    </tr>\n",
       "    <tr>\n",
       "      <th>870</th>\n",
       "      <td>3</td>\n",
       "      <td>male</td>\n",
       "      <td>26.0</td>\n",
       "      <td>Southampton</td>\n",
       "      <td>None</td>\n",
       "    </tr>\n",
       "    <tr>\n",
       "      <th>871</th>\n",
       "      <td>1</td>\n",
       "      <td>female</td>\n",
       "      <td>47.0</td>\n",
       "      <td>Southampton</td>\n",
       "      <td>Both</td>\n",
       "    </tr>\n",
       "    <tr>\n",
       "      <th>872</th>\n",
       "      <td>1</td>\n",
       "      <td>male</td>\n",
       "      <td>33.0</td>\n",
       "      <td>Southampton</td>\n",
       "      <td>None</td>\n",
       "    </tr>\n",
       "    <tr>\n",
       "      <th>873</th>\n",
       "      <td>3</td>\n",
       "      <td>male</td>\n",
       "      <td>47.0</td>\n",
       "      <td>Southampton</td>\n",
       "      <td>None</td>\n",
       "    </tr>\n",
       "    <tr>\n",
       "      <th>874</th>\n",
       "      <td>2</td>\n",
       "      <td>female</td>\n",
       "      <td>28.0</td>\n",
       "      <td>Cherbourg</td>\n",
       "      <td>Spouse/Sibling</td>\n",
       "    </tr>\n",
       "    <tr>\n",
       "      <th>875</th>\n",
       "      <td>3</td>\n",
       "      <td>female</td>\n",
       "      <td>15.0</td>\n",
       "      <td>Cherbourg</td>\n",
       "      <td>None</td>\n",
       "    </tr>\n",
       "    <tr>\n",
       "      <th>876</th>\n",
       "      <td>3</td>\n",
       "      <td>male</td>\n",
       "      <td>20.0</td>\n",
       "      <td>Southampton</td>\n",
       "      <td>None</td>\n",
       "    </tr>\n",
       "    <tr>\n",
       "      <th>877</th>\n",
       "      <td>3</td>\n",
       "      <td>male</td>\n",
       "      <td>19.0</td>\n",
       "      <td>Southampton</td>\n",
       "      <td>None</td>\n",
       "    </tr>\n",
       "    <tr>\n",
       "      <th>878</th>\n",
       "      <td>3</td>\n",
       "      <td>male</td>\n",
       "      <td>29.0</td>\n",
       "      <td>Southampton</td>\n",
       "      <td>None</td>\n",
       "    </tr>\n",
       "    <tr>\n",
       "      <th>879</th>\n",
       "      <td>1</td>\n",
       "      <td>female</td>\n",
       "      <td>56.0</td>\n",
       "      <td>Cherbourg</td>\n",
       "      <td>Parent/Child</td>\n",
       "    </tr>\n",
       "    <tr>\n",
       "      <th>880</th>\n",
       "      <td>2</td>\n",
       "      <td>female</td>\n",
       "      <td>25.0</td>\n",
       "      <td>Southampton</td>\n",
       "      <td>Parent/Child</td>\n",
       "    </tr>\n",
       "    <tr>\n",
       "      <th>881</th>\n",
       "      <td>3</td>\n",
       "      <td>male</td>\n",
       "      <td>33.0</td>\n",
       "      <td>Southampton</td>\n",
       "      <td>None</td>\n",
       "    </tr>\n",
       "    <tr>\n",
       "      <th>882</th>\n",
       "      <td>3</td>\n",
       "      <td>female</td>\n",
       "      <td>22.0</td>\n",
       "      <td>Southampton</td>\n",
       "      <td>None</td>\n",
       "    </tr>\n",
       "    <tr>\n",
       "      <th>883</th>\n",
       "      <td>2</td>\n",
       "      <td>male</td>\n",
       "      <td>28.0</td>\n",
       "      <td>Southampton</td>\n",
       "      <td>None</td>\n",
       "    </tr>\n",
       "    <tr>\n",
       "      <th>884</th>\n",
       "      <td>3</td>\n",
       "      <td>male</td>\n",
       "      <td>25.0</td>\n",
       "      <td>Southampton</td>\n",
       "      <td>None</td>\n",
       "    </tr>\n",
       "    <tr>\n",
       "      <th>885</th>\n",
       "      <td>3</td>\n",
       "      <td>female</td>\n",
       "      <td>39.0</td>\n",
       "      <td>Queenstown</td>\n",
       "      <td>Parent/Child</td>\n",
       "    </tr>\n",
       "    <tr>\n",
       "      <th>886</th>\n",
       "      <td>2</td>\n",
       "      <td>male</td>\n",
       "      <td>27.0</td>\n",
       "      <td>Southampton</td>\n",
       "      <td>None</td>\n",
       "    </tr>\n",
       "    <tr>\n",
       "      <th>887</th>\n",
       "      <td>1</td>\n",
       "      <td>female</td>\n",
       "      <td>19.0</td>\n",
       "      <td>Southampton</td>\n",
       "      <td>None</td>\n",
       "    </tr>\n",
       "    <tr>\n",
       "      <th>888</th>\n",
       "      <td>3</td>\n",
       "      <td>female</td>\n",
       "      <td>24.5</td>\n",
       "      <td>Southampton</td>\n",
       "      <td>Both</td>\n",
       "    </tr>\n",
       "    <tr>\n",
       "      <th>889</th>\n",
       "      <td>1</td>\n",
       "      <td>male</td>\n",
       "      <td>26.0</td>\n",
       "      <td>Cherbourg</td>\n",
       "      <td>None</td>\n",
       "    </tr>\n",
       "    <tr>\n",
       "      <th>890</th>\n",
       "      <td>3</td>\n",
       "      <td>male</td>\n",
       "      <td>32.0</td>\n",
       "      <td>Queenstown</td>\n",
       "      <td>None</td>\n",
       "    </tr>\n",
       "  </tbody>\n",
       "</table>\n",
       "<p>891 rows × 5 columns</p>\n",
       "</div>"
      ],
      "text/plain": [
       "     pclass     sex   age embarkedPort       relations\n",
       "0         3    male  22.0  Southampton  Spouse/Sibling\n",
       "1         1  female  38.0    Cherbourg  Spouse/Sibling\n",
       "2         3  female  26.0  Southampton            None\n",
       "3         1  female  35.0  Southampton  Spouse/Sibling\n",
       "4         3    male  35.0  Southampton            None\n",
       "5         3    male  29.0   Queenstown            None\n",
       "6         1    male  54.0  Southampton            None\n",
       "7         3    male   2.0  Southampton            Both\n",
       "8         3  female  27.0  Southampton    Parent/Child\n",
       "9         2  female  14.0    Cherbourg  Spouse/Sibling\n",
       "10        3  female   4.0  Southampton            Both\n",
       "11        1  female  58.0  Southampton            None\n",
       "12        3    male  20.0  Southampton            None\n",
       "13        3    male  39.0  Southampton            Both\n",
       "14        3  female  14.0  Southampton            None\n",
       "15        2  female  55.0  Southampton            None\n",
       "16        3    male   2.0   Queenstown            Both\n",
       "17        2    male  28.0  Southampton            None\n",
       "18        3  female  31.0  Southampton  Spouse/Sibling\n",
       "19        3  female  28.0    Cherbourg            None\n",
       "20        2    male  35.0  Southampton            None\n",
       "21        2    male  34.0  Southampton            None\n",
       "22        3  female  15.0   Queenstown            None\n",
       "23        1    male  28.0  Southampton            None\n",
       "24        3  female   8.0  Southampton            Both\n",
       "25        3  female  38.0  Southampton            Both\n",
       "26        3    male  29.0    Cherbourg            None\n",
       "27        1    male  19.0  Southampton            Both\n",
       "28        3  female  28.0   Queenstown            None\n",
       "29        3    male  29.0  Southampton            None\n",
       "..      ...     ...   ...          ...             ...\n",
       "861       2    male  21.0  Southampton  Spouse/Sibling\n",
       "862       1  female  48.0  Southampton            None\n",
       "863       3  female  24.5  Southampton            Both\n",
       "864       2    male  24.0  Southampton            None\n",
       "865       2  female  42.0  Southampton            None\n",
       "866       2  female  27.0    Cherbourg  Spouse/Sibling\n",
       "867       1    male  31.0  Southampton            None\n",
       "868       3    male  29.0  Southampton            None\n",
       "869       3    male   4.0  Southampton            Both\n",
       "870       3    male  26.0  Southampton            None\n",
       "871       1  female  47.0  Southampton            Both\n",
       "872       1    male  33.0  Southampton            None\n",
       "873       3    male  47.0  Southampton            None\n",
       "874       2  female  28.0    Cherbourg  Spouse/Sibling\n",
       "875       3  female  15.0    Cherbourg            None\n",
       "876       3    male  20.0  Southampton            None\n",
       "877       3    male  19.0  Southampton            None\n",
       "878       3    male  29.0  Southampton            None\n",
       "879       1  female  56.0    Cherbourg    Parent/Child\n",
       "880       2  female  25.0  Southampton    Parent/Child\n",
       "881       3    male  33.0  Southampton            None\n",
       "882       3  female  22.0  Southampton            None\n",
       "883       2    male  28.0  Southampton            None\n",
       "884       3    male  25.0  Southampton            None\n",
       "885       3  female  39.0   Queenstown    Parent/Child\n",
       "886       2    male  27.0  Southampton            None\n",
       "887       1  female  19.0  Southampton            None\n",
       "888       3  female  24.5  Southampton            Both\n",
       "889       1    male  26.0    Cherbourg            None\n",
       "890       3    male  32.0   Queenstown            None\n",
       "\n",
       "[891 rows x 5 columns]"
      ]
     },
     "execution_count": 578,
     "metadata": {},
     "output_type": "execute_result"
    }
   ],
   "source": [
    "#Create final dataframe\n",
    "df1['relations'] = df1.apply(lambda row: findRelations(row), axis=1)\n",
    "df2 = df1[['pclass', 'sex', 'age', 'CabinID', 'embarkedPort', 'relations','survived']]\n",
    "df3 = df2[['pclass', 'sex', 'age', 'embarkedPort', 'relations']]\n",
    "df3"
   ]
  },
  {
   "cell_type": "code",
   "execution_count": 579,
   "metadata": {
    "collapsed": false
   },
   "outputs": [
    {
     "name": "stdout",
     "output_type": "stream",
     "text": [
      "\n",
      "Probility of survival :\n",
      "pclass  sex     age   CabinID  embarkedPort  relations     \n",
      "1       female  2.0   C        Southampton   Both              0.000000\n",
      "                14.0  B        Southampton   Both              1.000000\n",
      "                15.0  B        Southampton   Parent/Child      1.000000\n",
      "                16.0  B        Cherbourg     Parent/Child      1.000000\n",
      "                               Southampton   None              1.000000\n",
      "                      D        Southampton   Parent/Child      1.000000\n",
      "                17.0  B        Southampton   Spouse/Sibling    1.000000\n",
      "                      C        Cherbourg     Spouse/Sibling    1.000000\n",
      "                18.0  B        Cherbourg     Both              1.000000\n",
      "                      C        Cherbourg     Spouse/Sibling    1.000000\n",
      "                      E        Southampton   Parent/Child      1.000000\n",
      "                19.0  B        Cherbourg     Spouse/Sibling    1.000000\n",
      "                               Southampton   None              1.000000\n",
      "                      D        Southampton   Parent/Child      1.000000\n",
      "                21.0  B        Cherbourg     Both              1.000000\n",
      "                      D        Southampton   None              1.000000\n",
      "                22.0  B        Cherbourg     Parent/Child      1.000000\n",
      "                      C        Southampton   Spouse/Sibling    1.000000\n",
      "                      E        Southampton   Parent/Child      1.000000\n",
      "                      n        Southampton   None              1.000000\n",
      "                23.0  C        Southampton   Both              1.000000\n",
      "                      D        Cherbourg     Spouse/Sibling    1.000000\n",
      "                24.0  B        Cherbourg     None              1.000000\n",
      "                      C        Cherbourg     None              1.000000\n",
      "                               Southampton   Both              1.000000\n",
      "                25.0  C        Southampton   Both              0.000000\n",
      "                26.0  n        Southampton   None              1.000000\n",
      "                28.0  B        Cherbourg     Spouse/Sibling    1.000000\n",
      "                      C        Cherbourg     Spouse/Sibling    1.000000\n",
      "                               Southampton   Spouse/Sibling    1.000000\n",
      "                                                                 ...   \n",
      "3       male    38.0  n        Southampton   None              0.000000\n",
      "                39.0  n        Southampton   Both              0.000000\n",
      "                                             None              0.333333\n",
      "                40.0  n        Cherbourg     None              0.000000\n",
      "                               Queenstown    Both              0.000000\n",
      "                               Southampton   Both              0.000000\n",
      "                                             None              0.000000\n",
      "                40.5  n        Queenstown    None              0.000000\n",
      "                               Southampton   Parent/Child      0.000000\n",
      "                41.0  n        Southampton   None              0.000000\n",
      "                                             Spouse/Sibling    0.000000\n",
      "                42.0  F        Southampton   None              0.000000\n",
      "                      n        Southampton   None              0.000000\n",
      "                                             Parent/Child      0.000000\n",
      "                43.0  n        Southampton   None              0.000000\n",
      "                44.0  n        Southampton   None              0.333333\n",
      "                                             Parent/Child      0.000000\n",
      "                45.0  n        Southampton   None              0.500000\n",
      "                45.5  n        Cherbourg     None              0.000000\n",
      "                47.0  n        Southampton   None              0.000000\n",
      "                48.0  n        Southampton   None              0.000000\n",
      "                49.0  n        Southampton   None              0.000000\n",
      "                50.0  n        Southampton   None              0.000000\n",
      "                51.0  n        Southampton   None              0.000000\n",
      "                55.5  n        Southampton   None              0.000000\n",
      "                59.0  n        Southampton   None              0.000000\n",
      "                61.0  n        Southampton   None              0.000000\n",
      "                65.0  n        Queenstown    None              0.000000\n",
      "                70.5  n        Queenstown    None              0.000000\n",
      "                74.0  n        Southampton   None              0.000000\n",
      "Name: survived, dtype: float64\n"
     ]
    }
   ],
   "source": [
    "#Final check - draw a pivot and bar graph\n",
    "temp2 = df1.pivot_table(values='survived',\n",
    "    index=['pclass', 'sex', 'age', 'CabinID', 'embarkedPort', 'relations'],aggfunc=lambda x: x.mean())\n",
    "\n",
    "print ('\\nProbility of survival :') \n",
    "print (temp2)"
   ]
  },
  {
   "cell_type": "markdown",
   "metadata": {},
   "source": [
    "# Apply machine learning algos"
   ]
  },
  {
   "cell_type": "code",
   "execution_count": 580,
   "metadata": {
    "collapsed": false
   },
   "outputs": [
    {
     "name": "stderr",
     "output_type": "stream",
     "text": [
      "/Users/suvojitdutta/anaconda/lib/python3.5/site-packages/ipykernel/__main__.py:7: SettingWithCopyWarning: \n",
      "A value is trying to be set on a copy of a slice from a DataFrame.\n",
      "Try using .loc[row_indexer,col_indexer] = value instead\n",
      "\n",
      "See the caveats in the documentation: http://pandas.pydata.org/pandas-docs/stable/indexing.html#indexing-view-versus-copy\n"
     ]
    },
    {
     "data": {
      "text/plain": [
       "pclass          int64\n",
       "sex             int64\n",
       "age             int64\n",
       "CabinID         int64\n",
       "embarkedPort    int64\n",
       "relations       int64\n",
       "survived        int64\n",
       "dtype: object"
      ]
     },
     "execution_count": 580,
     "metadata": {},
     "output_type": "execute_result"
    }
   ],
   "source": [
    "#Convert all data types to numeric for SCikit\n",
    "\n",
    "from sklearn.preprocessing import LabelEncoder\n",
    "var_mod = ['pclass', 'sex', 'age', 'CabinID', 'embarkedPort', 'relations','survived']\n",
    "le = LabelEncoder()\n",
    "for i in var_mod:\n",
    "    df2[i] = le.fit_transform(df2[i])\n",
    "df2.dtypes\n"
   ]
  },
  {
   "cell_type": "code",
   "execution_count": 581,
   "metadata": {
    "collapsed": false
   },
   "outputs": [
    {
     "name": "stderr",
     "output_type": "stream",
     "text": [
      "/Users/suvojitdutta/anaconda/lib/python3.5/site-packages/statsmodels/nonparametric/kdetools.py:20: VisibleDeprecationWarning: using a non-integer number instead of an integer will result in an error in the future\n",
      "  y = X[:m/2+1] + np.r_[0,X[m/2+1:],0]*1j\n"
     ]
    },
    {
     "data": {
      "image/png": "[encoded data removed]",
      "text/plain": [
       "<matplotlib.figure.Figure at 0x121f04e48>"
      ]
     },
     "metadata": {},
     "output_type": "display_data"
    }
   ],
   "source": [
    "#KDE Jointplot/ Jointgrid for sex and age\n",
    "g = sns.jointplot(x=\"sex\", y=\"age\", data=df2, kind=\"kde\", color=\"m\")\n",
    "g.plot_joint(plt.scatter, c=\"w\", s=30, linewidth=1, marker=\"+\")\n",
    "g.ax_joint.collections[0].set_alpha(0)\n",
    "g.set_axis_labels(\"$Gender$\", \"$Age$\");"
   ]
  },
  {
   "cell_type": "code",
   "execution_count": 582,
   "metadata": {
    "collapsed": false
   },
   "outputs": [
    {
     "name": "stderr",
     "output_type": "stream",
     "text": [
      "/Users/suvojitdutta/anaconda/lib/python3.5/site-packages/statsmodels/nonparametric/kdetools.py:20: VisibleDeprecationWarning: using a non-integer number instead of an integer will result in an error in the future\n",
      "  y = X[:m/2+1] + np.r_[0,X[m/2+1:],0]*1j\n"
     ]
    },
    {
     "data": {
      "image/png": "[encoded data removed]",
      "text/plain": [
       "<matplotlib.figure.Figure at 0x123ba75f8>"
      ]
     },
     "metadata": {},
     "output_type": "display_data"
    }
   ],
   "source": [
    "sns.jointplot(x=\"sex\", y=\"age\", data=df2, kind=\"kde\");"
   ]
  },
  {
   "cell_type": "code",
   "execution_count": 583,
   "metadata": {
    "collapsed": true
   },
   "outputs": [],
   "source": [
    "#Import models from scikit learn module:\n",
    "from sklearn.linear_model import LogisticRegression\n",
    "from sklearn.cross_validation import KFold   #For K-fold cross validation\n",
    "from sklearn.ensemble import RandomForestClassifier\n",
    "from sklearn.tree import DecisionTreeClassifier, export_graphviz\n",
    "from sklearn import metrics\n",
    "from sklearn import linear_model\n",
    "\n",
    "#Generic function for making a classification model and accessing performance:\n",
    "def classification_model(model, data, predictors, outcome):\n",
    "  #Fit the model:\n",
    "  model.fit(data[predictors],data[outcome])\n",
    "  \n",
    "  #Make predictions on training set:\n",
    "  predictions = model.predict(data[predictors])\n",
    "  \n",
    "  #Print accuracy\n",
    "  accuracy = metrics.accuracy_score(predictions,data[outcome])\n",
    "  print (\"Accuracy : %s\" % \"{0:.3%}\".format(accuracy))\n",
    "\n",
    "  #Perform k-fold cross-validation with 5 folds\n",
    "  kf = KFold(data.shape[0], n_folds=5)\n",
    "  error = []\n",
    "  for train, test in kf:\n",
    "    # Filter training data\n",
    "    train_predictors = (data[predictors].iloc[train,:])\n",
    "    \n",
    "    # The target we're using to train the algorithm.\n",
    "    train_target = data[outcome].iloc[train]\n",
    "    \n",
    "    # Training the algorithm using the predictors and target.\n",
    "    model.fit(train_predictors, train_target)\n",
    "    \n",
    "    #Record error from each cross-validation run\n",
    "    error.append(model.score(data[predictors].iloc[test,:], data[outcome].iloc[test]))\n",
    " \n",
    "  print (\"Cross-Validation Score : %s\" % \"{0:.3%}\".format(np.mean(error)))\n",
    "\n",
    "  #Fit the model again so that it can be refered outside the function:\n",
    "  model.fit(data[predictors],data[outcome]) "
   ]
  },
  {
   "cell_type": "markdown",
   "metadata": {},
   "source": [
    "# Logistic Regression"
   ]
  },
  {
   "cell_type": "code",
   "execution_count": 584,
   "metadata": {
    "collapsed": false
   },
   "outputs": [
    {
     "name": "stdout",
     "output_type": "stream",
     "text": [
      "Accuracy : 79.237%\n",
      "Cross-Validation Score : 78.564%\n"
     ]
    }
   ],
   "source": [
    "#Generate Logistic Regession model\n",
    "outcome_var = 'survived' \n",
    "model = LogisticRegression() \n",
    "predictor_var = ['pclass', 'sex', 'age',  'embarkedPort', 'relations'] \n",
    "classification_model(model, df2, predictor_var, outcome_var)"
   ]
  },
  {
   "cell_type": "code",
   "execution_count": 585,
   "metadata": {
    "collapsed": false
   },
   "outputs": [
    {
     "name": "stdout",
     "output_type": "stream",
     "text": [
      "Accuracy : 79.461%\n",
      "Cross-Validation Score : 79.011%\n"
     ]
    }
   ],
   "source": [
    "outcome_var = 'survived'\n",
    "model = LogisticRegression()\n",
    "predictor_var = ['pclass', 'sex', 'age']\n",
    "classification_model(model, df2, predictor_var, outcome_var)"
   ]
  },
  {
   "cell_type": "code",
   "execution_count": 586,
   "metadata": {
    "collapsed": false
   },
   "outputs": [
    {
     "name": "stdout",
     "output_type": "stream",
     "text": [
      "Accuracy : 78.676%\n",
      "Cross-Validation Score : 78.672%\n"
     ]
    }
   ],
   "source": [
    "outcome_var = 'survived'\n",
    "model = LogisticRegression()\n",
    "predictor_var = ['sex', 'age']\n",
    "classification_model(model, df2, predictor_var, outcome_var)"
   ]
  },
  {
   "cell_type": "markdown",
   "metadata": {},
   "source": [
    "# SVM MODEL"
   ]
  },
  {
   "cell_type": "code",
   "execution_count": 587,
   "metadata": {
    "collapsed": false
   },
   "outputs": [
    {
     "name": "stdout",
     "output_type": "stream",
     "text": [
      "Accuracy : 89.787%\n",
      "Cross-Validation Score : 78.232%\n"
     ]
    }
   ],
   "source": [
    "#Generate SVM model\n",
    "from sklearn import svm\n",
    "#Create SVM classification object\n",
    "model = svm.SVC(C=1.0, cache_size=200, class_weight=None, coef0=0.0, decision_function_shape=None, degree=3, gamma='auto', kernel='rbf', max_iter=-1, probability=False, random_state=10, shrinking=True, tol=0.001, verbose=False) \n",
    "predictor_var = ['pclass', 'sex', 'age', 'embarkedPort', 'relations'] \n",
    "outcome_var = 'survived' \n",
    "classification_model(model, df2, predictor_var, outcome_var)\n"
   ]
  },
  {
   "cell_type": "markdown",
   "metadata": {},
   "source": [
    "# RANDOM FOREST MODEL"
   ]
  },
  {
   "cell_type": "code",
   "execution_count": 588,
   "metadata": {
    "collapsed": false
   },
   "outputs": [
    {
     "name": "stdout",
     "output_type": "stream",
     "text": [
      "Accuracy : 83.389%\n",
      "Cross-Validation Score : 77.665%\n"
     ]
    }
   ],
   "source": [
    "# Generate SVM model\n",
    "from sklearn import svm\n",
    "# Create SVM classification object \n",
    "model = svm.SVC(C=1.0, cache_size=200, class_weight=None, coef0=0.0,\n",
    "    decision_function_shape=None, degree=3, gamma='auto', kernel='rbf',\n",
    "    max_iter=-1, probability=False, random_state=10, shrinking=True,\n",
    "    tol=0.001, verbose=False) \n",
    "predictor_var = ['sex', 'age']\n",
    "outcome_var = 'survived'\n",
    "classification_model(model, df2, predictor_var, outcome_var)"
   ]
  },
  {
   "cell_type": "code",
   "execution_count": 589,
   "metadata": {
    "collapsed": false
   },
   "outputs": [
    {
     "name": "stdout",
     "output_type": "stream",
     "text": [
      "Accuracy : 81.818%\n",
      "Cross-Validation Score : 80.583%\n"
     ]
    }
   ],
   "source": [
    "#Generate Random Forest model\n",
    "#model = RandomForestClassifier(n_estimators = 100)\n",
    "model = RandomForestClassifier(n_estimators =500,  oob_score = \"TRUE\", n_jobs = -1,\n",
    "    random_state =10, max_features = \"sqrt\", min_samples_split = 20, min_samples_leaf = 20)\n",
    "outcome_var = 'survived'\n",
    "predictor_var = ['pclass', 'sex', 'age',  'embarkedPort', 'relations'] \n",
    "classification_model(model, df2, predictor_var,outcome_var)"
   ]
  },
  {
   "cell_type": "markdown",
   "metadata": {},
   "source": [
    "# Tune Random Forest model"
   ]
  },
  {
   "cell_type": "code",
   "execution_count": 590,
   "metadata": {
    "collapsed": true
   },
   "outputs": [],
   "source": [
    "from sklearn import cross_validation, metrics   #Additional scklearn functions\n",
    "from sklearn.grid_search import GridSearchCV   #Perforing grid search\n",
    "from sklearn.preprocessing import label_binarize\n",
    "from sklearn import preprocessing\n",
    "\n",
    "import matplotlib.pylab as plt\n",
    "%matplotlib inline\n",
    "from matplotlib.pylab import rcParams\n",
    "rcParams['figure.figsize'] = 12, 4\n",
    "\n",
    "response = 'survived'\n",
    "IDcol = 'ID'\n",
    "CabinID = 'CabinID'"
   ]
  },
  {
   "cell_type": "code",
   "execution_count": 591,
   "metadata": {
    "collapsed": true
   },
   "outputs": [],
   "source": [
    "#define a function which will help us create RF models and perform cross-validation.\n",
    "\n",
    "def modelfit(alg, dtrain, predictors, performCV=True, printFeatureImportance=True, cv_folds=10):\n",
    "    #Fit the algorithm on the data\n",
    "  \n",
    "    dtrain['survived'] = label_binarize(dtrain['survived'], classes=[0, 1, 2])\n",
    "    alg.fit(dtrain[predictors], dtrain['survived'])\n",
    "        \n",
    "    #Predict training set:\n",
    "    dtrain_predictions = alg.predict(dtrain[predictors])\n",
    "    dtrain_predprob = alg.predict_proba(dtrain[predictors])[:,1]\n",
    "    \n",
    "    #Perform cross-validation:\n",
    "    if performCV:\n",
    "        cv_score = cross_validation.cross_val_score(alg, dtrain[predictors], dtrain['survived'], cv=cv_folds, scoring='roc_auc')\n",
    "    \n",
    "    #Print model report:\n",
    "    print (\"\\nModel Report\")\n",
    "    print (\"Accuracy : %.4g\" % metrics.accuracy_score(dtrain['survived'].values, dtrain_predictions))\n",
    "    print (\"AUC Score (Train): %f\" % metrics.roc_auc_score(dtrain['survived'], dtrain_predprob))\n",
    "    \n",
    "    if performCV:\n",
    "        print (\"CV Score : Mean - %.7g | Std - %.7g | Min - %.7g | Max - %.7g\" % (np.mean(cv_score),np.std(cv_score),np.min(cv_score),np.max(cv_score)))\n",
    "        \n",
    "    #Print Feature Importance:\n",
    "    if printFeatureImportance:\n",
    "        feat_imp = pd.Series(alg.feature_importances_, predictors).sort_values(ascending=False)\n",
    "        feat_imp.plot(kind='bar', title='Feature Importances')\n",
    "        plt.ylabel('Feature Importance Score')"
   ]
  },
  {
   "cell_type": "code",
   "execution_count": 592,
   "metadata": {
    "collapsed": false
   },
   "outputs": [
    {
     "name": "stderr",
     "output_type": "stream",
     "text": [
      "/Users/suvojitdutta/anaconda/lib/python3.5/site-packages/ipykernel/__main__.py:6: SettingWithCopyWarning: \n",
      "A value is trying to be set on a copy of a slice from a DataFrame.\n",
      "Try using .loc[row_indexer,col_indexer] = value instead\n",
      "\n",
      "See the caveats in the documentation: http://pandas.pydata.org/pandas-docs/stable/indexing.html#indexing-view-versus-copy\n"
     ]
    },
    {
     "name": "stdout",
     "output_type": "stream",
     "text": [
      "\n",
      "Model Report\n",
      "Accuracy : 0.8182\n",
      "AUC Score (Train): 0.893376\n",
      "CV Score : Mean - 0.8758254 | Std - 0.02920349 | Min - 0.8165775 | Max - 0.9171123\n"
     ]
    },
    {
     "data": {
      "image/png": "[encoded data removed]",
      "text/plain": [
       "<matplotlib.figure.Figure at 0x123781d30>"
      ]
     },
     "metadata": {},
     "output_type": "display_data"
    }
   ],
   "source": [
    "#Create baseline model with RF model\n",
    "predictors = [x for x in df2.columns if x not in [response, IDcol, CabinID]]\n",
    "rfm0 = RandomForestClassifier(n_estimators =500,  oob_score = \"TRUE\", n_jobs = -1,\n",
    "    random_state =10, max_features = \"sqrt\", min_samples_split = 20, min_samples_leaf = 20)\n",
    "modelfit(rfm0, df2, predictors)"
   ]
  },
  {
   "cell_type": "code",
   "execution_count": 593,
   "metadata": {
    "collapsed": false
   },
   "outputs": [
    {
     "data": {
      "text/plain": [
       "([mean: 0.87051, std: 0.01877, params: {'n_estimators': 20},\n",
       "  mean: 0.87026, std: 0.01754, params: {'n_estimators': 30},\n",
       "  mean: 0.87057, std: 0.01737, params: {'n_estimators': 40},\n",
       "  mean: 0.87024, std: 0.01896, params: {'n_estimators': 50},\n",
       "  mean: 0.87026, std: 0.01780, params: {'n_estimators': 60},\n",
       "  mean: 0.86894, std: 0.02007, params: {'n_estimators': 70},\n",
       "  mean: 0.86996, std: 0.01881, params: {'n_estimators': 80},\n",
       "  mean: 0.87003, std: 0.01969, params: {'n_estimators': 90},\n",
       "  mean: 0.87021, std: 0.01857, params: {'n_estimators': 100}],\n",
       " {'n_estimators': 40},\n",
       " 0.87057359713657367)"
      ]
     },
     "execution_count": 593,
     "metadata": {},
     "output_type": "execute_result"
    }
   ],
   "source": [
    "#Use Grid Search for tuning the RF model\n",
    "#Choose the optimum n_estimators and learning rate\n",
    "\n",
    "#Choose all predictors except target & IDcols\n",
    "predictors = [x for x in df2.columns if x not in [response, IDcol, CabinID]]\n",
    "param_test1 = {'n_estimators':[20,30,40,50,60,70,80, 90, 100]}\n",
    "\n",
    "gsearch1 = GridSearchCV(estimator = RandomForestClassifier(n_estimators =500,  oob_score = \"TRUE\", n_jobs = -1,\n",
    "    random_state =10, max_features = \"sqrt\", max_depth = 8, min_samples_split = 20, min_samples_leaf = 20), \n",
    "                        param_grid = param_test1, scoring='roc_auc',n_jobs=4,iid=False, cv=5)\n",
    "    \n",
    "gsearch1.fit(df2[predictors],df2[response])\n",
    "\n",
    "gsearch1.grid_scores_, gsearch1.best_params_, gsearch1.best_score_\n",
    "\n"
   ]
  },
  {
   "cell_type": "code",
   "execution_count": 594,
   "metadata": {
    "collapsed": false
   },
   "outputs": [
    {
     "data": {
      "text/plain": [
       "([mean: 0.86966, std: 0.01858, params: {'max_depth': 5, 'min_samples_split': 10},\n",
       "  mean: 0.86966, std: 0.01858, params: {'max_depth': 5, 'min_samples_split': 20},\n",
       "  mean: 0.86966, std: 0.01858, params: {'max_depth': 5, 'min_samples_split': 30},\n",
       "  mean: 0.86966, std: 0.01858, params: {'max_depth': 5, 'min_samples_split': 40},\n",
       "  mean: 0.86904, std: 0.01695, params: {'max_depth': 5, 'min_samples_split': 50},\n",
       "  mean: 0.86633, std: 0.01725, params: {'max_depth': 5, 'min_samples_split': 60},\n",
       "  mean: 0.86620, std: 0.01762, params: {'max_depth': 5, 'min_samples_split': 70},\n",
       "  mean: 0.87023, std: 0.01707, params: {'max_depth': 6, 'min_samples_split': 10},\n",
       "  mean: 0.87023, std: 0.01707, params: {'max_depth': 6, 'min_samples_split': 20},\n",
       "  mean: 0.87023, std: 0.01707, params: {'max_depth': 6, 'min_samples_split': 30},\n",
       "  mean: 0.87023, std: 0.01707, params: {'max_depth': 6, 'min_samples_split': 40},\n",
       "  mean: 0.86966, std: 0.01709, params: {'max_depth': 6, 'min_samples_split': 50},\n",
       "  mean: 0.86695, std: 0.01736, params: {'max_depth': 6, 'min_samples_split': 60},\n",
       "  mean: 0.86728, std: 0.01772, params: {'max_depth': 6, 'min_samples_split': 70},\n",
       "  mean: 0.87072, std: 0.01763, params: {'max_depth': 7, 'min_samples_split': 10},\n",
       "  mean: 0.87072, std: 0.01763, params: {'max_depth': 7, 'min_samples_split': 20},\n",
       "  mean: 0.87072, std: 0.01763, params: {'max_depth': 7, 'min_samples_split': 30},\n",
       "  mean: 0.87072, std: 0.01763, params: {'max_depth': 7, 'min_samples_split': 40},\n",
       "  mean: 0.86998, std: 0.01744, params: {'max_depth': 7, 'min_samples_split': 50},\n",
       "  mean: 0.86862, std: 0.01602, params: {'max_depth': 7, 'min_samples_split': 60},\n",
       "  mean: 0.86804, std: 0.01775, params: {'max_depth': 7, 'min_samples_split': 70},\n",
       "  mean: 0.87057, std: 0.01737, params: {'max_depth': 8, 'min_samples_split': 10},\n",
       "  mean: 0.87057, std: 0.01737, params: {'max_depth': 8, 'min_samples_split': 20},\n",
       "  mean: 0.87057, std: 0.01737, params: {'max_depth': 8, 'min_samples_split': 30},\n",
       "  mean: 0.87057, std: 0.01737, params: {'max_depth': 8, 'min_samples_split': 40},\n",
       "  mean: 0.87041, std: 0.01795, params: {'max_depth': 8, 'min_samples_split': 50},\n",
       "  mean: 0.86815, std: 0.01704, params: {'max_depth': 8, 'min_samples_split': 60},\n",
       "  mean: 0.86785, std: 0.01792, params: {'max_depth': 8, 'min_samples_split': 70},\n",
       "  mean: 0.87092, std: 0.01731, params: {'max_depth': 9, 'min_samples_split': 10},\n",
       "  mean: 0.87092, std: 0.01731, params: {'max_depth': 9, 'min_samples_split': 20},\n",
       "  mean: 0.87092, std: 0.01731, params: {'max_depth': 9, 'min_samples_split': 30},\n",
       "  mean: 0.87092, std: 0.01731, params: {'max_depth': 9, 'min_samples_split': 40},\n",
       "  mean: 0.87060, std: 0.01807, params: {'max_depth': 9, 'min_samples_split': 50},\n",
       "  mean: 0.86807, std: 0.01738, params: {'max_depth': 9, 'min_samples_split': 60},\n",
       "  mean: 0.86780, std: 0.01798, params: {'max_depth': 9, 'min_samples_split': 70},\n",
       "  mean: 0.87092, std: 0.01731, params: {'max_depth': 10, 'min_samples_split': 10},\n",
       "  mean: 0.87092, std: 0.01731, params: {'max_depth': 10, 'min_samples_split': 20},\n",
       "  mean: 0.87092, std: 0.01731, params: {'max_depth': 10, 'min_samples_split': 30},\n",
       "  mean: 0.87092, std: 0.01731, params: {'max_depth': 10, 'min_samples_split': 40},\n",
       "  mean: 0.87062, std: 0.01811, params: {'max_depth': 10, 'min_samples_split': 50},\n",
       "  mean: 0.86807, std: 0.01738, params: {'max_depth': 10, 'min_samples_split': 60},\n",
       "  mean: 0.86780, std: 0.01798, params: {'max_depth': 10, 'min_samples_split': 70},\n",
       "  mean: 0.87092, std: 0.01731, params: {'max_depth': 11, 'min_samples_split': 10},\n",
       "  mean: 0.87092, std: 0.01731, params: {'max_depth': 11, 'min_samples_split': 20},\n",
       "  mean: 0.87092, std: 0.01731, params: {'max_depth': 11, 'min_samples_split': 30},\n",
       "  mean: 0.87092, std: 0.01731, params: {'max_depth': 11, 'min_samples_split': 40},\n",
       "  mean: 0.87062, std: 0.01811, params: {'max_depth': 11, 'min_samples_split': 50},\n",
       "  mean: 0.86807, std: 0.01738, params: {'max_depth': 11, 'min_samples_split': 60},\n",
       "  mean: 0.86780, std: 0.01798, params: {'max_depth': 11, 'min_samples_split': 70}],\n",
       " {'max_depth': 9, 'min_samples_split': 10},\n",
       " 0.87091868436826092)"
      ]
     },
     "execution_count": 594,
     "metadata": {},
     "output_type": "execute_result"
    }
   ],
   "source": [
    "#Find optimum min_sample_split and max_depth\n",
    "predictors = [x for x in df2.columns if x not in [response, IDcol, CabinID]]\n",
    "param_test2 = {'max_depth':[5,6,7,8,9,10,11], 'min_samples_split': [10,20,30,40,50,60,70]}\n",
    "gsearch2 = GridSearchCV(estimator = RandomForestClassifier(n_estimators =40,  oob_score = \"TRUE\", n_jobs = -1,\n",
    "    random_state =10, max_features = \"sqrt\", max_depth = 8, min_samples_split = 20, min_samples_leaf = 20), \n",
    "                        param_grid = param_test2, scoring='roc_auc',n_jobs=4,iid=False, cv=5)\n",
    "gsearch2.fit(df2[predictors],df2[response])\n",
    "gsearch2.grid_scores_, gsearch2.best_params_, gsearch2.best_score_"
   ]
  },
  {
   "cell_type": "code",
   "execution_count": 595,
   "metadata": {
    "collapsed": false
   },
   "outputs": [
    {
     "data": {
      "text/plain": [
       "([mean: 0.88145, std: 0.03592, params: {'min_samples_split': 10, 'min_samples_leaf': 5},\n",
       "  mean: 0.88236, std: 0.03418, params: {'min_samples_split': 20, 'min_samples_leaf': 5},\n",
       "  mean: 0.87822, std: 0.03389, params: {'min_samples_split': 30, 'min_samples_leaf': 5},\n",
       "  mean: 0.87426, std: 0.03039, params: {'min_samples_split': 40, 'min_samples_leaf': 5},\n",
       "  mean: 0.87860, std: 0.02795, params: {'min_samples_split': 50, 'min_samples_leaf': 5},\n",
       "  mean: 0.87321, std: 0.02622, params: {'min_samples_split': 60, 'min_samples_leaf': 5},\n",
       "  mean: 0.87483, std: 0.02614, params: {'min_samples_split': 70, 'min_samples_leaf': 5},\n",
       "  mean: 0.87657, std: 0.02644, params: {'min_samples_split': 10, 'min_samples_leaf': 10},\n",
       "  mean: 0.87657, std: 0.02644, params: {'min_samples_split': 20, 'min_samples_leaf': 10},\n",
       "  mean: 0.87615, std: 0.02795, params: {'min_samples_split': 30, 'min_samples_leaf': 10},\n",
       "  mean: 0.87501, std: 0.02409, params: {'min_samples_split': 40, 'min_samples_leaf': 10},\n",
       "  mean: 0.87915, std: 0.02519, params: {'min_samples_split': 50, 'min_samples_leaf': 10},\n",
       "  mean: 0.87367, std: 0.02375, params: {'min_samples_split': 60, 'min_samples_leaf': 10},\n",
       "  mean: 0.87222, std: 0.02427, params: {'min_samples_split': 70, 'min_samples_leaf': 10},\n",
       "  mean: 0.87072, std: 0.02089, params: {'min_samples_split': 10, 'min_samples_leaf': 15},\n",
       "  mean: 0.87072, std: 0.02089, params: {'min_samples_split': 20, 'min_samples_leaf': 15},\n",
       "  mean: 0.87072, std: 0.02089, params: {'min_samples_split': 30, 'min_samples_leaf': 15},\n",
       "  mean: 0.87326, std: 0.02298, params: {'min_samples_split': 40, 'min_samples_leaf': 15},\n",
       "  mean: 0.87354, std: 0.02303, params: {'min_samples_split': 50, 'min_samples_leaf': 15},\n",
       "  mean: 0.87190, std: 0.02081, params: {'min_samples_split': 60, 'min_samples_leaf': 15},\n",
       "  mean: 0.87245, std: 0.02131, params: {'min_samples_split': 70, 'min_samples_leaf': 15},\n",
       "  mean: 0.87092, std: 0.01731, params: {'min_samples_split': 10, 'min_samples_leaf': 20},\n",
       "  mean: 0.87092, std: 0.01731, params: {'min_samples_split': 20, 'min_samples_leaf': 20},\n",
       "  mean: 0.87092, std: 0.01731, params: {'min_samples_split': 30, 'min_samples_leaf': 20},\n",
       "  mean: 0.87092, std: 0.01731, params: {'min_samples_split': 40, 'min_samples_leaf': 20},\n",
       "  mean: 0.87060, std: 0.01807, params: {'min_samples_split': 50, 'min_samples_leaf': 20},\n",
       "  mean: 0.86807, std: 0.01738, params: {'min_samples_split': 60, 'min_samples_leaf': 20},\n",
       "  mean: 0.86780, std: 0.01798, params: {'min_samples_split': 70, 'min_samples_leaf': 20},\n",
       "  mean: 0.86468, std: 0.01412, params: {'min_samples_split': 10, 'min_samples_leaf': 25},\n",
       "  mean: 0.86468, std: 0.01412, params: {'min_samples_split': 20, 'min_samples_leaf': 25},\n",
       "  mean: 0.86468, std: 0.01412, params: {'min_samples_split': 30, 'min_samples_leaf': 25},\n",
       "  mean: 0.86468, std: 0.01412, params: {'min_samples_split': 40, 'min_samples_leaf': 25},\n",
       "  mean: 0.86468, std: 0.01412, params: {'min_samples_split': 50, 'min_samples_leaf': 25},\n",
       "  mean: 0.86444, std: 0.01449, params: {'min_samples_split': 60, 'min_samples_leaf': 25},\n",
       "  mean: 0.86659, std: 0.01532, params: {'min_samples_split': 70, 'min_samples_leaf': 25},\n",
       "  mean: 0.86437, std: 0.01269, params: {'min_samples_split': 10, 'min_samples_leaf': 30},\n",
       "  mean: 0.86437, std: 0.01269, params: {'min_samples_split': 20, 'min_samples_leaf': 30},\n",
       "  mean: 0.86437, std: 0.01269, params: {'min_samples_split': 30, 'min_samples_leaf': 30},\n",
       "  mean: 0.86437, std: 0.01269, params: {'min_samples_split': 40, 'min_samples_leaf': 30},\n",
       "  mean: 0.86437, std: 0.01269, params: {'min_samples_split': 50, 'min_samples_leaf': 30},\n",
       "  mean: 0.86437, std: 0.01269, params: {'min_samples_split': 60, 'min_samples_leaf': 30},\n",
       "  mean: 0.86453, std: 0.01405, params: {'min_samples_split': 70, 'min_samples_leaf': 30},\n",
       "  mean: 0.86435, std: 0.01088, params: {'min_samples_split': 10, 'min_samples_leaf': 35},\n",
       "  mean: 0.86435, std: 0.01088, params: {'min_samples_split': 20, 'min_samples_leaf': 35},\n",
       "  mean: 0.86435, std: 0.01088, params: {'min_samples_split': 30, 'min_samples_leaf': 35},\n",
       "  mean: 0.86435, std: 0.01088, params: {'min_samples_split': 40, 'min_samples_leaf': 35},\n",
       "  mean: 0.86435, std: 0.01088, params: {'min_samples_split': 50, 'min_samples_leaf': 35},\n",
       "  mean: 0.86435, std: 0.01088, params: {'min_samples_split': 60, 'min_samples_leaf': 35},\n",
       "  mean: 0.86435, std: 0.01088, params: {'min_samples_split': 70, 'min_samples_leaf': 35},\n",
       "  mean: 0.86224, std: 0.01204, params: {'min_samples_split': 10, 'min_samples_leaf': 40},\n",
       "  mean: 0.86224, std: 0.01204, params: {'min_samples_split': 20, 'min_samples_leaf': 40},\n",
       "  mean: 0.86224, std: 0.01204, params: {'min_samples_split': 30, 'min_samples_leaf': 40},\n",
       "  mean: 0.86224, std: 0.01204, params: {'min_samples_split': 40, 'min_samples_leaf': 40},\n",
       "  mean: 0.86224, std: 0.01204, params: {'min_samples_split': 50, 'min_samples_leaf': 40},\n",
       "  mean: 0.86224, std: 0.01204, params: {'min_samples_split': 60, 'min_samples_leaf': 40},\n",
       "  mean: 0.86224, std: 0.01204, params: {'min_samples_split': 70, 'min_samples_leaf': 40}],\n",
       " {'min_samples_leaf': 5, 'min_samples_split': 20},\n",
       " 0.88235634341490898)"
      ]
     },
     "execution_count": 595,
     "metadata": {},
     "output_type": "execute_result"
    }
   ],
   "source": [
    "#Check optimum min_sample_leaf for a range min_sample_split\n",
    "param_test3 = {'min_samples_split':[10,20,30,40,50,60,70], 'min_samples_leaf': [5,10,15,20,25,30,35,40]}\n",
    "gsearch3 = GridSearchCV(estimator = RandomForestClassifier(n_estimators =40,  oob_score = \"TRUE\", n_jobs = -1,\n",
    "    random_state =10, max_features = \"sqrt\", max_depth = 9, min_samples_split = 10, min_samples_leaf = 20), \n",
    "                        param_grid = param_test3, scoring='roc_auc',n_jobs=4,iid=False, cv=5)\n",
    "gsearch3.fit(df2[predictors],df2[response])\n",
    "gsearch3.grid_scores_, gsearch3.best_params_, gsearch3.best_score_"
   ]
  },
  {
   "cell_type": "code",
   "execution_count": 596,
   "metadata": {
    "collapsed": false
   },
   "outputs": [
    {
     "data": {
      "text/plain": [
       "([mean: 0.88236, std: 0.03418, params: {'max_features': 2},\n",
       "  mean: 0.88493, std: 0.03247, params: {'max_features': 3},\n",
       "  mean: 0.88753, std: 0.03136, params: {'max_features': 4},\n",
       "  mean: 0.88672, std: 0.02901, params: {'max_features': 5}],\n",
       " {'max_features': 4},\n",
       " 0.8875276356327062)"
      ]
     },
     "execution_count": 596,
     "metadata": {},
     "output_type": "execute_result"
    }
   ],
   "source": [
    "#Tune max_feature\n",
    "param_test4 = {'max_features': [2,3,4,5]}\n",
    "gsearch4 = GridSearchCV(estimator = RandomForestClassifier(n_estimators =40,  oob_score = \"TRUE\", n_jobs = -1,\n",
    "    random_state =10, max_features = \"sqrt\", max_depth = 9, min_samples_split = 20, min_samples_leaf = 5), \n",
    "                        param_grid = param_test4, scoring='roc_auc',n_jobs=4,iid=False, cv=5)\n",
    "gsearch4.fit(df2[predictors],df2[response])\n",
    "gsearch4.grid_scores_, gsearch4.best_params_, gsearch4.best_score_\n",
    "\n"
   ]
  },
  {
   "cell_type": "code",
   "execution_count": 597,
   "metadata": {
    "collapsed": false
   },
   "outputs": [
    {
     "name": "stderr",
     "output_type": "stream",
     "text": [
      "/Users/suvojitdutta/anaconda/lib/python3.5/site-packages/ipykernel/__main__.py:6: SettingWithCopyWarning: \n",
      "A value is trying to be set on a copy of a slice from a DataFrame.\n",
      "Try using .loc[row_indexer,col_indexer] = value instead\n",
      "\n",
      "See the caveats in the documentation: http://pandas.pydata.org/pandas-docs/stable/indexing.html#indexing-view-versus-copy\n"
     ]
    },
    {
     "name": "stdout",
     "output_type": "stream",
     "text": [
      "\n",
      "Model Report\n",
      "Accuracy : 0.8586\n",
      "AUC Score (Train): 0.935848\n",
      "CV Score : Mean - 0.8833588 | Std - 0.0516318 | Min - 0.7796791 | Max - 0.9574866\n"
     ]
    },
    {
     "data": {
      "image/png": "[encoded data removed]",
      "text/plain": [
       "<matplotlib.figure.Figure at 0x12165fef0>"
      ]
     },
     "metadata": {},
     "output_type": "display_data"
    }
   ],
   "source": [
    "#Calibrate with RF \n",
    "predictors = [x for x in df2.columns if x not in [response, IDcol, CabinID]]\n",
    "rfm0 = RandomForestClassifier(n_estimators =40,  oob_score = \"TRUE\", n_jobs = -1,\n",
    "    random_state =10, max_features = 4, max_depth = 9, min_samples_split = 20, min_samples_leaf = 5)\n",
    "modelfit(rfm0, df2, predictors)"
   ]
  },
  {
   "cell_type": "code",
   "execution_count": 598,
   "metadata": {
    "collapsed": false
   },
   "outputs": [
    {
     "name": "stderr",
     "output_type": "stream",
     "text": [
      "/Users/suvojitdutta/anaconda/lib/python3.5/site-packages/ipykernel/__main__.py:6: SettingWithCopyWarning: \n",
      "A value is trying to be set on a copy of a slice from a DataFrame.\n",
      "Try using .loc[row_indexer,col_indexer] = value instead\n",
      "\n",
      "See the caveats in the documentation: http://pandas.pydata.org/pandas-docs/stable/indexing.html#indexing-view-versus-copy\n"
     ]
    },
    {
     "name": "stdout",
     "output_type": "stream",
     "text": [
      "\n",
      "Model Report\n",
      "Accuracy : 0.8608\n",
      "AUC Score (Train): 0.936818\n",
      "CV Score : Mean - 0.8903963 | Std - 0.04502431 | Min - 0.8090909 | Max - 0.9574866\n"
     ]
    },
    {
     "data": {
      "image/png": "[encoded data removed]",
      "text/plain": [
       "<matplotlib.figure.Figure at 0x1145415c0>"
      ]
     },
     "metadata": {},
     "output_type": "display_data"
    }
   ],
   "source": [
    "# Check for different n_estimators\n",
    "predictors = [x for x in df2.columns if x not in [response, IDcol, CabinID]]\n",
    "rfm0 = RandomForestClassifier(n_estimators =250,  oob_score = \"TRUE\", n_jobs = -1,\n",
    "    random_state =10, max_features = 4, max_depth = 9, min_samples_split = 20, min_samples_leaf = 5)\n",
    "modelfit(rfm0, df2, predictors)"
   ]
  },
  {
   "cell_type": "markdown",
   "metadata": {},
   "source": [
    "# NAIVE BAYES MODEL"
   ]
  },
  {
   "cell_type": "code",
   "execution_count": 599,
   "metadata": {
    "collapsed": false
   },
   "outputs": [
    {
     "name": "stdout",
     "output_type": "stream",
     "text": [
      "Accuracy : 77.217%\n",
      "Cross-Validation Score : 76.771%\n"
     ]
    }
   ],
   "source": [
    "from sklearn.naive_bayes import GaussianNB\n",
    "model = GaussianNB()\n",
    "outcome_var = 'survived'\n",
    "predictor_var = ['pclass', 'sex', 'age',  'embarkedPort', 'relations'] \n",
    "classification_model(model, df2, predictor_var,outcome_var)"
   ]
  },
  {
   "cell_type": "markdown",
   "metadata": {},
   "source": [
    "# Decision Tree model"
   ]
  },
  {
   "cell_type": "code",
   "execution_count": 600,
   "metadata": {
    "collapsed": false
   },
   "outputs": [
    {
     "name": "stdout",
     "output_type": "stream",
     "text": [
      "Accuracy : 94.276%\n",
      "Cross-Validation Score : 79.691%\n"
     ]
    }
   ],
   "source": [
    "from sklearn import tree\n",
    "# Create tree object \n",
    "model = tree.DecisionTreeClassifier(criterion='gini')\n",
    "outcome_var = 'survived'\n",
    "predictor_var = ['pclass', 'sex', 'age',  'embarkedPort', 'relations'] \n",
    "classification_model(model, df2, predictor_var,outcome_var)"
   ]
  },
  {
   "cell_type": "markdown",
   "metadata": {},
   "source": [
    "# Gradient Boosting "
   ]
  },
  {
   "cell_type": "code",
   "execution_count": 601,
   "metadata": {
    "collapsed": false
   },
   "outputs": [
    {
     "name": "stdout",
     "output_type": "stream",
     "text": [
      "Accuracy : 88.552%\n",
      "Cross-Validation Score : 82.833%\n"
     ]
    }
   ],
   "source": [
    "#Generate Gradient Boosting ensembling model\n",
    "from sklearn.ensemble import GradientBoostingClassifier\n",
    "model=GradientBoostingClassifier(loss='deviance', learning_rate=0.1, n_estimators=100, subsample=1.0, min_samples_split=2, min_samples_leaf=1, min_weight_fraction_leaf=0.0, max_depth=3, init=None, random_state=None, max_features=None, verbose=0, max_leaf_nodes=None, warm_start=False, presort='auto')\n",
    "outcome_var = 'survived'\n",
    "predictor_var = ['pclass', 'sex', 'age',  'embarkedPort', 'relations'] \n",
    "classification_model(model, df2, predictor_var,outcome_var)"
   ]
  },
  {
   "cell_type": "markdown",
   "metadata": {},
   "source": [
    "# Tuning GBM"
   ]
  },
  {
   "cell_type": "code",
   "execution_count": 602,
   "metadata": {
    "collapsed": false
   },
   "outputs": [],
   "source": [
    "#Add column name to the index in the Dataframe\n",
    "df2.index.name = 'ID'\n",
    "\n",
    "\n"
   ]
  },
  {
   "cell_type": "code",
   "execution_count": 603,
   "metadata": {
    "collapsed": false
   },
   "outputs": [
    {
     "name": "stderr",
     "output_type": "stream",
     "text": [
      "/Users/suvojitdutta/anaconda/lib/python3.5/site-packages/ipykernel/__main__.py:7: SettingWithCopyWarning: \n",
      "A value is trying to be set on a copy of a slice from a DataFrame.\n",
      "Try using .loc[row_indexer,col_indexer] = value instead\n",
      "\n",
      "See the caveats in the documentation: http://pandas.pydata.org/pandas-docs/stable/indexing.html#indexing-view-versus-copy\n"
     ]
    },
    {
     "data": {
      "text/plain": [
       "pclass          int64\n",
       "sex             int64\n",
       "age             int64\n",
       "CabinID         int64\n",
       "embarkedPort    int64\n",
       "relations       int64\n",
       "survived        int64\n",
       "dtype: object"
      ]
     },
     "execution_count": 603,
     "metadata": {},
     "output_type": "execute_result"
    }
   ],
   "source": [
    "#Convert all data types to numeric for SCikit\n",
    "\n",
    "from sklearn.preprocessing import LabelEncoder\n",
    "var_mod = ['pclass', 'sex', 'age',  'embarkedPort', 'relations', 'survived']\n",
    "le = LabelEncoder()\n",
    "for i in var_mod:\n",
    "    df2[i] = le.fit_transform(df1[i])\n",
    "df2.dtypes \n",
    "\n"
   ]
  },
  {
   "cell_type": "code",
   "execution_count": 660,
   "metadata": {
    "collapsed": true
   },
   "outputs": [],
   "source": [
    "#Import the libraries\n",
    "from sklearn.ensemble import GradientBoostingClassifier  #GBM algorithm\n",
    "from sklearn import cross_validation, metrics   #Additional scklearn functions\n",
    "from sklearn.grid_search import GridSearchCV   #Perforing grid search\n",
    "from sklearn.preprocessing import label_binarize\n",
    "from sklearn import preprocessing\n",
    "\n",
    "import matplotlib.pylab as plt\n",
    "%matplotlib inline\n",
    "from matplotlib.pylab import rcParams\n",
    "rcParams['figure.figsize'] = 12, 4\n",
    "\n",
    "response = 'survived'\n",
    "IDcol = 'ID'\n",
    "CabinID = 'CabinID'"
   ]
  },
  {
   "cell_type": "code",
   "execution_count": 661,
   "metadata": {
    "collapsed": true
   },
   "outputs": [],
   "source": [
    "#define a function which will help us create GBM models and perform cross-validation.\n",
    "\n",
    "def modelfit(alg, dtrain, predictors, performCV=True, printFeatureImportance=True, cv_folds=10):\n",
    "    #Fit the algorithm on the data\n",
    "  \n",
    "    dtrain['survived'] = label_binarize(dtrain['survived'], classes=[0, 1, 2])\n",
    "    alg.fit(dtrain[predictors], dtrain['survived'])\n",
    "        \n",
    "    #Predict training set:\n",
    "    dtrain_predictions = alg.predict(dtrain[predictors])\n",
    "    dtrain_predprob = alg.predict_proba(dtrain[predictors])[:,1]\n",
    "    \n",
    "    #Perform cross-validation:\n",
    "    if performCV:\n",
    "        cv_score = cross_validation.cross_val_score(alg, dtrain[predictors], dtrain['survived'], cv=cv_folds, scoring='roc_auc')\n",
    "    \n",
    "    #Print model report:\n",
    "    print (\"\\nModel Report\")\n",
    "    print (\"Accuracy : %.4g\" % metrics.accuracy_score(dtrain['survived'].values, dtrain_predictions))\n",
    "    print (\"AUC Score (Train): %f\" % metrics.roc_auc_score(dtrain['survived'], dtrain_predprob))\n",
    "    \n",
    "    if performCV:\n",
    "        print (\"CV Score : Mean - %.7g | Std - %.7g | Min - %.7g | Max - %.7g\" % (np.mean(cv_score),np.std(cv_score),np.min(cv_score),np.max(cv_score)))\n",
    "        \n",
    "    #Print Feature Importance:\n",
    "    if printFeatureImportance:\n",
    "        feat_imp = pd.Series(alg.feature_importances_, predictors).sort_values(ascending=False)\n",
    "        feat_imp.plot(kind='bar', title='Feature Importances')\n",
    "        plt.ylabel('Feature Importance Score')"
   ]
  },
  {
   "cell_type": "code",
   "execution_count": 662,
   "metadata": {
    "collapsed": false
   },
   "outputs": [
    {
     "name": "stderr",
     "output_type": "stream",
     "text": [
      "/Users/suvojitdutta/anaconda/lib/python3.5/site-packages/ipykernel/__main__.py:6: SettingWithCopyWarning: \n",
      "A value is trying to be set on a copy of a slice from a DataFrame.\n",
      "Try using .loc[row_indexer,col_indexer] = value instead\n",
      "\n",
      "See the caveats in the documentation: http://pandas.pydata.org/pandas-docs/stable/indexing.html#indexing-view-versus-copy\n"
     ]
    },
    {
     "name": "stdout",
     "output_type": "stream",
     "text": [
      "\n",
      "Model Report\n",
      "Accuracy : 0.8855\n",
      "AUC Score (Train): 0.943704\n",
      "CV Score : Mean - 0.8962264 | Std - 0.03616947 | Min - 0.8229947 | Max - 0.9553476\n"
     ]
    },
    {
     "data": {
      "image/png": "[encoded data removed]",
      "text/plain": [
       "<matplotlib.figure.Figure at 0x12373ea90>"
      ]
     },
     "metadata": {},
     "output_type": "display_data"
    }
   ],
   "source": [
    "#Create baseline model with GBM\n",
    "predictors = [x for x in df2.columns if x not in [response, IDcol, CabinID]]\n",
    "gbm0 = GradientBoostingClassifier(random_state=10)\n",
    "modelfit(gbm0, df2, predictors)"
   ]
  },
  {
   "cell_type": "code",
   "execution_count": 607,
   "metadata": {
    "collapsed": false
   },
   "outputs": [
    {
     "data": {
      "text/plain": [
       "([mean: 0.88692, std: 0.02857, params: {'n_estimators': 20},\n",
       "  mean: 0.89094, std: 0.03118, params: {'n_estimators': 30},\n",
       "  mean: 0.88813, std: 0.03250, params: {'n_estimators': 40},\n",
       "  mean: 0.88923, std: 0.03107, params: {'n_estimators': 50},\n",
       "  mean: 0.88830, std: 0.03246, params: {'n_estimators': 60},\n",
       "  mean: 0.88749, std: 0.03391, params: {'n_estimators': 70},\n",
       "  mean: 0.88740, std: 0.03405, params: {'n_estimators': 80},\n",
       "  mean: 0.88601, std: 0.03469, params: {'n_estimators': 90},\n",
       "  mean: 0.88486, std: 0.03566, params: {'n_estimators': 100}],\n",
       " {'n_estimators': 30},\n",
       " 0.89094414960748058)"
      ]
     },
     "execution_count": 607,
     "metadata": {},
     "output_type": "execute_result"
    }
   ],
   "source": [
    "#Choose the optimum n_estimators and learning rate\n",
    "\n",
    "#Choose all predictors except target & IDcols\n",
    "predictors = [x for x in df2.columns if x not in [response, IDcol]]\n",
    "param_test1 = {'n_estimators':[20,30,40,50,60,70,80, 90, 100]}\n",
    "\n",
    "gsearch1 = GridSearchCV(estimator = GradientBoostingClassifier(learning_rate=0.1, min_samples_split=20,min_samples_leaf=20,max_depth=8,max_features='sqrt',subsample=0.8,random_state=10), param_grid = param_test1, scoring='roc_auc',n_jobs=4,iid=False, cv=5) \n",
    "    \n",
    "gsearch1.fit(df2[predictors],df2[response])\n",
    "\n",
    "gsearch1.grid_scores_, gsearch1.best_params_, gsearch1.best_score_\n",
    "\n"
   ]
  },
  {
   "cell_type": "code",
   "execution_count": 608,
   "metadata": {
    "collapsed": false
   },
   "outputs": [
    {
     "data": {
      "text/plain": [
       "([mean: 0.88099, std: 0.02676, params: {'n_estimators': 20},\n",
       "  mean: 0.88388, std: 0.02746, params: {'n_estimators': 30},\n",
       "  mean: 0.88402, std: 0.02774, params: {'n_estimators': 40},\n",
       "  mean: 0.88732, std: 0.02886, params: {'n_estimators': 50},\n",
       "  mean: 0.88823, std: 0.03004, params: {'n_estimators': 60},\n",
       "  mean: 0.88675, std: 0.03134, params: {'n_estimators': 70},\n",
       "  mean: 0.88719, std: 0.03091, params: {'n_estimators': 80},\n",
       "  mean: 0.88593, std: 0.03340, params: {'n_estimators': 90},\n",
       "  mean: 0.88672, std: 0.03313, params: {'n_estimators': 100}],\n",
       " {'n_estimators': 60},\n",
       " 0.88823259934571797)"
      ]
     },
     "execution_count": 608,
     "metadata": {},
     "output_type": "execute_result"
    }
   ],
   "source": [
    "#Choose the optimum n_estimators and learning rate\n",
    "\n",
    "#Choose all predictors except target & IDcols\n",
    "predictors = [x for x in df2.columns if x not in [response, IDcol]]\n",
    "param_test1 = {'n_estimators':[20,30,40,50,60,70,80, 90, 100]}\n",
    "\n",
    "gsearch1 = GridSearchCV(estimator = GradientBoostingClassifier(learning_rate=0.05, min_samples_split=20,min_samples_leaf=20,max_depth=8,max_features='sqrt',subsample=0.8,random_state=10), param_grid = param_test1, scoring='roc_auc',n_jobs=4,iid=False, cv=5) \n",
    "    \n",
    "gsearch1.fit(df2[predictors],df2[response])\n",
    "\n",
    "gsearch1.grid_scores_, gsearch1.best_params_, gsearch1.best_score_\n",
    "\n",
    "\n",
    "\n"
   ]
  },
  {
   "cell_type": "code",
   "execution_count": 609,
   "metadata": {
    "collapsed": false
   },
   "outputs": [
    {
     "data": {
      "text/plain": [
       "([mean: 0.88402, std: 0.02774, params: {'n_estimators': 40},\n",
       "  mean: 0.88538, std: 0.02969, params: {'n_estimators': 45},\n",
       "  mean: 0.88732, std: 0.02886, params: {'n_estimators': 50},\n",
       "  mean: 0.88689, std: 0.02953, params: {'n_estimators': 55},\n",
       "  mean: 0.88823, std: 0.03004, params: {'n_estimators': 60},\n",
       "  mean: 0.88632, std: 0.03155, params: {'n_estimators': 65},\n",
       "  mean: 0.88675, std: 0.03134, params: {'n_estimators': 70},\n",
       "  mean: 0.88740, std: 0.03129, params: {'n_estimators': 75},\n",
       "  mean: 0.88719, std: 0.03091, params: {'n_estimators': 80}],\n",
       " {'n_estimators': 60},\n",
       " 0.88823259934571797)"
      ]
     },
     "execution_count": 609,
     "metadata": {},
     "output_type": "execute_result"
    }
   ],
   "source": [
    "#Tune n_estimator further with smaller increments\n",
    "\n",
    "#Choose all predictors except target & IDcols\n",
    "predictors = [x for x in df2.columns if x not in [response, IDcol]]\n",
    "param_test1 = {'n_estimators':[40,45,50,55,60,65,70,75,80]}\n",
    "\n",
    "gsearch1 = GridSearchCV(estimator = GradientBoostingClassifier(learning_rate=0.05, min_samples_split=20,min_samples_leaf=20,max_depth=8,max_features='sqrt',subsample=0.8,random_state=10), param_grid = param_test1, scoring='roc_auc',n_jobs=4,iid=False, cv=5) \n",
    "    \n",
    "gsearch1.fit(df2[predictors],df2[response])\n",
    "\n",
    "gsearch1.grid_scores_, gsearch1.best_params_, gsearch1.best_score_"
   ]
  },
  {
   "cell_type": "code",
   "execution_count": 610,
   "metadata": {
    "collapsed": false
   },
   "outputs": [
    {
     "data": {
      "text/plain": [
       "([mean: 0.88275, std: 0.03203, params: {'max_depth': 5, 'min_samples_split': 20},\n",
       "  mean: 0.88183, std: 0.02965, params: {'max_depth': 5, 'min_samples_split': 60},\n",
       "  mean: 0.88275, std: 0.03203, params: {'max_depth': 5, 'min_samples_split': 20},\n",
       "  mean: 0.88003, std: 0.03431, params: {'max_depth': 10, 'min_samples_split': 20},\n",
       "  mean: 0.88356, std: 0.03630, params: {'max_depth': 10, 'min_samples_split': 60},\n",
       "  mean: 0.88003, std: 0.03431, params: {'max_depth': 10, 'min_samples_split': 20},\n",
       "  mean: 0.87456, std: 0.01952, params: {'max_depth': 2, 'min_samples_split': 20},\n",
       "  mean: 0.87498, std: 0.01805, params: {'max_depth': 2, 'min_samples_split': 60},\n",
       "  mean: 0.87456, std: 0.01952, params: {'max_depth': 2, 'min_samples_split': 20}],\n",
       " {'max_depth': 10, 'min_samples_split': 60},\n",
       " 0.88356343948175053)"
      ]
     },
     "execution_count": 610,
     "metadata": {},
     "output_type": "execute_result"
    }
   ],
   "source": [
    "#Find optimum min_sample_split and max_depth\n",
    "predictors = [x for x in df2.columns if x not in [response, IDcol]]\n",
    "param_test2 = {'max_depth':[5,10,2], 'min_samples_split': [20,60,20]}\n",
    "gsearch2 = GridSearchCV(estimator = GradientBoostingClassifier(learning_rate=0.05, n_estimators=60, max_features='sqrt', subsample=0.8, random_state=10), \n",
    "param_grid = param_test2, scoring='roc_auc',n_jobs=4,iid=False, cv=5)\n",
    "gsearch2.fit(df2[predictors],df2[response])\n",
    "gsearch2.grid_scores_, gsearch2.best_params_, gsearch2.best_score_"
   ]
  },
  {
   "cell_type": "code",
   "execution_count": 611,
   "metadata": {
    "collapsed": false
   },
   "outputs": [
    {
     "data": {
      "text/plain": [
       "([mean: 0.87842, std: 0.03269, params: {'max_depth': 5, 'min_samples_split': 50},\n",
       "  mean: 0.88115, std: 0.02961, params: {'max_depth': 5, 'min_samples_split': 55},\n",
       "  mean: 0.88183, std: 0.02965, params: {'max_depth': 5, 'min_samples_split': 60},\n",
       "  mean: 0.88363, std: 0.02773, params: {'max_depth': 5, 'min_samples_split': 65},\n",
       "  mean: 0.88070, std: 0.02836, params: {'max_depth': 5, 'min_samples_split': 70},\n",
       "  mean: 0.88291, std: 0.03909, params: {'max_depth': 10, 'min_samples_split': 50},\n",
       "  mean: 0.88294, std: 0.03912, params: {'max_depth': 10, 'min_samples_split': 55},\n",
       "  mean: 0.88356, std: 0.03630, params: {'max_depth': 10, 'min_samples_split': 60},\n",
       "  mean: 0.88564, std: 0.03572, params: {'max_depth': 10, 'min_samples_split': 65},\n",
       "  mean: 0.88217, std: 0.03605, params: {'max_depth': 10, 'min_samples_split': 70},\n",
       "  mean: 0.88159, std: 0.03949, params: {'max_depth': 15, 'min_samples_split': 50},\n",
       "  mean: 0.88214, std: 0.03548, params: {'max_depth': 15, 'min_samples_split': 55},\n",
       "  mean: 0.87926, std: 0.03723, params: {'max_depth': 15, 'min_samples_split': 60},\n",
       "  mean: 0.88407, std: 0.03775, params: {'max_depth': 15, 'min_samples_split': 65},\n",
       "  mean: 0.88285, std: 0.03835, params: {'max_depth': 15, 'min_samples_split': 70},\n",
       "  mean: 0.88042, std: 0.03952, params: {'max_depth': 20, 'min_samples_split': 50},\n",
       "  mean: 0.88173, std: 0.03842, params: {'max_depth': 20, 'min_samples_split': 55},\n",
       "  mean: 0.87958, std: 0.03815, params: {'max_depth': 20, 'min_samples_split': 60},\n",
       "  mean: 0.88390, std: 0.03757, params: {'max_depth': 20, 'min_samples_split': 65},\n",
       "  mean: 0.88202, std: 0.03799, params: {'max_depth': 20, 'min_samples_split': 70}],\n",
       " {'max_depth': 10, 'min_samples_split': 65},\n",
       " 0.88564326658973402)"
      ]
     },
     "execution_count": 611,
     "metadata": {},
     "output_type": "execute_result"
    }
   ],
   "source": [
    "#Tune max_depth and min_sample_splits further\n",
    "predictors = [x for x in df2.columns if x not in [response, IDcol]]\n",
    "param_test2 = {'max_depth':[5,10,15,20], 'min_samples_split': [50,55,60,65,70]}\n",
    "gsearch2 = GridSearchCV(estimator = GradientBoostingClassifier(learning_rate=0.05, n_estimators=60, max_features='sqrt', subsample=0.8, random_state=10), \n",
    "param_grid = param_test2, scoring='roc_auc',n_jobs=4,iid=False, cv=5)\n",
    "gsearch2.fit(df2[predictors],df2[response])\n",
    "gsearch2.grid_scores_, gsearch2.best_params_, gsearch2.best_score_"
   ]
  },
  {
   "cell_type": "code",
   "execution_count": 612,
   "metadata": {
    "collapsed": false
   },
   "outputs": [
    {
     "data": {
      "text/plain": [
       "([mean: 0.88580, std: 0.03711, params: {'min_samples_split': 50, 'min_samples_leaf': 5},\n",
       "  mean: 0.88381, std: 0.03654, params: {'min_samples_split': 55, 'min_samples_leaf': 5},\n",
       "  mean: 0.88138, std: 0.03677, params: {'min_samples_split': 60, 'min_samples_leaf': 5},\n",
       "  mean: 0.88448, std: 0.03396, params: {'min_samples_split': 65, 'min_samples_leaf': 5},\n",
       "  mean: 0.88486, std: 0.03498, params: {'min_samples_split': 70, 'min_samples_leaf': 5},\n",
       "  mean: 0.88274, std: 0.03479, params: {'min_samples_split': 75, 'min_samples_leaf': 5},\n",
       "  mean: 0.88441, std: 0.03373, params: {'min_samples_split': 50, 'min_samples_leaf': 10},\n",
       "  mean: 0.88554, std: 0.03499, params: {'min_samples_split': 55, 'min_samples_leaf': 10},\n",
       "  mean: 0.88457, std: 0.03430, params: {'min_samples_split': 60, 'min_samples_leaf': 10},\n",
       "  mean: 0.88502, std: 0.03382, params: {'min_samples_split': 65, 'min_samples_leaf': 10},\n",
       "  mean: 0.88547, std: 0.03301, params: {'min_samples_split': 70, 'min_samples_leaf': 10},\n",
       "  mean: 0.88431, std: 0.03408, params: {'min_samples_split': 75, 'min_samples_leaf': 10},\n",
       "  mean: 0.88623, std: 0.03414, params: {'min_samples_split': 50, 'min_samples_leaf': 15},\n",
       "  mean: 0.88661, std: 0.03260, params: {'min_samples_split': 55, 'min_samples_leaf': 15},\n",
       "  mean: 0.88454, std: 0.03257, params: {'min_samples_split': 60, 'min_samples_leaf': 15},\n",
       "  mean: 0.88625, std: 0.03034, params: {'min_samples_split': 65, 'min_samples_leaf': 15},\n",
       "  mean: 0.88571, std: 0.03014, params: {'min_samples_split': 70, 'min_samples_leaf': 15},\n",
       "  mean: 0.88194, std: 0.03302, params: {'min_samples_split': 75, 'min_samples_leaf': 15},\n",
       "  mean: 0.88376, std: 0.03323, params: {'min_samples_split': 50, 'min_samples_leaf': 20},\n",
       "  mean: 0.88597, std: 0.02913, params: {'min_samples_split': 55, 'min_samples_leaf': 20},\n",
       "  mean: 0.88530, std: 0.02785, params: {'min_samples_split': 60, 'min_samples_leaf': 20},\n",
       "  mean: 0.88701, std: 0.02958, params: {'min_samples_split': 65, 'min_samples_leaf': 20},\n",
       "  mean: 0.88834, std: 0.02716, params: {'min_samples_split': 70, 'min_samples_leaf': 20},\n",
       "  mean: 0.88507, std: 0.02933, params: {'min_samples_split': 75, 'min_samples_leaf': 20},\n",
       "  mean: 0.88540, std: 0.02491, params: {'min_samples_split': 50, 'min_samples_leaf': 25},\n",
       "  mean: 0.88613, std: 0.02395, params: {'min_samples_split': 55, 'min_samples_leaf': 25},\n",
       "  mean: 0.88397, std: 0.02506, params: {'min_samples_split': 60, 'min_samples_leaf': 25},\n",
       "  mean: 0.88757, std: 0.02404, params: {'min_samples_split': 65, 'min_samples_leaf': 25},\n",
       "  mean: 0.88449, std: 0.02496, params: {'min_samples_split': 70, 'min_samples_leaf': 25},\n",
       "  mean: 0.88594, std: 0.02672, params: {'min_samples_split': 75, 'min_samples_leaf': 25}],\n",
       " {'min_samples_leaf': 20, 'min_samples_split': 70},\n",
       " 0.88833890952036632)"
      ]
     },
     "execution_count": 612,
     "metadata": {},
     "output_type": "execute_result"
    }
   ],
   "source": [
    "#Check optimum min_sample_leaf for a range min_sample_split\n",
    "param_test3 = {'min_samples_split':[50,55,60,65,70,75], 'min_samples_leaf': [5,10,15,20,25]}\n",
    "gsearch3 = GridSearchCV(estimator = GradientBoostingClassifier(learning_rate=0.05, n_estimators=60,max_depth=10,max_features='sqrt', subsample=0.8, random_state=10), \n",
    "param_grid = param_test3, scoring='roc_auc',n_jobs=4,iid=False, cv=5)\n",
    "gsearch3.fit(df2[predictors],df2[response])\n",
    "gsearch3.grid_scores_, gsearch3.best_params_, gsearch3.best_score_"
   ]
  },
  {
   "cell_type": "code",
   "execution_count": 613,
   "metadata": {
    "collapsed": false
   },
   "outputs": [
    {
     "data": {
      "text/plain": [
       "([mean: 0.88834, std: 0.02716, params: {'max_features': 2},\n",
       "  mean: 0.88516, std: 0.03172, params: {'max_features': 3},\n",
       "  mean: 0.88675, std: 0.03194, params: {'max_features': 4},\n",
       "  mean: 0.88975, std: 0.02992, params: {'max_features': 5}],\n",
       " {'max_features': 5},\n",
       " 0.88974816503096155)"
      ]
     },
     "execution_count": 613,
     "metadata": {},
     "output_type": "execute_result"
    }
   ],
   "source": [
    "#Tune max_feature\n",
    "param_test4 = {'max_features': [2,3,4,5]}\n",
    "gsearch4 = GridSearchCV(estimator = GradientBoostingClassifier(learning_rate=0.05, n_estimators=60,max_depth=10, min_samples_split=70, min_samples_leaf=20, subsample=0.8, random_state=10),\n",
    "param_grid = param_test4, scoring='roc_auc',n_jobs=4,iid=False, cv=5)\n",
    "gsearch4.fit(df2[predictors],df2[response])\n",
    "gsearch4.grid_scores_, gsearch4.best_params_, gsearch4.best_score_\n",
    "\n"
   ]
  },
  {
   "cell_type": "code",
   "execution_count": 614,
   "metadata": {
    "collapsed": false
   },
   "outputs": [
    {
     "data": {
      "text/plain": [
       "([mean: 0.88791, std: 0.02323, params: {'subsample': 0.6},\n",
       "  mean: 0.88600, std: 0.02391, params: {'subsample': 0.7},\n",
       "  mean: 0.88599, std: 0.02290, params: {'subsample': 0.75},\n",
       "  mean: 0.88575, std: 0.02270, params: {'subsample': 0.8},\n",
       "  mean: 0.88464, std: 0.02386, params: {'subsample': 0.85},\n",
       "  mean: 0.88411, std: 0.02312, params: {'subsample': 0.9}],\n",
       " {'subsample': 0.6},\n",
       " 0.8879127231630225)"
      ]
     },
     "execution_count": 614,
     "metadata": {},
     "output_type": "execute_result"
    }
   ],
   "source": [
    "param_test5 = {'subsample':[0.6,0.7,0.75,0.8,0.85,0.9]}\n",
    "gsearch5 = GridSearchCV(estimator = GradientBoostingClassifier(learning_rate=0.05, n_estimators=100,max_depth=2,min_samples_split=20, min_samples_leaf=15, random_state=10,max_features=5),\n",
    "param_grid = param_test5, scoring='roc_auc',n_jobs=4,iid=False, cv=5)\n",
    "gsearch5.fit(df2[predictors],df2[response])\n",
    "gsearch5.grid_scores_, gsearch5.best_params_, gsearch5.best_score_"
   ]
  },
  {
   "cell_type": "code",
   "execution_count": 615,
   "metadata": {
    "collapsed": true
   },
   "outputs": [],
   "source": [
    "# The optimum parameters -\n",
    "#Learnng Rate = 0.05\n",
    "#n_estimators = 80\n",
    "#max_depth = 2\n",
    "#min_samples_split = 60\n",
    "#min_samples_leaf = 15\n",
    "#max_featues = 4\n",
    "#sub sample = 0.75"
   ]
  },
  {
   "cell_type": "code",
   "execution_count": 663,
   "metadata": {
    "collapsed": false
   },
   "outputs": [
    {
     "name": "stderr",
     "output_type": "stream",
     "text": [
      "/Users/suvojitdutta/anaconda/lib/python3.5/site-packages/ipykernel/__main__.py:6: SettingWithCopyWarning: \n",
      "A value is trying to be set on a copy of a slice from a DataFrame.\n",
      "Try using .loc[row_indexer,col_indexer] = value instead\n",
      "\n",
      "See the caveats in the documentation: http://pandas.pydata.org/pandas-docs/stable/indexing.html#indexing-view-versus-copy\n"
     ]
    },
    {
     "name": "stdout",
     "output_type": "stream",
     "text": [
      "\n",
      "Model Report\n",
      "Accuracy : 0.8642\n",
      "AUC Score (Train): 0.923923\n",
      "CV Score : Mean - 0.8921972 | Std - 0.03892076 | Min - 0.8026738 | Max - 0.9532086\n"
     ]
    },
    {
     "data": {
      "image/png": "[encoded data removed]",
      "text/plain": [
       "<matplotlib.figure.Figure at 0x123b31160>"
      ]
     },
     "metadata": {},
     "output_type": "display_data"
    }
   ],
   "source": [
    "#Check model score\n",
    "predictors = [x for x in df2.columns if x not in [response, IDcol, CabinID]]\n",
    "gbm0 = GradientBoostingClassifier(learning_rate=0.05, n_estimators=60,max_depth=10,min_samples_split=70, min_samples_leaf=20, subsample=0.6, random_state=10, max_features=5)\n",
    "                                   \n",
    "modelfit(gbm0, df2, predictors)"
   ]
  },
  {
   "cell_type": "markdown",
   "metadata": {},
   "source": [
    "# Optimize learning_rate and n_estimators\n"
   ]
  },
  {
   "cell_type": "code",
   "execution_count": 666,
   "metadata": {
    "collapsed": false
   },
   "outputs": [
    {
     "name": "stderr",
     "output_type": "stream",
     "text": [
      "/Users/suvojitdutta/anaconda/lib/python3.5/site-packages/ipykernel/__main__.py:6: SettingWithCopyWarning: \n",
      "A value is trying to be set on a copy of a slice from a DataFrame.\n",
      "Try using .loc[row_indexer,col_indexer] = value instead\n",
      "\n",
      "See the caveats in the documentation: http://pandas.pydata.org/pandas-docs/stable/indexing.html#indexing-view-versus-copy\n"
     ]
    },
    {
     "name": "stdout",
     "output_type": "stream",
     "text": [
      "\n",
      "Model Report\n",
      "Accuracy : 0.8844\n",
      "AUC Score (Train): 0.939523\n",
      "CV Score : Mean - 0.8968394 | Std - 0.03816177 | Min - 0.8171123 | Max - 0.9526738\n"
     ]
    },
    {
     "data": {
      "image/png": "[encoded data removed]",
      "text/plain": [
       "<matplotlib.figure.Figure at 0x1237ca160>"
      ]
     },
     "metadata": {},
     "output_type": "display_data"
    }
   ],
   "source": [
    "#Check model score\n",
    "#Increase the n_estimators to 500\n",
    "predictors = [x for x in df2.columns if x not in [response, IDcol, CabinID]]\n",
    "gbm0 = GradientBoostingClassifier(learning_rate=0.01, n_estimators=690,max_depth=10,min_samples_split=70, min_samples_leaf=20, subsample=0.6, random_state=10, max_features=5)\n",
    "                                   \n",
    "modelfit(gbm0, df2, predictors)"
   ]
  },
  {
   "cell_type": "code",
   "execution_count": 618,
   "metadata": {
    "collapsed": true
   },
   "outputs": [],
   "source": [
    "# Final parameters\n",
    "#n_estimator = 700\n",
    "#learning_rate = 0.01\n",
    "#min_sample_split = 70\n",
    "#max_depth =10\n",
    "#min_sample_leaf = 20\n",
    "#max_features = 5\n",
    "#sub sample = 0.6"
   ]
  },
  {
   "cell_type": "markdown",
   "metadata": {},
   "source": [
    "# Xtream Gradient Boosting / XGB"
   ]
  },
  {
   "cell_type": "code",
   "execution_count": 619,
   "metadata": {
    "collapsed": false
   },
   "outputs": [],
   "source": [
    "#Import libraries:\n",
    "import xgboost as xgb\n",
    "from xgboost.sklearn import XGBClassifier\n",
    "from sklearn import cross_validation, metrics   #Additional scklearn functions\n",
    "from sklearn.grid_search import GridSearchCV   #Perforing grid search\n",
    "\n",
    "import matplotlib.pylab as plt\n",
    "%matplotlib inline\n",
    "from matplotlib.pylab import rcParams\n",
    "rcParams['figure.figsize'] = 12, 4\n",
    "\n",
    "response = 'survived'\n",
    "IDcol = 'ID'\n",
    "CabinID = 'CabinID'\n"
   ]
  },
  {
   "cell_type": "code",
   "execution_count": 620,
   "metadata": {
    "collapsed": false
   },
   "outputs": [],
   "source": [
    "#Define a function which will help us create XGBoost models and perform cross-validation.\n",
    "\n",
    "def modelfit(alg, dtrain, predictors,useTrainCV=True, cv_folds=10, early_stopping_rounds=20):\n",
    "    \n",
    "    if useTrainCV:\n",
    "        xgb_param = alg.get_xgb_params()\n",
    "        xgtrain = xgb.DMatrix(dtrain[predictors].values, label=dtrain['survived'].values)\n",
    "        cvresult = xgb.cv(xgb_param, xgtrain, num_boost_round=alg.get_params()['n_estimators'], nfold=cv_folds,\n",
    "            metrics='auc', early_stopping_rounds=early_stopping_rounds)\n",
    "        alg.set_params(n_estimators=cvresult.shape[0])\n",
    "    \n",
    "    #Fit the algorithm on the data\n",
    "    alg.fit(dtrain[predictors], dtrain['survived'],eval_metric='auc')\n",
    "        \n",
    "    #Predict training set:\n",
    "    dtrain_predictions = alg.predict(dtrain[predictors])\n",
    "    dtrain_predprob = alg.predict_proba(dtrain[predictors])[:,1]\n",
    "    \n",
    "    cv_score = cross_validation.cross_val_score(alg, dtrain[predictors], dtrain['survived'], cv=cv_folds, scoring='roc_auc')\n",
    "    \n",
    "    #Print model report:\n",
    "    print (\"\\nModel Report\")\n",
    "    print (\"Accuracy : %.4g\" % metrics.accuracy_score(dtrain['survived'].values, dtrain_predictions))\n",
    "    print (\"AUC Score (Train): %f\" % metrics.roc_auc_score(dtrain['survived'], dtrain_predprob))\n",
    "    print (\"CV Score : Mean - %.7g | Std - %.7g | Min - %.7g | Max - %.7g\" % (np.mean(cv_score),np.std(cv_score),np.min(cv_score),np.max(cv_score)))          \n",
    "    feat_imp = pd.Series(alg.booster().get_fscore()).sort_values(ascending=False)\n",
    "    feat_imp.plot(kind='bar', title='Feature Importances')\n",
    "    plt.ylabel('Feature Importance Score')"
   ]
  },
  {
   "cell_type": "code",
   "execution_count": 621,
   "metadata": {
    "collapsed": true
   },
   "outputs": [],
   "source": [
    "#Consider first round estimates of the paarmeters as follows -\n",
    "#learning_rate = 0.1\n",
    "#n_estimators = 100\n",
    "#max_depth = 5\n",
    "#min_child_weight = 1\n",
    "#gamma = 0\n",
    "#subsample, colsample_bytree = 0.8\n",
    "#scale_pos_weight = 1  #greater than 0 for high class imbalance"
   ]
  },
  {
   "cell_type": "code",
   "execution_count": 622,
   "metadata": {
    "collapsed": false
   },
   "outputs": [
    {
     "name": "stdout",
     "output_type": "stream",
     "text": [
      "\n",
      "Model Report\n",
      "Accuracy : 0.8866\n",
      "AUC Score (Train): 0.944279\n",
      "CV Score : Mean - 0.8966298 | Std - 0.0358353 | Min - 0.8262032 | Max - 0.9558824\n"
     ]
    },
    {
     "data": {
      "image/png": "[encoded data removed]",
      "text/plain": [
       "<matplotlib.figure.Figure at 0x12087b908>"
      ]
     },
     "metadata": {},
     "output_type": "display_data"
    }
   ],
   "source": [
    "#Choose all predictors except target & IDcols\n",
    "predictors = [x for x in df2.columns if x not in [response, IDcol, CabinID]]\n",
    "xgb1 = XGBClassifier(\n",
    " learning_rate =0.1,\n",
    " n_estimators=100,\n",
    " max_depth=5,\n",
    " min_child_weight=1,\n",
    " gamma=0,\n",
    " subsample=0.8,\n",
    " colsample_bytree=0.8,\n",
    " objective= 'binary:logistic',\n",
    " nthread=4,\n",
    " scale_pos_weight=1,\n",
    " silent = 0,\n",
    " seed=10)\n",
    "modelfit(xgb1, df2, predictors)"
   ]
  },
  {
   "cell_type": "code",
   "execution_count": 623,
   "metadata": {
    "collapsed": false
   },
   "outputs": [
    {
     "data": {
      "text/plain": [
       "([mean: 0.89413, std: 0.02839, params: {'n_estimators': 20},\n",
       "  mean: 0.89398, std: 0.03098, params: {'n_estimators': 30},\n",
       "  mean: 0.89389, std: 0.02884, params: {'n_estimators': 40},\n",
       "  mean: 0.89115, std: 0.03011, params: {'n_estimators': 50},\n",
       "  mean: 0.88954, std: 0.03133, params: {'n_estimators': 60},\n",
       "  mean: 0.88940, std: 0.03157, params: {'n_estimators': 70},\n",
       "  mean: 0.88849, std: 0.03232, params: {'n_estimators': 80},\n",
       "  mean: 0.88793, std: 0.03025, params: {'n_estimators': 90},\n",
       "  mean: 0.88865, std: 0.03086, params: {'n_estimators': 100},\n",
       "  mean: 0.88888, std: 0.03070, params: {'n_estimators': 110},\n",
       "  mean: 0.88843, std: 0.03103, params: {'n_estimators': 120},\n",
       "  mean: 0.88727, std: 0.03122, params: {'n_estimators': 130},\n",
       "  mean: 0.88618, std: 0.03148, params: {'n_estimators': 140},\n",
       "  mean: 0.88618, std: 0.03162, params: {'n_estimators': 150}],\n",
       " {'n_estimators': 20},\n",
       " 0.89413237409406943)"
      ]
     },
     "execution_count": 623,
     "metadata": {},
     "output_type": "execute_result"
    }
   ],
   "source": [
    "#Find optimum n_estimators for learning_rate = 0.1\n",
    "\n",
    "predictors = [x for x in df2.columns if x not in [response, IDcol, CabinID]]\n",
    "param_test0 = {'n_estimators':[20,30,40,50,60,70,80, 90, 100, 110,120,130,140,150]}\n",
    "\n",
    "gsearch1 = GridSearchCV(estimator = XGBClassifier( learning_rate =0.1, n_estimators=100, max_depth=5,\n",
    " min_child_weight=1, gamma=0, subsample=0.8, colsample_bytree=0.8,\n",
    " objective= 'binary:logistic', nthread=4, scale_pos_weight=1, seed=27), \n",
    " param_grid = param_test0, scoring='roc_auc', iid=False, cv=5)\n",
    "gsearch1.fit(df2[predictors],df2[response])\n",
    "\n",
    "gsearch1.grid_scores_, gsearch1.best_params_, gsearch1.best_score_"
   ]
  },
  {
   "cell_type": "code",
   "execution_count": 624,
   "metadata": {
    "collapsed": false
   },
   "outputs": [
    {
     "data": {
      "text/plain": [
       "([mean: 0.89413, std: 0.02839, params: {'n_estimators': 20},\n",
       "  mean: 0.89464, std: 0.03095, params: {'n_estimators': 25},\n",
       "  mean: 0.89398, std: 0.03098, params: {'n_estimators': 30},\n",
       "  mean: 0.89362, std: 0.02918, params: {'n_estimators': 35},\n",
       "  mean: 0.89389, std: 0.02884, params: {'n_estimators': 40}],\n",
       " {'n_estimators': 25},\n",
       " 0.89463535434117802)"
      ]
     },
     "execution_count": 624,
     "metadata": {},
     "output_type": "execute_result"
    }
   ],
   "source": [
    "#Further fine tune n_estimators\n",
    "predictors = [x for x in df2.columns if x not in [response, IDcol, CabinID]]\n",
    "param_test0 = {'n_estimators':[20,25,30,35,40]}\n",
    "\n",
    "gsearch1 = GridSearchCV(estimator = XGBClassifier( learning_rate =0.1, n_estimators=80, max_depth=5,\n",
    " min_child_weight=1, gamma=0, subsample=0.8, colsample_bytree=0.8,\n",
    " objective= 'binary:logistic', nthread=4, scale_pos_weight=1, seed=27), \n",
    " param_grid = param_test0, scoring='roc_auc', iid=False, cv=5)\n",
    "gsearch1.fit(df2[predictors],df2[response])\n",
    "\n",
    "gsearch1.grid_scores_, gsearch1.best_params_, gsearch1.best_score_"
   ]
  },
  {
   "cell_type": "code",
   "execution_count": 625,
   "metadata": {
    "collapsed": false
   },
   "outputs": [
    {
     "data": {
      "text/plain": [
       "([mean: 0.88571, std: 0.02902, params: {'max_depth': 20, 'min_child_weight': 5},\n",
       "  mean: 0.86424, std: 0.01524, params: {'max_depth': 20, 'min_child_weight': 15},\n",
       "  mean: 0.88571, std: 0.02902, params: {'max_depth': 20, 'min_child_weight': 5},\n",
       "  mean: 0.88571, std: 0.02902, params: {'max_depth': 60, 'min_child_weight': 5},\n",
       "  mean: 0.86424, std: 0.01524, params: {'max_depth': 60, 'min_child_weight': 15},\n",
       "  mean: 0.88571, std: 0.02902, params: {'max_depth': 60, 'min_child_weight': 5},\n",
       "  mean: 0.88571, std: 0.02902, params: {'max_depth': 20, 'min_child_weight': 5},\n",
       "  mean: 0.86424, std: 0.01524, params: {'max_depth': 20, 'min_child_weight': 15},\n",
       "  mean: 0.88571, std: 0.02902, params: {'max_depth': 20, 'min_child_weight': 5}],\n",
       " {'max_depth': 20, 'min_child_weight': 5},\n",
       " 0.88571303025325887)"
      ]
     },
     "execution_count": 625,
     "metadata": {},
     "output_type": "execute_result"
    }
   ],
   "source": [
    "#Tune nax_depth ad min_child_weight with n_estimators = 30\n",
    "predictors = [x for x in df2.columns if x not in [response, IDcol, CabinID]]\n",
    "param_test1 = {'max_depth':[20,60,20], 'min_child_weight': [5,15,5]}\n",
    "\n",
    "gsearch1 = GridSearchCV(estimator = XGBClassifier( learning_rate =0.1, n_estimators=30, max_depth=5,\n",
    " min_child_weight=1, gamma=0, subsample=0.8, colsample_bytree=0.8,\n",
    " objective= 'binary:logistic', nthread=4, scale_pos_weight=1, seed=27), \n",
    " param_grid = param_test1, scoring='roc_auc', iid=False, cv=5)\n",
    "gsearch1.fit(df2[predictors],df2[response])\n",
    "gsearch1.grid_scores_, gsearch1.best_params_, gsearch1.best_score_"
   ]
  },
  {
   "cell_type": "code",
   "execution_count": 626,
   "metadata": {
    "collapsed": false
   },
   "outputs": [
    {
     "data": {
      "text/plain": [
       "([mean: 0.89003, std: 0.03071, params: {'max_depth': 10, 'min_child_weight': 4},\n",
       "  mean: 0.88571, std: 0.02902, params: {'max_depth': 10, 'min_child_weight': 5},\n",
       "  mean: 0.88348, std: 0.02395, params: {'max_depth': 10, 'min_child_weight': 6},\n",
       "  mean: 0.89003, std: 0.03071, params: {'max_depth': 15, 'min_child_weight': 4},\n",
       "  mean: 0.88571, std: 0.02902, params: {'max_depth': 15, 'min_child_weight': 5},\n",
       "  mean: 0.88348, std: 0.02395, params: {'max_depth': 15, 'min_child_weight': 6},\n",
       "  mean: 0.89003, std: 0.03071, params: {'max_depth': 20, 'min_child_weight': 4},\n",
       "  mean: 0.88571, std: 0.02902, params: {'max_depth': 20, 'min_child_weight': 5},\n",
       "  mean: 0.88348, std: 0.02395, params: {'max_depth': 20, 'min_child_weight': 6},\n",
       "  mean: 0.89003, std: 0.03071, params: {'max_depth': 25, 'min_child_weight': 4},\n",
       "  mean: 0.88571, std: 0.02902, params: {'max_depth': 25, 'min_child_weight': 5},\n",
       "  mean: 0.88348, std: 0.02395, params: {'max_depth': 25, 'min_child_weight': 6},\n",
       "  mean: 0.89003, std: 0.03071, params: {'max_depth': 30, 'min_child_weight': 4},\n",
       "  mean: 0.88571, std: 0.02902, params: {'max_depth': 30, 'min_child_weight': 5},\n",
       "  mean: 0.88348, std: 0.02395, params: {'max_depth': 30, 'min_child_weight': 6},\n",
       "  mean: 0.89003, std: 0.03071, params: {'max_depth': 35, 'min_child_weight': 4},\n",
       "  mean: 0.88571, std: 0.02902, params: {'max_depth': 35, 'min_child_weight': 5},\n",
       "  mean: 0.88348, std: 0.02395, params: {'max_depth': 35, 'min_child_weight': 6}],\n",
       " {'max_depth': 10, 'min_child_weight': 4},\n",
       " 0.89003331314031953)"
      ]
     },
     "execution_count": 626,
     "metadata": {},
     "output_type": "execute_result"
    }
   ],
   "source": [
    "#Check max_depth and min_child_weight a little further\n",
    "predictors = [x for x in df2.columns if x not in [response, IDcol, CabinID]]\n",
    "param_test1 = {'max_depth':[10,15,20,25,30,35], 'min_child_weight': [4,5,6]}\n",
    "\n",
    "gsearch1 = GridSearchCV(estimator = XGBClassifier( learning_rate =0.1, n_estimators=30, max_depth=20,\n",
    " min_child_weight=5, gamma=0, subsample=0.8, colsample_bytree=0.8,\n",
    " objective= 'binary:logistic', nthread=4, scale_pos_weight=1, seed=27), \n",
    " param_grid = param_test1, scoring='roc_auc', iid=False, cv=5)\n",
    "gsearch1.fit(df2[predictors],df2[response])\n",
    "gsearch1.grid_scores_, gsearch1.best_params_, gsearch1.best_score_"
   ]
  },
  {
   "cell_type": "code",
   "execution_count": 627,
   "metadata": {
    "collapsed": false
   },
   "outputs": [
    {
     "data": {
      "text/plain": [
       "([mean: 0.89003, std: 0.03071, params: {'gamma': 0.0},\n",
       "  mean: 0.88948, std: 0.03105, params: {'gamma': 0.1},\n",
       "  mean: 0.88929, std: 0.03104, params: {'gamma': 0.2},\n",
       "  mean: 0.89082, std: 0.03170, params: {'gamma': 0.3},\n",
       "  mean: 0.89100, std: 0.03164, params: {'gamma': 0.4}],\n",
       " {'gamma': 0.4},\n",
       " 0.89100056739525046)"
      ]
     },
     "execution_count": 627,
     "metadata": {},
     "output_type": "execute_result"
    }
   ],
   "source": [
    "#Tune Gamma\n",
    "param_test3 = {\n",
    " 'gamma':[i/10.0 for i in range(0,5)]\n",
    "}\n",
    "gsearch3 = GridSearchCV(estimator = XGBClassifier( learning_rate =0.1, n_estimators=30, max_depth=10,\n",
    " min_child_weight=4, gamma=0, subsample=0.8, colsample_bytree=0.8,\n",
    " objective= 'binary:logistic', nthread=4, scale_pos_weight=1,seed=27), \n",
    " param_grid = param_test3, scoring='roc_auc',iid=False, cv=5)\n",
    "gsearch3.fit(df2[predictors],df2[response])\n",
    "gsearch3.grid_scores_, gsearch3.best_params_, gsearch3.best_score_"
   ]
  },
  {
   "cell_type": "code",
   "execution_count": 628,
   "metadata": {
    "collapsed": false
   },
   "outputs": [
    {
     "name": "stdout",
     "output_type": "stream",
     "text": [
      "\n",
      "Model Report\n",
      "Accuracy : 0.8575\n",
      "AUC Score (Train): 0.917109\n",
      "CV Score : Mean - 0.8821989 | Std - 0.03963934 | Min - 0.7983957 | Max - 0.9316449\n"
     ]
    },
    {
     "data": {
      "image/png": "[encoded data removed]",
      "text/plain": [
       "<matplotlib.figure.Figure at 0x1237ddac8>"
      ]
     },
     "metadata": {},
     "output_type": "display_data"
    }
   ],
   "source": [
    "#Re calibrate the model with optimal values determined so far\n",
    "predictors = [x for x in df2.columns if x not in [response, IDcol, CabinID]]\n",
    "xgb1 = XGBClassifier(\n",
    " learning_rate =0.1,\n",
    " n_estimators=30,\n",
    " max_depth=10,\n",
    " min_child_weight=4,\n",
    " gamma=0.2,\n",
    " subsample=0.8,\n",
    " colsample_bytree=0.8,\n",
    " objective= 'binary:logistic',\n",
    " nthread=4,\n",
    " scale_pos_weight=1,\n",
    " silent = 0,\n",
    " seed=10)\n",
    "modelfit(xgb1, df2, predictors)"
   ]
  },
  {
   "cell_type": "code",
   "execution_count": 629,
   "metadata": {
    "collapsed": false
   },
   "outputs": [
    {
     "data": {
      "text/plain": [
       "([mean: 0.88665, std: 0.02419, params: {'subsample': 0.6, 'colsample_bytree': 0.6},\n",
       "  mean: 0.88875, std: 0.02726, params: {'subsample': 0.7, 'colsample_bytree': 0.6},\n",
       "  mean: 0.89236, std: 0.03016, params: {'subsample': 0.8, 'colsample_bytree': 0.6},\n",
       "  mean: 0.89349, std: 0.02804, params: {'subsample': 0.9, 'colsample_bytree': 0.6},\n",
       "  mean: 0.88665, std: 0.02419, params: {'subsample': 0.6, 'colsample_bytree': 0.7},\n",
       "  mean: 0.88875, std: 0.02726, params: {'subsample': 0.7, 'colsample_bytree': 0.7},\n",
       "  mean: 0.89236, std: 0.03016, params: {'subsample': 0.8, 'colsample_bytree': 0.7},\n",
       "  mean: 0.89349, std: 0.02804, params: {'subsample': 0.9, 'colsample_bytree': 0.7},\n",
       "  mean: 0.88756, std: 0.02509, params: {'subsample': 0.6, 'colsample_bytree': 0.8},\n",
       "  mean: 0.88826, std: 0.02924, params: {'subsample': 0.7, 'colsample_bytree': 0.8},\n",
       "  mean: 0.88929, std: 0.03104, params: {'subsample': 0.8, 'colsample_bytree': 0.8},\n",
       "  mean: 0.88943, std: 0.03182, params: {'subsample': 0.9, 'colsample_bytree': 0.8},\n",
       "  mean: 0.88756, std: 0.02509, params: {'subsample': 0.6, 'colsample_bytree': 0.9},\n",
       "  mean: 0.88826, std: 0.02924, params: {'subsample': 0.7, 'colsample_bytree': 0.9},\n",
       "  mean: 0.88929, std: 0.03104, params: {'subsample': 0.8, 'colsample_bytree': 0.9},\n",
       "  mean: 0.88943, std: 0.03182, params: {'subsample': 0.9, 'colsample_bytree': 0.9}],\n",
       " {'colsample_bytree': 0.6, 'subsample': 0.9},\n",
       " 0.89349337007893048)"
      ]
     },
     "execution_count": 629,
     "metadata": {},
     "output_type": "execute_result"
    }
   ],
   "source": [
    "#Tune subsample and colsample_bytree\n",
    "param_test4 = {\n",
    " 'subsample':[i/10.0 for i in range(6,10)],\n",
    " 'colsample_bytree':[i/10.0 for i in range(6,10)]\n",
    "}\n",
    "gsearch3 = GridSearchCV(estimator = XGBClassifier( learning_rate =0.1, n_estimators=30, max_depth=10,\n",
    " min_child_weight=4, gamma=0.2, subsample=0.8, colsample_bytree=0.8,\n",
    " objective= 'binary:logistic', nthread=4, scale_pos_weight=1,seed=27), \n",
    " param_grid = param_test4, scoring='roc_auc',iid=False, cv=5)\n",
    "gsearch3.fit(df2[predictors],df2[response])\n",
    "gsearch3.grid_scores_, gsearch3.best_params_, gsearch3.best_score_"
   ]
  },
  {
   "cell_type": "code",
   "execution_count": 630,
   "metadata": {
    "collapsed": false
   },
   "outputs": [
    {
     "data": {
      "text/plain": [
       "([mean: 0.88875, std: 0.02726, params: {'subsample': 0.7, 'colsample_bytree': 0.6},\n",
       "  mean: 0.88875, std: 0.02726, params: {'subsample': 0.7, 'colsample_bytree': 0.7}],\n",
       " {'colsample_bytree': 0.6, 'subsample': 0.7},\n",
       " 0.88874923831809272)"
      ]
     },
     "execution_count": 630,
     "metadata": {},
     "output_type": "execute_result"
    }
   ],
   "source": [
    "#Redetermine subsample and colsample_bytree further\n",
    "param_test5 = {\n",
    " 'subsample':[i/10.0 for i in range(7,8,9)],\n",
    " 'colsample_bytree':[i/10.0 for i in range(6,8)]\n",
    "}\n",
    "gsearch5 = GridSearchCV(estimator = XGBClassifier( learning_rate =0.1, n_estimators=30, max_depth=10,\n",
    " min_child_weight=4, gamma=0.2, subsample=0.7, colsample_bytree=0.7,\n",
    " objective= 'binary:logistic', nthread=4, scale_pos_weight=1,seed=27), \n",
    " param_grid = param_test5, scoring='roc_auc',iid=False, cv=5)\n",
    "gsearch5.fit(df2[predictors],df2[response])\n",
    "gsearch5.grid_scores_, gsearch5.best_params_, gsearch5.best_score_"
   ]
  },
  {
   "cell_type": "code",
   "execution_count": 631,
   "metadata": {
    "collapsed": false
   },
   "outputs": [
    {
     "data": {
      "text/plain": [
       "([mean: 0.88875, std: 0.02726, params: {'reg_alpha': 1e-05},\n",
       "  mean: 0.88859, std: 0.02707, params: {'reg_alpha': 0.01},\n",
       "  mean: 0.88852, std: 0.02675, params: {'reg_alpha': 0.1},\n",
       "  mean: 0.88678, std: 0.02588, params: {'reg_alpha': 1},\n",
       "  mean: 0.77851, std: 0.02937, params: {'reg_alpha': 100}],\n",
       " {'reg_alpha': 1e-05},\n",
       " 0.88874923831809272)"
      ]
     },
     "execution_count": 631,
     "metadata": {},
     "output_type": "execute_result"
    }
   ],
   "source": [
    "#Tune regularization parameters\n",
    "#Alpha\n",
    "param_test6 = {'reg_alpha':[1e-5, 1e-2, 0.1, 1, 100]}\n",
    "\n",
    "gsearch6 = GridSearchCV(estimator = XGBClassifier( learning_rate =0.1, n_estimators=30, max_depth=10,\n",
    " min_child_weight=4, gamma=0.2, subsample=0.7, colsample_bytree=0.7,\n",
    " objective= 'binary:logistic', nthread=4, scale_pos_weight=1,seed=27), \n",
    " param_grid = param_test6, scoring='roc_auc',iid=False, cv=5)\n",
    "gsearch6.fit(df2[predictors],df2[response])\n",
    "gsearch6.grid_scores_, gsearch6.best_params_, gsearch6.best_score_"
   ]
  },
  {
   "cell_type": "code",
   "execution_count": 632,
   "metadata": {
    "collapsed": false
   },
   "outputs": [
    {
     "data": {
      "text/plain": [
       "([mean: 0.88883, std: 0.02708, params: {'reg_alpha': 0.005},\n",
       "  mean: 0.88854, std: 0.02726, params: {'reg_alpha': 0.008},\n",
       "  mean: 0.88859, std: 0.02707, params: {'reg_alpha': 0.01},\n",
       "  mean: 0.88853, std: 0.02688, params: {'reg_alpha': 0.02},\n",
       "  mean: 0.88897, std: 0.02650, params: {'reg_alpha': 0.05}],\n",
       " {'reg_alpha': 0.05},\n",
       " 0.88897157833289597)"
      ]
     },
     "execution_count": 632,
     "metadata": {},
     "output_type": "execute_result"
    }
   ],
   "source": [
    "#Re tune reg_alpha\n",
    "param_test6 = {'reg_alpha':[0.005, 0.008, 0.01, 0.02,0.05]}\n",
    "\n",
    "gsearch6 = GridSearchCV(estimator = XGBClassifier( learning_rate =0.1, n_estimators=30, max_depth=10,\n",
    " min_child_weight=4, gamma=0.2, subsample=0.7, colsample_bytree=0.6,\n",
    " objective= 'binary:logistic', nthread=4, scale_pos_weight=1,seed=27), \n",
    " param_grid = param_test6, scoring='roc_auc',iid=False, cv=5)\n",
    "gsearch6.fit(df2[predictors],df2[response])\n",
    "gsearch6.grid_scores_, gsearch6.best_params_, gsearch6.best_score_"
   ]
  },
  {
   "cell_type": "code",
   "execution_count": 633,
   "metadata": {
    "collapsed": false
   },
   "outputs": [
    {
     "data": {
      "text/plain": [
       "([mean: 0.89003, std: 0.02805, params: {'reg_lambda': 0.0008},\n",
       "  mean: 0.89003, std: 0.02805, params: {'reg_lambda': 0.0009},\n",
       "  mean: 0.89003, std: 0.02805, params: {'reg_lambda': 0.001},\n",
       "  mean: 0.89003, std: 0.02805, params: {'reg_lambda': 0.002},\n",
       "  mean: 0.89003, std: 0.02805, params: {'reg_lambda': 0.003}],\n",
       " {'reg_lambda': 0.0008},\n",
       " 0.89002652288387518)"
      ]
     },
     "execution_count": 633,
     "metadata": {},
     "output_type": "execute_result"
    }
   ],
   "source": [
    "#Tune regularization parameters\n",
    "#Tune reg-lambda\n",
    "param_test6 = {'reg_lambda':[0.0008, 0.0009, 0.001, 0.002, 0.003]}\n",
    "\n",
    "gsearch6 = GridSearchCV(estimator = XGBClassifier( learning_rate =0.1, n_estimators=30, max_depth=10,\n",
    " min_child_weight=4, gamma=0.2, subsample=0.7, colsample_bytree=0.6,\n",
    " objective= 'binary:logistic', reg_alpha = 0.005, nthread=4, scale_pos_weight=1,seed=27), \n",
    " param_grid = param_test6, scoring='roc_auc',iid=False, cv=5)\n",
    "gsearch6.fit(df2[predictors],df2[response])\n",
    "gsearch6.grid_scores_, gsearch6.best_params_, gsearch6.best_score_"
   ]
  },
  {
   "cell_type": "code",
   "execution_count": 634,
   "metadata": {
    "collapsed": false
   },
   "outputs": [
    {
     "data": {
      "text/plain": [
       "([mean: 0.89003, std: 0.02805, params: {'reg_lambda': 0.002},\n",
       "  mean: 0.89003, std: 0.02805, params: {'reg_lambda': 0.003},\n",
       "  mean: 0.88995, std: 0.02792, params: {'reg_lambda': 0.004}],\n",
       " {'reg_lambda': 0.002},\n",
       " 0.89002652288387518)"
      ]
     },
     "execution_count": 634,
     "metadata": {},
     "output_type": "execute_result"
    }
   ],
   "source": [
    "#Further tune the lambda\n",
    "param_test6 = {'reg_lambda':[0.002, 0.003, 0.004]}\n",
    "\n",
    "gsearch6 = GridSearchCV(estimator = XGBClassifier( learning_rate =0.1, n_estimators=30, max_depth=10,\n",
    " min_child_weight=4, gamma=0.2, subsample=0.7, colsample_bytree=0.6,\n",
    " objective= 'binary:logistic', reg_alpha = 0.005, nthread=4, scale_pos_weight=1,seed=27), \n",
    " param_grid = param_test6, scoring='roc_auc',iid=False, cv=5)\n",
    "gsearch6.fit(df2[predictors],df2[response])\n",
    "gsearch6.grid_scores_, gsearch6.best_params_, gsearch6.best_score_"
   ]
  },
  {
   "cell_type": "code",
   "execution_count": 635,
   "metadata": {
    "collapsed": false
   },
   "outputs": [
    {
     "name": "stdout",
     "output_type": "stream",
     "text": [
      "\n",
      "Model Report\n",
      "Accuracy : 0.8664\n",
      "AUC Score (Train): 0.917924\n",
      "CV Score : Mean - 0.8949082 | Std - 0.04419793 | Min - 0.7893048 | Max - 0.9524064\n"
     ]
    },
    {
     "data": {
      "image/png": "[encoded data removed]",
      "text/plain": [
       "<matplotlib.figure.Figure at 0x123bef3c8>"
      ]
     },
     "metadata": {},
     "output_type": "display_data"
    }
   ],
   "source": [
    "#Re calibrate the model\n",
    "predictors = [x for x in df2.columns if x not in [response, IDcol, CabinID]]\n",
    "xgb1 = XGBClassifier(\n",
    " learning_rate =0.1,\n",
    " n_estimators=30,\n",
    " max_depth=10,\n",
    " min_child_weight=4,\n",
    " gamma=0.2,\n",
    " subsample=0.7,\n",
    " colsample_bytree=0.6,\n",
    " objective= 'binary:logistic',\n",
    " nthread=4,\n",
    " scale_pos_weight=1,\n",
    " silent = 0,\n",
    " #reg_alpha = 0.002,\n",
    " #reg_lambda = 0.003,\n",
    " seed=10)\n",
    "modelfit(xgb1, df2, predictors)"
   ]
  },
  {
   "cell_type": "code",
   "execution_count": 668,
   "metadata": {
    "collapsed": false
   },
   "outputs": [
    {
     "name": "stderr",
     "output_type": "stream",
     "text": [
      "/Users/suvojitdutta/anaconda/lib/python3.5/site-packages/ipykernel/__main__.py:6: SettingWithCopyWarning: \n",
      "A value is trying to be set on a copy of a slice from a DataFrame.\n",
      "Try using .loc[row_indexer,col_indexer] = value instead\n",
      "\n",
      "See the caveats in the documentation: http://pandas.pydata.org/pandas-docs/stable/indexing.html#indexing-view-versus-copy\n"
     ]
    },
    {
     "name": "stdout",
     "output_type": "stream",
     "text": [
      "\n",
      "Model Report\n",
      "Accuracy : 0.8732\n",
      "AUC Score (Train): 0.931169\n",
      "CV Score : Mean - 0.900399 | Std - 0.03962874 | Min - 0.813369 | Max - 0.9574866\n"
     ]
    },
    {
     "data": {
      "image/png": "[encoded data removed]",
      "text/plain": [
       "<matplotlib.figure.Figure at 0x11b9f43c8>"
      ]
     },
     "metadata": {},
     "output_type": "display_data"
    }
   ],
   "source": [
    "#Do some permu combi with learning rate and n_estimators and track the scores\n",
    "predictors = [x for x in df2.columns if x not in [response, IDcol, CabinID]]\n",
    "xgb1 = XGBClassifier(\n",
    " learning_rate =0.01,\n",
    " n_estimators=695,\n",
    " max_depth=10,\n",
    " min_child_weight=4,\n",
    " gamma=0.2,\n",
    " subsample=0.7,\n",
    " colsample_bytree=0.6,\n",
    " objective= 'binary:logistic',\n",
    " nthread=4,\n",
    " scale_pos_weight=1,\n",
    " silent = 0,\n",
    " #reg_alpha = 1e-10,\n",
    " #reg_lambda = 0.002,\n",
    " seed=10)\n",
    "modelfit(xgb1, df2, predictors)"
   ]
  },
  {
   "cell_type": "code",
   "execution_count": 669,
   "metadata": {
    "collapsed": false
   },
   "outputs": [
    {
     "name": "stderr",
     "output_type": "stream",
     "text": [
      "/Users/suvojitdutta/anaconda/lib/python3.5/site-packages/ipykernel/__main__.py:4: SettingWithCopyWarning: \n",
      "A value is trying to be set on a copy of a slice from a DataFrame.\n",
      "Try using .loc[row_indexer,col_indexer] = value instead\n",
      "\n",
      "See the caveats in the documentation: http://pandas.pydata.org/pandas-docs/stable/indexing.html#indexing-view-versus-copy\n",
      "/Users/suvojitdutta/anaconda/lib/python3.5/site-packages/ipykernel/__main__.py:5: SettingWithCopyWarning: \n",
      "A value is trying to be set on a copy of a slice from a DataFrame.\n",
      "Try using .loc[row_indexer,col_indexer] = value instead\n",
      "\n",
      "See the caveats in the documentation: http://pandas.pydata.org/pandas-docs/stable/indexing.html#indexing-view-versus-copy\n",
      "/Users/suvojitdutta/anaconda/lib/python3.5/site-packages/ipykernel/__main__.py:6: SettingWithCopyWarning: \n",
      "A value is trying to be set on a copy of a slice from a DataFrame.\n",
      "Try using .loc[row_indexer,col_indexer] = value instead\n",
      "\n",
      "See the caveats in the documentation: http://pandas.pydata.org/pandas-docs/stable/indexing.html#indexing-view-versus-copy\n"
     ]
    }
   ],
   "source": [
    "#Extract the test data and standardize as per the model input data\n",
    "df_test = pd.read_csv(\"/Users/suvojitdutta/Documents/PYTHON/Files/Titanic/kaggle_test.csv\", encoding = \"ISO-8859-1\", error_bad_lines=False)\n",
    "df_test1 = df_test[['pclass', 'sex', 'age', 'sibsp', 'parch', 'cabin', 'embarked']]\n",
    "df_test1['embarkedPort'] = df_test1.embarked.apply(getEmbarkedLocation)\n",
    "df_test1['relations'] = df_test1.apply(lambda row: findRelations(row), axis=1)\n",
    "df_test1['CabinID'] = df_test1.cabin.apply(getCabinID)\n",
    "df_test2 = df_test1[['pclass', 'sex', 'age', 'CabinID', 'embarkedPort', 'relations']]\n"
   ]
  },
  {
   "cell_type": "code",
   "execution_count": 670,
   "metadata": {
    "collapsed": false
   },
   "outputs": [
    {
     "data": {
      "text/plain": [
       "passengerId      0\n",
       "pclass           0\n",
       "name             0\n",
       "sex              0\n",
       "age             86\n",
       "sibsp            0\n",
       "parch            0\n",
       "ticket           0\n",
       "fare             1\n",
       "cabin          327\n",
       "embarked         0\n",
       "dtype: int64"
      ]
     },
     "execution_count": 670,
     "metadata": {},
     "output_type": "execute_result"
    }
   ],
   "source": [
    "#Build null report on the test data\n",
    "df_test.apply(num_missing, axis=0)"
   ]
  },
  {
   "cell_type": "code",
   "execution_count": 671,
   "metadata": {
    "collapsed": false
   },
   "outputs": [
    {
     "data": {
      "text/plain": [
       "(266, 11)"
      ]
     },
     "execution_count": 671,
     "metadata": {},
     "output_type": "execute_result"
    }
   ],
   "source": [
    "#Use boolean indexing to get the male age mean, median, mode\n",
    "df_test_male = df_test.loc[(df_test[\"sex\"]=='male')]\n",
    "df_test_male.shape"
   ]
  },
  {
   "cell_type": "code",
   "execution_count": 672,
   "metadata": {
    "collapsed": false
   },
   "outputs": [
    {
     "data": {
      "text/plain": [
       "30.27273170731707"
      ]
     },
     "execution_count": 672,
     "metadata": {},
     "output_type": "execute_result"
    }
   ],
   "source": [
    "df_test_male.age.mean()"
   ]
  },
  {
   "cell_type": "code",
   "execution_count": 673,
   "metadata": {
    "collapsed": false
   },
   "outputs": [],
   "source": [
    "male_median_age = df_test_male.age.median()"
   ]
  },
  {
   "cell_type": "code",
   "execution_count": 674,
   "metadata": {
    "collapsed": false
   },
   "outputs": [
    {
     "data": {
      "text/plain": [
       "(152, 11)"
      ]
     },
     "execution_count": 674,
     "metadata": {},
     "output_type": "execute_result"
    }
   ],
   "source": [
    "#Use boolean indexing to get the female age mean, median, mode\n",
    "df_test_female = df_test.loc[(df_test[\"sex\"]=='female')]\n",
    "df_test_female.shape"
   ]
  },
  {
   "cell_type": "code",
   "execution_count": 675,
   "metadata": {
    "collapsed": false
   },
   "outputs": [],
   "source": [
    "female_median_age = df_test_female.age.median()"
   ]
  },
  {
   "cell_type": "code",
   "execution_count": 676,
   "metadata": {
    "collapsed": false
   },
   "outputs": [
    {
     "data": {
      "text/plain": [
       "(86, 11)"
      ]
     },
     "execution_count": 676,
     "metadata": {},
     "output_type": "execute_result"
    }
   ],
   "source": [
    "#Use boolean indexing to filter the data with age = Null\n",
    "df_test_null_age = df_test.loc[(df_test[\"age\"].isnull())]\n",
    "df_test_null_age.shape"
   ]
  },
  {
   "cell_type": "code",
   "execution_count": 677,
   "metadata": {
    "collapsed": false
   },
   "outputs": [
    {
     "name": "stderr",
     "output_type": "stream",
     "text": [
      "/Users/suvojitdutta/anaconda/lib/python3.5/site-packages/ipykernel/__main__.py:2: UserWarning: Boolean Series key will be reindexed to match DataFrame index.\n",
      "  from ipykernel import kernelapp as app\n"
     ]
    },
    {
     "data": {
      "text/plain": [
       "(61, 11)"
      ]
     },
     "execution_count": 677,
     "metadata": {},
     "output_type": "execute_result"
    }
   ],
   "source": [
    "#Impute male with null age with male median age with not null ages\n",
    "df_test_null_age_male = df_test_null_age[(df_test[\"sex\"]=='male')]\n",
    "df_test_null_age_male.shape"
   ]
  },
  {
   "cell_type": "code",
   "execution_count": 678,
   "metadata": {
    "collapsed": true
   },
   "outputs": [],
   "source": [
    "#Function to calculate null age for male and female with null ages\n",
    "def fillNullAge_test(row):\n",
    "#    x=float('nan')\n",
    "\n",
    "    if math.isnan(row.age):\n",
    "#    if row.age.isnull():\n",
    "        if (row.sex in ['male']) :\n",
    "            output = male_median_age\n",
    "        else :\n",
    "            output = female_median_age\n",
    "    else:\n",
    "        output = row.age\n",
    "\n",
    "    return output\n",
    "\n"
   ]
  },
  {
   "cell_type": "code",
   "execution_count": 679,
   "metadata": {
    "collapsed": false
   },
   "outputs": [],
   "source": [
    "#Feed the dataframe df_test through the function above to impute null ages with male and female median ages\n",
    "df_test['age'] = df_test.apply(lambda row: fillNullAge_test(row), axis=1)\n"
   ]
  },
  {
   "cell_type": "code",
   "execution_count": 680,
   "metadata": {
    "collapsed": false
   },
   "outputs": [],
   "source": [
    "#Now lets check cabin. Build the CabinID\n",
    "df_test['CabinID'] = df_test.cabin.apply(getCabinID)\n"
   ]
  },
  {
   "cell_type": "code",
   "execution_count": 681,
   "metadata": {
    "collapsed": false
   },
   "outputs": [],
   "source": [
    "#Check relations data / impute relations data\n",
    "df_test['relations'] = df_test.apply(lambda row: findRelations(row), axis=1)\n"
   ]
  },
  {
   "cell_type": "code",
   "execution_count": 682,
   "metadata": {
    "collapsed": true
   },
   "outputs": [],
   "source": [
    "df_test['embarkedPort'] = df_test.embarked.apply(getEmbarkedLocation)"
   ]
  },
  {
   "cell_type": "code",
   "execution_count": 683,
   "metadata": {
    "collapsed": false
   },
   "outputs": [
    {
     "data": {
      "text/plain": [
       "passengerId       0\n",
       "pclass            0\n",
       "name              0\n",
       "sex               0\n",
       "age               0\n",
       "sibsp             0\n",
       "parch             0\n",
       "ticket            0\n",
       "fare              1\n",
       "cabin           327\n",
       "embarked          0\n",
       "CabinID           0\n",
       "relations         0\n",
       "embarkedPort      0\n",
       "dtype: int64"
      ]
     },
     "execution_count": 683,
     "metadata": {},
     "output_type": "execute_result"
    }
   ],
   "source": [
    "df_test.apply(num_missing, axis=0)"
   ]
  },
  {
   "cell_type": "code",
   "execution_count": 684,
   "metadata": {
    "collapsed": false
   },
   "outputs": [
    {
     "data": {
      "text/plain": [
       "(418, 14)"
      ]
     },
     "execution_count": 684,
     "metadata": {},
     "output_type": "execute_result"
    }
   ],
   "source": [
    "df_test.shape\n"
   ]
  },
  {
   "cell_type": "code",
   "execution_count": 685,
   "metadata": {
    "collapsed": false
   },
   "outputs": [],
   "source": [
    "#Create df_test2\n",
    "df_test2 = df_test[['pclass', 'sex', 'age',  'embarkedPort', 'relations']]\n"
   ]
  },
  {
   "cell_type": "code",
   "execution_count": 686,
   "metadata": {
    "collapsed": true
   },
   "outputs": [],
   "source": [
    "#Save the result in csv file\n",
    "df_test2.to_csv(\"/Users/suvojitdutta/Documents/PYTHON/Files/Titanic/kaggle_test_upd.csv\", sep=',', encoding = \"ISO-8859-1\")"
   ]
  },
  {
   "cell_type": "code",
   "execution_count": 687,
   "metadata": {
    "collapsed": false
   },
   "outputs": [
    {
     "data": {
      "text/plain": [
       "(418, 5)"
      ]
     },
     "execution_count": 687,
     "metadata": {},
     "output_type": "execute_result"
    }
   ],
   "source": [
    "#lets take the mean mode and median for age\n",
    "df_test2.shape"
   ]
  },
  {
   "cell_type": "markdown",
   "metadata": {},
   "source": [
    "##### Run the model with new observations"
   ]
  },
  {
   "cell_type": "code",
   "execution_count": 688,
   "metadata": {
    "collapsed": false
   },
   "outputs": [
    {
     "name": "stderr",
     "output_type": "stream",
     "text": [
      "/Users/suvojitdutta/anaconda/lib/python3.5/site-packages/ipykernel/__main__.py:15: SettingWithCopyWarning: \n",
      "A value is trying to be set on a copy of a slice from a DataFrame.\n",
      "Try using .loc[row_indexer,col_indexer] = value instead\n",
      "\n",
      "See the caveats in the documentation: http://pandas.pydata.org/pandas-docs/stable/indexing.html#indexing-view-versus-copy\n"
     ]
    }
   ],
   "source": [
    "#Preprocess new data with label encoding\n",
    "\n",
    "from sklearn.preprocessing import LabelEncoder\n",
    "le = LabelEncoder()\n",
    "var_mod = ['pclass', 'sex', 'age',  'embarkedPort', 'relations']\n",
    "\n",
    "#df_test = pd.read_csv(\"/Users/suvojitdutta/Documents/PYTHON/Files/Titanic/titanic_test.csv\", encoding = \"ISO-8859-1\", error_bad_lines=False)\n",
    "#dict = {'pclass': 2, 'sex': 'male', 'age': 24, 'CabinID': 'A', 'embarkedPort': 'Southampton', 'relations': 'None'}\n",
    "#df_test = pd.DataFrame([dict])\n",
    "\n",
    "for i in var_mod:\n",
    "    if df_test2[i].dtypes=='object':\n",
    "        data=df3[i].append(df_test2[i])\n",
    "        le.fit(data.values)\n",
    "        df_test2[i] = le.transform(df_test2[i])\n",
    "\n",
    "\n",
    "\n"
   ]
  },
  {
   "cell_type": "code",
   "execution_count": 689,
   "metadata": {
    "collapsed": false
   },
   "outputs": [
    {
     "name": "stdout",
     "output_type": "stream",
     "text": [
      "[1 1 0 0 0 0 0 0 1 0 0 0 1 0 1 1 1 0 0 1 0 1 1 0 1 0 1 0 0 0 0 0 0 0 0 0 0\n",
      " 1 0 0 0 0 0 0 1 0 0 0 1 1 0 0 0 1 0 0 0 0 0 1 0 0 0 1 1 0 1 0 0 1 1 0 0 0\n",
      " 1 0 0 1 0 1 1 0 0 0 0 0 1 0 1 0 0 0 1 0 0 0 1 0 1 0 1 0 0 0 0 0 0 0 0 0 0\n",
      " 1 1 1 1 0 0 0 1 0 1 0 1 0 0 1 0 1 0 0 0 0 1 0 0 0 0 0 0 0 0 1 0 0 0 0 0 0\n",
      " 0 0 1 0 0 1 0 0 1 0 0 1 1 1 0 0 0 0 0 0 1 1 0 0 0 0 0 1 1 0 1 1 0 0 1 0 1\n",
      " 0 1 0 0 0 0 0 0 0 1 0 1 0 0 0 1 1 0 0 0 0 1 0 1 0 0 0 0 0 0 0 1 0 1 0 1 0\n",
      " 1 0 1 1 0 1 0 0 0 1 0 0 0 0 0 0 0 1 1 1 0 0 0 0 1 0 0 1 0 0 0 0 0 0 0 0 1\n",
      " 0 0 0 1 0 0 0 0 0 0 0 0 0 1 1 0 1 0 0 0 0 0 0 1 1 0 0 0 0 0 0 0 0 0 0 0 0\n",
      " 1 0 0 0 0 0 0 0 1 1 0 1 0 1 0 0 0 0 1 1 0 0 0 0 0 0 0 0 1 0 0 0 0 0 1 0 0\n",
      " 0 0 0 0 0 0 0 0 0 0 1 0 0 0 1 0 0 1 0 0 0 0 0 1 0 0 0 0 1 0 0 1 0 0 1 1 0\n",
      " 0 1 0 0 1 1 0 0 0 0 0 0 0 0 0 0 0 0 0 0 0 1 0 0 0 1 0 1 0 0 1 0 1 0 0 0 0\n",
      " 0 1 0 1 1 1 0 1 0 0 0]\n"
     ]
    }
   ],
   "source": [
    "#Run the model for prediction\n",
    "\n",
    "#Run with XGB Model\n",
    "#predicted= xgb1.predict(df_test2[0:])\n",
    "\n",
    "#Run with GBM model\n",
    "predicted= xgb1.predict(df_test2[0:])\n",
    "\n",
    "#Convert the list of outcome in to a pandas dataframe\n",
    "df_outcome = pd.DataFrame(predicted, columns=[\"survived\"])\n",
    "\n",
    "print (predicted)\n",
    "\n",
    "\n",
    "\n",
    "\n"
   ]
  },
  {
   "cell_type": "code",
   "execution_count": 690,
   "metadata": {
    "collapsed": false
   },
   "outputs": [],
   "source": [
    "#Add the outcome 'survived' column to the original test file,\n",
    "#df_test_orig = pd.read_csv(\"/Users/suvojitdutta/Documents/PYTHON/Files/Titanic/kaggle_test.csv\", encoding = \"ISO-8859-1\", error_bad_lines=False)\n",
    "\n",
    "df_test_with_outcome = df_test.merge(right=df_outcome, how='inner', left_index=True, right_index=True, sort=False)\n",
    "\n",
    "df_test_with_outcome.to_csv(\"/Users/suvojitdutta/Documents/PYTHON/Files/Titanic/kaggle_test_final.csv\", sep=',', encoding = \"ISO-8859-1\")\n"
   ]
  },
  {
   "cell_type": "code",
   "execution_count": 691,
   "metadata": {
    "collapsed": false
   },
   "outputs": [],
   "source": [
    "#Create the dataframe ready for upload to Kaggle \n",
    "df_for_kaggle_upload = df_test_with_outcome[['passengerId', 'pclass', 'name', 'sex', 'age', 'sibsp', 'parch', 'ticket', 'fare', 'cabin', 'embarked', 'survived']]\n",
    "df_for_kaggle_upload.to_csv(\"/Users/suvojitdutta/Documents/PYTHON/Files/Titanic/kaggle_for_upload.csv\", sep=',', encoding = \"ISO-8859-1\")\n",
    "\n",
    "df_final_outcome_for_upload = df_for_kaggle_upload[['passengerId', 'survived']]\n",
    "df_final_outcome_for_upload.to_csv(\"/Users/suvojitdutta/Documents/PYTHON/Files/Titanic/kaggle_final_outcome.csv\", sep=',', encoding = \"ISO-8859-1\")\n",
    "\n"
   ]
  },
  {
   "cell_type": "markdown",
   "metadata": {},
   "source": [
    "# Save the model; Load the saved model"
   ]
  },
  {
   "cell_type": "code",
   "execution_count": 146,
   "metadata": {
    "collapsed": false
   },
   "outputs": [
    {
     "ename": "NameError",
     "evalue": "name 'X_test' is not defined",
     "output_type": "error",
     "traceback": [
      "\u001b[0;31m---------------------------------------------------------------------------\u001b[0m",
      "\u001b[0;31mNameError\u001b[0m                                 Traceback (most recent call last)",
      "\u001b[0;32m<ipython-input-146-85d9fefadc86>\u001b[0m in \u001b[0;36m<module>\u001b[0;34m()\u001b[0m\n\u001b[1;32m     10\u001b[0m \u001b[0;31m# load the model from disk\u001b[0m\u001b[0;34m\u001b[0m\u001b[0;34m\u001b[0m\u001b[0m\n\u001b[1;32m     11\u001b[0m \u001b[0mloaded_model\u001b[0m \u001b[0;34m=\u001b[0m \u001b[0mpickle\u001b[0m\u001b[0;34m.\u001b[0m\u001b[0mload\u001b[0m\u001b[0;34m(\u001b[0m\u001b[0mopen\u001b[0m\u001b[0;34m(\u001b[0m\u001b[0mfilename\u001b[0m\u001b[0;34m,\u001b[0m \u001b[0;34m'rb'\u001b[0m\u001b[0;34m)\u001b[0m\u001b[0;34m)\u001b[0m\u001b[0;34m\u001b[0m\u001b[0m\n\u001b[0;32m---> 12\u001b[0;31m \u001b[0mresult\u001b[0m \u001b[0;34m=\u001b[0m \u001b[0mloaded_model\u001b[0m\u001b[0;34m.\u001b[0m\u001b[0mscore\u001b[0m\u001b[0;34m(\u001b[0m\u001b[0mX_test\u001b[0m\u001b[0;34m,\u001b[0m \u001b[0mY_test\u001b[0m\u001b[0;34m)\u001b[0m\u001b[0;34m\u001b[0m\u001b[0m\n\u001b[0m\u001b[1;32m     13\u001b[0m \u001b[0mprint\u001b[0m\u001b[0;34m(\u001b[0m\u001b[0mresult\u001b[0m\u001b[0;34m)\u001b[0m\u001b[0;34m\u001b[0m\u001b[0m\n",
      "\u001b[0;31mNameError\u001b[0m: name 'X_test' is not defined"
     ]
    }
   ],
   "source": [
    "# Save Model Using Pickle\n",
    "import pandas\n",
    "import pickle\n",
    "\n",
    "# save the model to disk\n",
    "filename = \"/Users/suvojitdutta/Documents/PYTHON/Files/Titanic/titanic_model.sav\"\n",
    "\n",
    "pickle.dump(xgb1, open(filename, 'wb'))\n",
    " \n",
    "# load the model from disk\n",
    "loaded_model = pickle.load(open(filename, 'rb'))\n",
    "result = loaded_model.score(X_test, Y_test)\n",
    "print(result)"
   ]
  },
  {
   "cell_type": "code",
   "execution_count": null,
   "metadata": {
    "collapsed": true
   },
   "outputs": [],
   "source": []
  }
 ],
 "metadata": {
  "anaconda-cloud": {},
  "kernelspec": {
   "display_name": "Python [Root]",
   "language": "python",
   "name": "Python [Root]"
  },
  "language_info": {
   "codemirror_mode": {
    "name": "ipython",
    "version": 3
   },
   "file_extension": ".py",
   "mimetype": "text/x-python",
   "name": "python",
   "nbconvert_exporter": "python",
   "pygments_lexer": "ipython3",
   "version": "3.5.2"
  }
 },
 "nbformat": 4,
 "nbformat_minor": 0
}
